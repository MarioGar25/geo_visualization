{
 "cells": [
  {
   "cell_type": "markdown",
   "metadata": {},
   "source": [
    "### Intro to Folium "
   ]
  },
  {
   "cell_type": "markdown",
   "metadata": {},
   "source": [
    "![mapa](images/geo_portada.jpg)"
   ]
  },
  {
   "cell_type": "markdown",
   "metadata": {},
   "source": [
    "Lo primerito será siempre leer la documentación ¿no? PLS :cobete: :músculo: :fueguito: \n",
    "- https://python-visualization.github.io/folium/"
   ]
  },
  {
   "cell_type": "code",
   "execution_count": 1,
   "metadata": {},
   "outputs": [
    {
     "name": "stdout",
     "output_type": "stream",
     "text": [
      "Requirement already satisfied: folium in c:\\users\\magar\\anaconda3\\lib\\site-packages (0.12.1)\n",
      "Requirement already satisfied: requests in c:\\users\\magar\\anaconda3\\lib\\site-packages (from folium) (2.24.0)\n",
      "Requirement already satisfied: branca>=0.3.0 in c:\\users\\magar\\anaconda3\\lib\\site-packages (from folium) (0.4.2)\n",
      "Requirement already satisfied: jinja2>=2.9 in c:\\users\\magar\\anaconda3\\lib\\site-packages (from folium) (2.11.2)\n",
      "Requirement already satisfied: numpy in c:\\users\\magar\\anaconda3\\lib\\site-packages (from folium) (1.19.2)\n",
      "Requirement already satisfied: MarkupSafe>=0.23 in c:\\users\\magar\\anaconda3\\lib\\site-packages (from jinja2>=2.9->folium) (1.1.1)\n",
      "Requirement already satisfied: certifi>=2017.4.17 in c:\\users\\magar\\anaconda3\\lib\\site-packages (from requests->folium) (2020.6.20)\n",
      "Requirement already satisfied: urllib3!=1.25.0,!=1.25.1,<1.26,>=1.21.1 in c:\\users\\magar\\anaconda3\\lib\\site-packages (from requests->folium) (1.25.11)\n",
      "Requirement already satisfied: idna<3,>=2.5 in c:\\users\\magar\\anaconda3\\lib\\site-packages (from requests->folium) (2.10)\n",
      "Requirement already satisfied: chardet<4,>=3.0.2 in c:\\users\\magar\\anaconda3\\lib\\site-packages (from requests->folium) (3.0.4)\n"
     ]
    },
    {
     "name": "stderr",
     "output_type": "stream",
     "text": [
      "WARNING: You are using pip version 20.3.3; however, version 21.0 is available.\n",
      "You should consider upgrading via the 'c:\\users\\magar\\anaconda3\\python.exe -m pip install --upgrade pip' command.\n"
     ]
    }
   ],
   "source": [
    "!pip3 install folium"
   ]
  },
  {
   "cell_type": "code",
   "execution_count": 3,
   "metadata": {},
   "outputs": [],
   "source": [
    "import folium\n",
    "from folium import Choropleth, Circle, Marker, Icon, Map\n",
    "from folium.plugins import HeatMap, MarkerCluster\n",
    "import pandas as pd"
   ]
  },
  {
   "cell_type": "code",
   "execution_count": 2,
   "metadata": {},
   "outputs": [],
   "source": [
    "inicial_lat = 40.4143851\n",
    "inicial_long = -3.6820241"
   ]
  },
  {
   "cell_type": "markdown",
   "metadata": {},
   "source": [
    "### Primerito Mapa "
   ]
  },
  {
   "cell_type": "markdown",
   "metadata": {},
   "source": [
    "Creamos un mapa básico a raíz de unas coordenadas con un zoom inicial"
   ]
  },
  {
   "cell_type": "code",
   "execution_count": 3,
   "metadata": {},
   "outputs": [
    {
     "data": {
      "text/html": [
       "<div style=\"width:100%;\"><div style=\"position:relative;width:100%;height:0;padding-bottom:60%;\"><span style=\"color:#565656\">Make this Notebook Trusted to load map: File -> Trust Notebook</span><iframe src=\"about:blank\" style=\"position:absolute;width:100%;height:100%;left:0;top:0;border:none !important;\" data-html=%3C%21DOCTYPE%20html%3E%0A%3Chead%3E%20%20%20%20%0A%20%20%20%20%3Cmeta%20http-equiv%3D%22content-type%22%20content%3D%22text/html%3B%20charset%3DUTF-8%22%20/%3E%0A%20%20%20%20%0A%20%20%20%20%20%20%20%20%3Cscript%3E%0A%20%20%20%20%20%20%20%20%20%20%20%20L_NO_TOUCH%20%3D%20false%3B%0A%20%20%20%20%20%20%20%20%20%20%20%20L_DISABLE_3D%20%3D%20false%3B%0A%20%20%20%20%20%20%20%20%3C/script%3E%0A%20%20%20%20%0A%20%20%20%20%3Cstyle%3Ehtml%2C%20body%20%7Bwidth%3A%20100%25%3Bheight%3A%20100%25%3Bmargin%3A%200%3Bpadding%3A%200%3B%7D%3C/style%3E%0A%20%20%20%20%3Cstyle%3E%23map%20%7Bposition%3Aabsolute%3Btop%3A0%3Bbottom%3A0%3Bright%3A0%3Bleft%3A0%3B%7D%3C/style%3E%0A%20%20%20%20%3Cscript%20src%3D%22https%3A//cdn.jsdelivr.net/npm/leaflet%401.6.0/dist/leaflet.js%22%3E%3C/script%3E%0A%20%20%20%20%3Cscript%20src%3D%22https%3A//code.jquery.com/jquery-1.12.4.min.js%22%3E%3C/script%3E%0A%20%20%20%20%3Cscript%20src%3D%22https%3A//maxcdn.bootstrapcdn.com/bootstrap/3.2.0/js/bootstrap.min.js%22%3E%3C/script%3E%0A%20%20%20%20%3Cscript%20src%3D%22https%3A//cdnjs.cloudflare.com/ajax/libs/Leaflet.awesome-markers/2.0.2/leaflet.awesome-markers.js%22%3E%3C/script%3E%0A%20%20%20%20%3Clink%20rel%3D%22stylesheet%22%20href%3D%22https%3A//cdn.jsdelivr.net/npm/leaflet%401.6.0/dist/leaflet.css%22/%3E%0A%20%20%20%20%3Clink%20rel%3D%22stylesheet%22%20href%3D%22https%3A//maxcdn.bootstrapcdn.com/bootstrap/3.2.0/css/bootstrap.min.css%22/%3E%0A%20%20%20%20%3Clink%20rel%3D%22stylesheet%22%20href%3D%22https%3A//maxcdn.bootstrapcdn.com/bootstrap/3.2.0/css/bootstrap-theme.min.css%22/%3E%0A%20%20%20%20%3Clink%20rel%3D%22stylesheet%22%20href%3D%22https%3A//maxcdn.bootstrapcdn.com/font-awesome/4.6.3/css/font-awesome.min.css%22/%3E%0A%20%20%20%20%3Clink%20rel%3D%22stylesheet%22%20href%3D%22https%3A//cdnjs.cloudflare.com/ajax/libs/Leaflet.awesome-markers/2.0.2/leaflet.awesome-markers.css%22/%3E%0A%20%20%20%20%3Clink%20rel%3D%22stylesheet%22%20href%3D%22https%3A//cdn.jsdelivr.net/gh/python-visualization/folium/folium/templates/leaflet.awesome.rotate.min.css%22/%3E%0A%20%20%20%20%0A%20%20%20%20%20%20%20%20%20%20%20%20%3Cmeta%20name%3D%22viewport%22%20content%3D%22width%3Ddevice-width%2C%0A%20%20%20%20%20%20%20%20%20%20%20%20%20%20%20%20initial-scale%3D1.0%2C%20maximum-scale%3D1.0%2C%20user-scalable%3Dno%22%20/%3E%0A%20%20%20%20%20%20%20%20%20%20%20%20%3Cstyle%3E%0A%20%20%20%20%20%20%20%20%20%20%20%20%20%20%20%20%23map_61f7a67a826f4a83b3b060c5e2aa676e%20%7B%0A%20%20%20%20%20%20%20%20%20%20%20%20%20%20%20%20%20%20%20%20position%3A%20relative%3B%0A%20%20%20%20%20%20%20%20%20%20%20%20%20%20%20%20%20%20%20%20width%3A%20100.0%25%3B%0A%20%20%20%20%20%20%20%20%20%20%20%20%20%20%20%20%20%20%20%20height%3A%20100.0%25%3B%0A%20%20%20%20%20%20%20%20%20%20%20%20%20%20%20%20%20%20%20%20left%3A%200.0%25%3B%0A%20%20%20%20%20%20%20%20%20%20%20%20%20%20%20%20%20%20%20%20top%3A%200.0%25%3B%0A%20%20%20%20%20%20%20%20%20%20%20%20%20%20%20%20%7D%0A%20%20%20%20%20%20%20%20%20%20%20%20%3C/style%3E%0A%20%20%20%20%20%20%20%20%0A%3C/head%3E%0A%3Cbody%3E%20%20%20%20%0A%20%20%20%20%0A%20%20%20%20%20%20%20%20%20%20%20%20%3Cdiv%20class%3D%22folium-map%22%20id%3D%22map_61f7a67a826f4a83b3b060c5e2aa676e%22%20%3E%3C/div%3E%0A%20%20%20%20%20%20%20%20%0A%3C/body%3E%0A%3Cscript%3E%20%20%20%20%0A%20%20%20%20%0A%20%20%20%20%20%20%20%20%20%20%20%20var%20map_61f7a67a826f4a83b3b060c5e2aa676e%20%3D%20L.map%28%0A%20%20%20%20%20%20%20%20%20%20%20%20%20%20%20%20%22map_61f7a67a826f4a83b3b060c5e2aa676e%22%2C%0A%20%20%20%20%20%20%20%20%20%20%20%20%20%20%20%20%7B%0A%20%20%20%20%20%20%20%20%20%20%20%20%20%20%20%20%20%20%20%20center%3A%20%5B40.4143851%2C%20-3.6820241%5D%2C%0A%20%20%20%20%20%20%20%20%20%20%20%20%20%20%20%20%20%20%20%20crs%3A%20L.CRS.EPSG3857%2C%0A%20%20%20%20%20%20%20%20%20%20%20%20%20%20%20%20%20%20%20%20zoom%3A%2015%2C%0A%20%20%20%20%20%20%20%20%20%20%20%20%20%20%20%20%20%20%20%20zoomControl%3A%20true%2C%0A%20%20%20%20%20%20%20%20%20%20%20%20%20%20%20%20%20%20%20%20preferCanvas%3A%20false%2C%0A%20%20%20%20%20%20%20%20%20%20%20%20%20%20%20%20%7D%0A%20%20%20%20%20%20%20%20%20%20%20%20%29%3B%0A%0A%20%20%20%20%20%20%20%20%20%20%20%20%0A%0A%20%20%20%20%20%20%20%20%0A%20%20%20%20%0A%20%20%20%20%20%20%20%20%20%20%20%20var%20tile_layer_f54a96b2cae74e8cb866e1faaa6757f0%20%3D%20L.tileLayer%28%0A%20%20%20%20%20%20%20%20%20%20%20%20%20%20%20%20%22https%3A//%7Bs%7D.tile.openstreetmap.org/%7Bz%7D/%7Bx%7D/%7By%7D.png%22%2C%0A%20%20%20%20%20%20%20%20%20%20%20%20%20%20%20%20%7B%22attribution%22%3A%20%22Data%20by%20%5Cu0026copy%3B%20%5Cu003ca%20href%3D%5C%22http%3A//openstreetmap.org%5C%22%5Cu003eOpenStreetMap%5Cu003c/a%5Cu003e%2C%20under%20%5Cu003ca%20href%3D%5C%22http%3A//www.openstreetmap.org/copyright%5C%22%5Cu003eODbL%5Cu003c/a%5Cu003e.%22%2C%20%22detectRetina%22%3A%20false%2C%20%22maxNativeZoom%22%3A%2018%2C%20%22maxZoom%22%3A%2018%2C%20%22minZoom%22%3A%200%2C%20%22noWrap%22%3A%20false%2C%20%22opacity%22%3A%201%2C%20%22subdomains%22%3A%20%22abc%22%2C%20%22tms%22%3A%20false%7D%0A%20%20%20%20%20%20%20%20%20%20%20%20%29.addTo%28map_61f7a67a826f4a83b3b060c5e2aa676e%29%3B%0A%20%20%20%20%20%20%20%20%0A%3C/script%3E onload=\"this.contentDocument.open();this.contentDocument.write(    decodeURIComponent(this.getAttribute('data-html')));this.contentDocument.close();\" allowfullscreen webkitallowfullscreen mozallowfullscreen></iframe></div></div>"
      ],
      "text/plain": [
       "<folium.folium.Map at 0x13bcd572b20>"
      ]
     },
     "execution_count": 3,
     "metadata": {},
     "output_type": "execute_result"
    }
   ],
   "source": [
    "#mapa aquí :)\n",
    "map_1 = folium.Map(location = [inicial_lat, inicial_long], zoom_start = 15)\n",
    "map_1"
   ]
  },
  {
   "cell_type": "markdown",
   "metadata": {},
   "source": [
    "### Marker"
   ]
  },
  {
   "cell_type": "markdown",
   "metadata": {},
   "source": [
    "Os dejo por aquí la doc concreta de los marker\n",
    "- https://python-visualization.github.io/folium/modules.html?highlight=marker"
   ]
  },
  {
   "cell_type": "markdown",
   "metadata": {},
   "source": [
    "Para añadir markers en un mapa, tendremos que \"añadir\" elementos a dicho mapa, por eso, vamos a añadirlos al mapa anterior llamado map_1. "
   ]
  },
  {
   "cell_type": "code",
   "execution_count": 4,
   "metadata": {},
   "outputs": [
    {
     "data": {
      "text/html": [
       "<div style=\"width:100%;\"><div style=\"position:relative;width:100%;height:0;padding-bottom:60%;\"><span style=\"color:#565656\">Make this Notebook Trusted to load map: File -> Trust Notebook</span><iframe src=\"about:blank\" style=\"position:absolute;width:100%;height:100%;left:0;top:0;border:none !important;\" data-html=%3C%21DOCTYPE%20html%3E%0A%3Chead%3E%20%20%20%20%0A%20%20%20%20%3Cmeta%20http-equiv%3D%22content-type%22%20content%3D%22text/html%3B%20charset%3DUTF-8%22%20/%3E%0A%20%20%20%20%0A%20%20%20%20%20%20%20%20%3Cscript%3E%0A%20%20%20%20%20%20%20%20%20%20%20%20L_NO_TOUCH%20%3D%20false%3B%0A%20%20%20%20%20%20%20%20%20%20%20%20L_DISABLE_3D%20%3D%20false%3B%0A%20%20%20%20%20%20%20%20%3C/script%3E%0A%20%20%20%20%0A%20%20%20%20%3Cstyle%3Ehtml%2C%20body%20%7Bwidth%3A%20100%25%3Bheight%3A%20100%25%3Bmargin%3A%200%3Bpadding%3A%200%3B%7D%3C/style%3E%0A%20%20%20%20%3Cstyle%3E%23map%20%7Bposition%3Aabsolute%3Btop%3A0%3Bbottom%3A0%3Bright%3A0%3Bleft%3A0%3B%7D%3C/style%3E%0A%20%20%20%20%3Cscript%20src%3D%22https%3A//cdn.jsdelivr.net/npm/leaflet%401.6.0/dist/leaflet.js%22%3E%3C/script%3E%0A%20%20%20%20%3Cscript%20src%3D%22https%3A//code.jquery.com/jquery-1.12.4.min.js%22%3E%3C/script%3E%0A%20%20%20%20%3Cscript%20src%3D%22https%3A//maxcdn.bootstrapcdn.com/bootstrap/3.2.0/js/bootstrap.min.js%22%3E%3C/script%3E%0A%20%20%20%20%3Cscript%20src%3D%22https%3A//cdnjs.cloudflare.com/ajax/libs/Leaflet.awesome-markers/2.0.2/leaflet.awesome-markers.js%22%3E%3C/script%3E%0A%20%20%20%20%3Clink%20rel%3D%22stylesheet%22%20href%3D%22https%3A//cdn.jsdelivr.net/npm/leaflet%401.6.0/dist/leaflet.css%22/%3E%0A%20%20%20%20%3Clink%20rel%3D%22stylesheet%22%20href%3D%22https%3A//maxcdn.bootstrapcdn.com/bootstrap/3.2.0/css/bootstrap.min.css%22/%3E%0A%20%20%20%20%3Clink%20rel%3D%22stylesheet%22%20href%3D%22https%3A//maxcdn.bootstrapcdn.com/bootstrap/3.2.0/css/bootstrap-theme.min.css%22/%3E%0A%20%20%20%20%3Clink%20rel%3D%22stylesheet%22%20href%3D%22https%3A//maxcdn.bootstrapcdn.com/font-awesome/4.6.3/css/font-awesome.min.css%22/%3E%0A%20%20%20%20%3Clink%20rel%3D%22stylesheet%22%20href%3D%22https%3A//cdnjs.cloudflare.com/ajax/libs/Leaflet.awesome-markers/2.0.2/leaflet.awesome-markers.css%22/%3E%0A%20%20%20%20%3Clink%20rel%3D%22stylesheet%22%20href%3D%22https%3A//cdn.jsdelivr.net/gh/python-visualization/folium/folium/templates/leaflet.awesome.rotate.min.css%22/%3E%0A%20%20%20%20%0A%20%20%20%20%20%20%20%20%20%20%20%20%3Cmeta%20name%3D%22viewport%22%20content%3D%22width%3Ddevice-width%2C%0A%20%20%20%20%20%20%20%20%20%20%20%20%20%20%20%20initial-scale%3D1.0%2C%20maximum-scale%3D1.0%2C%20user-scalable%3Dno%22%20/%3E%0A%20%20%20%20%20%20%20%20%20%20%20%20%3Cstyle%3E%0A%20%20%20%20%20%20%20%20%20%20%20%20%20%20%20%20%23map_61f7a67a826f4a83b3b060c5e2aa676e%20%7B%0A%20%20%20%20%20%20%20%20%20%20%20%20%20%20%20%20%20%20%20%20position%3A%20relative%3B%0A%20%20%20%20%20%20%20%20%20%20%20%20%20%20%20%20%20%20%20%20width%3A%20100.0%25%3B%0A%20%20%20%20%20%20%20%20%20%20%20%20%20%20%20%20%20%20%20%20height%3A%20100.0%25%3B%0A%20%20%20%20%20%20%20%20%20%20%20%20%20%20%20%20%20%20%20%20left%3A%200.0%25%3B%0A%20%20%20%20%20%20%20%20%20%20%20%20%20%20%20%20%20%20%20%20top%3A%200.0%25%3B%0A%20%20%20%20%20%20%20%20%20%20%20%20%20%20%20%20%7D%0A%20%20%20%20%20%20%20%20%20%20%20%20%3C/style%3E%0A%20%20%20%20%20%20%20%20%0A%3C/head%3E%0A%3Cbody%3E%20%20%20%20%0A%20%20%20%20%0A%20%20%20%20%20%20%20%20%20%20%20%20%3Cdiv%20class%3D%22folium-map%22%20id%3D%22map_61f7a67a826f4a83b3b060c5e2aa676e%22%20%3E%3C/div%3E%0A%20%20%20%20%20%20%20%20%0A%3C/body%3E%0A%3Cscript%3E%20%20%20%20%0A%20%20%20%20%0A%20%20%20%20%20%20%20%20%20%20%20%20var%20map_61f7a67a826f4a83b3b060c5e2aa676e%20%3D%20L.map%28%0A%20%20%20%20%20%20%20%20%20%20%20%20%20%20%20%20%22map_61f7a67a826f4a83b3b060c5e2aa676e%22%2C%0A%20%20%20%20%20%20%20%20%20%20%20%20%20%20%20%20%7B%0A%20%20%20%20%20%20%20%20%20%20%20%20%20%20%20%20%20%20%20%20center%3A%20%5B40.4143851%2C%20-3.6820241%5D%2C%0A%20%20%20%20%20%20%20%20%20%20%20%20%20%20%20%20%20%20%20%20crs%3A%20L.CRS.EPSG3857%2C%0A%20%20%20%20%20%20%20%20%20%20%20%20%20%20%20%20%20%20%20%20zoom%3A%2015%2C%0A%20%20%20%20%20%20%20%20%20%20%20%20%20%20%20%20%20%20%20%20zoomControl%3A%20true%2C%0A%20%20%20%20%20%20%20%20%20%20%20%20%20%20%20%20%20%20%20%20preferCanvas%3A%20false%2C%0A%20%20%20%20%20%20%20%20%20%20%20%20%20%20%20%20%7D%0A%20%20%20%20%20%20%20%20%20%20%20%20%29%3B%0A%0A%20%20%20%20%20%20%20%20%20%20%20%20%0A%0A%20%20%20%20%20%20%20%20%0A%20%20%20%20%0A%20%20%20%20%20%20%20%20%20%20%20%20var%20tile_layer_f54a96b2cae74e8cb866e1faaa6757f0%20%3D%20L.tileLayer%28%0A%20%20%20%20%20%20%20%20%20%20%20%20%20%20%20%20%22https%3A//%7Bs%7D.tile.openstreetmap.org/%7Bz%7D/%7Bx%7D/%7By%7D.png%22%2C%0A%20%20%20%20%20%20%20%20%20%20%20%20%20%20%20%20%7B%22attribution%22%3A%20%22Data%20by%20%5Cu0026copy%3B%20%5Cu003ca%20href%3D%5C%22http%3A//openstreetmap.org%5C%22%5Cu003eOpenStreetMap%5Cu003c/a%5Cu003e%2C%20under%20%5Cu003ca%20href%3D%5C%22http%3A//www.openstreetmap.org/copyright%5C%22%5Cu003eODbL%5Cu003c/a%5Cu003e.%22%2C%20%22detectRetina%22%3A%20false%2C%20%22maxNativeZoom%22%3A%2018%2C%20%22maxZoom%22%3A%2018%2C%20%22minZoom%22%3A%200%2C%20%22noWrap%22%3A%20false%2C%20%22opacity%22%3A%201%2C%20%22subdomains%22%3A%20%22abc%22%2C%20%22tms%22%3A%20false%7D%0A%20%20%20%20%20%20%20%20%20%20%20%20%29.addTo%28map_61f7a67a826f4a83b3b060c5e2aa676e%29%3B%0A%20%20%20%20%20%20%20%20%0A%20%20%20%20%0A%20%20%20%20%20%20%20%20%20%20%20%20var%20marker_c5c94b2302384942b9e4deb2076d2b44%20%3D%20L.marker%28%0A%20%20%20%20%20%20%20%20%20%20%20%20%20%20%20%20%5B40.4143851%2C%20-3.6820241%5D%2C%0A%20%20%20%20%20%20%20%20%20%20%20%20%20%20%20%20%7B%7D%0A%20%20%20%20%20%20%20%20%20%20%20%20%29.addTo%28map_61f7a67a826f4a83b3b060c5e2aa676e%29%3B%0A%20%20%20%20%20%20%20%20%0A%20%20%20%20%0A%20%20%20%20%20%20%20%20%20%20%20%20marker_c5c94b2302384942b9e4deb2076d2b44.bindTooltip%28%0A%20%20%20%20%20%20%20%20%20%20%20%20%20%20%20%20%60%3Cdiv%3E%0A%20%20%20%20%20%20%20%20%20%20%20%20%20%20%20%20%20%20%20%20%20parque%20de%20Dobby%0A%20%20%20%20%20%20%20%20%20%20%20%20%20%20%20%20%20%3C/div%3E%60%2C%0A%20%20%20%20%20%20%20%20%20%20%20%20%20%20%20%20%7B%22sticky%22%3A%20true%7D%0A%20%20%20%20%20%20%20%20%20%20%20%20%29%3B%0A%20%20%20%20%20%20%20%20%0A%3C/script%3E onload=\"this.contentDocument.open();this.contentDocument.write(    decodeURIComponent(this.getAttribute('data-html')));this.contentDocument.close();\" allowfullscreen webkitallowfullscreen mozallowfullscreen></iframe></div></div>"
      ],
      "text/plain": [
       "<folium.folium.Map at 0x13bcd572b20>"
      ]
     },
     "execution_count": 4,
     "metadata": {},
     "output_type": "execute_result"
    }
   ],
   "source": [
    "parque = Marker(location=[inicial_lat, inicial_long], tooltip=\"parque de Dobby\")\n",
    "parque.add_to(map_1)\n",
    "map_1"
   ]
  },
  {
   "cell_type": "markdown",
   "metadata": {},
   "source": [
    "Añadimos otro Marker y vemos que le podemos cambiar el icono y el color de fondo y del icono."
   ]
  },
  {
   "cell_type": "code",
   "execution_count": 5,
   "metadata": {},
   "outputs": [],
   "source": [
    "#Ubicación de la casa de Dobby\n",
    "lavapi_lat = 40.408808\n",
    "lavapi_long = -3.7034796"
   ]
  },
  {
   "cell_type": "markdown",
   "metadata": {},
   "source": [
    "Pero...wait ¿quién es Dobby?"
   ]
  },
  {
   "cell_type": "markdown",
   "metadata": {},
   "source": [
    "![mapa](images/dobby.jpeg)"
   ]
  },
  {
   "cell_type": "code",
   "execution_count": 6,
   "metadata": {},
   "outputs": [
    {
     "ename": "SyntaxError",
     "evalue": "invalid syntax (<ipython-input-6-28e36ffbdbba>, line 2)",
     "output_type": "error",
     "traceback": [
      "\u001b[1;36m  File \u001b[1;32m\"<ipython-input-6-28e36ffbdbba>\"\u001b[1;36m, line \u001b[1;32m2\u001b[0m\n\u001b[1;33m    - https://fontawesome.com/v4.7.0/icons/\u001b[0m\n\u001b[1;37m            ^\u001b[0m\n\u001b[1;31mSyntaxError\u001b[0m\u001b[1;31m:\u001b[0m invalid syntax\n"
     ]
    }
   ],
   "source": [
    "Para modificar los iconos ¿de dónde los sacamos?\n",
    "- https://fontawesome.com/v4.7.0/icons/\n",
    "- https://getbootstrap.com/docs/3.3/components/"
   ]
  },
  {
   "cell_type": "code",
   "execution_count": 7,
   "metadata": {},
   "outputs": [],
   "source": [
    "#prefix = fa lo ponemos cuando usemos los iconos de fontawesome.\n",
    "icono = Icon(color = \"blue\",\n",
    "            prefix = \"fa\",\n",
    "            icon = \"paw\",\n",
    "            icon_color = \"black\",\n",
    ")\n",
    "loc = [lavapi_lat, lavapi_long]\n"
   ]
  },
  {
   "cell_type": "code",
   "execution_count": 10,
   "metadata": {},
   "outputs": [],
   "source": [
    "#guardamos el marker en una variable\n",
    "marker_cueva = Marker(location=loc, icon = icono, tooltip = \"Casa de Dobby\")\n"
   ]
  },
  {
   "cell_type": "code",
   "execution_count": 11,
   "metadata": {},
   "outputs": [
    {
     "data": {
      "text/html": [
       "<div style=\"width:100%;\"><div style=\"position:relative;width:100%;height:0;padding-bottom:60%;\"><span style=\"color:#565656\">Make this Notebook Trusted to load map: File -> Trust Notebook</span><iframe src=\"about:blank\" style=\"position:absolute;width:100%;height:100%;left:0;top:0;border:none !important;\" data-html=%3C%21DOCTYPE%20html%3E%0A%3Chead%3E%20%20%20%20%0A%20%20%20%20%3Cmeta%20http-equiv%3D%22content-type%22%20content%3D%22text/html%3B%20charset%3DUTF-8%22%20/%3E%0A%20%20%20%20%0A%20%20%20%20%20%20%20%20%3Cscript%3E%0A%20%20%20%20%20%20%20%20%20%20%20%20L_NO_TOUCH%20%3D%20false%3B%0A%20%20%20%20%20%20%20%20%20%20%20%20L_DISABLE_3D%20%3D%20false%3B%0A%20%20%20%20%20%20%20%20%3C/script%3E%0A%20%20%20%20%0A%20%20%20%20%3Cstyle%3Ehtml%2C%20body%20%7Bwidth%3A%20100%25%3Bheight%3A%20100%25%3Bmargin%3A%200%3Bpadding%3A%200%3B%7D%3C/style%3E%0A%20%20%20%20%3Cstyle%3E%23map%20%7Bposition%3Aabsolute%3Btop%3A0%3Bbottom%3A0%3Bright%3A0%3Bleft%3A0%3B%7D%3C/style%3E%0A%20%20%20%20%3Cscript%20src%3D%22https%3A//cdn.jsdelivr.net/npm/leaflet%401.6.0/dist/leaflet.js%22%3E%3C/script%3E%0A%20%20%20%20%3Cscript%20src%3D%22https%3A//code.jquery.com/jquery-1.12.4.min.js%22%3E%3C/script%3E%0A%20%20%20%20%3Cscript%20src%3D%22https%3A//maxcdn.bootstrapcdn.com/bootstrap/3.2.0/js/bootstrap.min.js%22%3E%3C/script%3E%0A%20%20%20%20%3Cscript%20src%3D%22https%3A//cdnjs.cloudflare.com/ajax/libs/Leaflet.awesome-markers/2.0.2/leaflet.awesome-markers.js%22%3E%3C/script%3E%0A%20%20%20%20%3Clink%20rel%3D%22stylesheet%22%20href%3D%22https%3A//cdn.jsdelivr.net/npm/leaflet%401.6.0/dist/leaflet.css%22/%3E%0A%20%20%20%20%3Clink%20rel%3D%22stylesheet%22%20href%3D%22https%3A//maxcdn.bootstrapcdn.com/bootstrap/3.2.0/css/bootstrap.min.css%22/%3E%0A%20%20%20%20%3Clink%20rel%3D%22stylesheet%22%20href%3D%22https%3A//maxcdn.bootstrapcdn.com/bootstrap/3.2.0/css/bootstrap-theme.min.css%22/%3E%0A%20%20%20%20%3Clink%20rel%3D%22stylesheet%22%20href%3D%22https%3A//maxcdn.bootstrapcdn.com/font-awesome/4.6.3/css/font-awesome.min.css%22/%3E%0A%20%20%20%20%3Clink%20rel%3D%22stylesheet%22%20href%3D%22https%3A//cdnjs.cloudflare.com/ajax/libs/Leaflet.awesome-markers/2.0.2/leaflet.awesome-markers.css%22/%3E%0A%20%20%20%20%3Clink%20rel%3D%22stylesheet%22%20href%3D%22https%3A//cdn.jsdelivr.net/gh/python-visualization/folium/folium/templates/leaflet.awesome.rotate.min.css%22/%3E%0A%20%20%20%20%0A%20%20%20%20%20%20%20%20%20%20%20%20%3Cmeta%20name%3D%22viewport%22%20content%3D%22width%3Ddevice-width%2C%0A%20%20%20%20%20%20%20%20%20%20%20%20%20%20%20%20initial-scale%3D1.0%2C%20maximum-scale%3D1.0%2C%20user-scalable%3Dno%22%20/%3E%0A%20%20%20%20%20%20%20%20%20%20%20%20%3Cstyle%3E%0A%20%20%20%20%20%20%20%20%20%20%20%20%20%20%20%20%23map_61f7a67a826f4a83b3b060c5e2aa676e%20%7B%0A%20%20%20%20%20%20%20%20%20%20%20%20%20%20%20%20%20%20%20%20position%3A%20relative%3B%0A%20%20%20%20%20%20%20%20%20%20%20%20%20%20%20%20%20%20%20%20width%3A%20100.0%25%3B%0A%20%20%20%20%20%20%20%20%20%20%20%20%20%20%20%20%20%20%20%20height%3A%20100.0%25%3B%0A%20%20%20%20%20%20%20%20%20%20%20%20%20%20%20%20%20%20%20%20left%3A%200.0%25%3B%0A%20%20%20%20%20%20%20%20%20%20%20%20%20%20%20%20%20%20%20%20top%3A%200.0%25%3B%0A%20%20%20%20%20%20%20%20%20%20%20%20%20%20%20%20%7D%0A%20%20%20%20%20%20%20%20%20%20%20%20%3C/style%3E%0A%20%20%20%20%20%20%20%20%0A%3C/head%3E%0A%3Cbody%3E%20%20%20%20%0A%20%20%20%20%0A%20%20%20%20%20%20%20%20%20%20%20%20%3Cdiv%20class%3D%22folium-map%22%20id%3D%22map_61f7a67a826f4a83b3b060c5e2aa676e%22%20%3E%3C/div%3E%0A%20%20%20%20%20%20%20%20%0A%3C/body%3E%0A%3Cscript%3E%20%20%20%20%0A%20%20%20%20%0A%20%20%20%20%20%20%20%20%20%20%20%20var%20map_61f7a67a826f4a83b3b060c5e2aa676e%20%3D%20L.map%28%0A%20%20%20%20%20%20%20%20%20%20%20%20%20%20%20%20%22map_61f7a67a826f4a83b3b060c5e2aa676e%22%2C%0A%20%20%20%20%20%20%20%20%20%20%20%20%20%20%20%20%7B%0A%20%20%20%20%20%20%20%20%20%20%20%20%20%20%20%20%20%20%20%20center%3A%20%5B40.4143851%2C%20-3.6820241%5D%2C%0A%20%20%20%20%20%20%20%20%20%20%20%20%20%20%20%20%20%20%20%20crs%3A%20L.CRS.EPSG3857%2C%0A%20%20%20%20%20%20%20%20%20%20%20%20%20%20%20%20%20%20%20%20zoom%3A%2015%2C%0A%20%20%20%20%20%20%20%20%20%20%20%20%20%20%20%20%20%20%20%20zoomControl%3A%20true%2C%0A%20%20%20%20%20%20%20%20%20%20%20%20%20%20%20%20%20%20%20%20preferCanvas%3A%20false%2C%0A%20%20%20%20%20%20%20%20%20%20%20%20%20%20%20%20%7D%0A%20%20%20%20%20%20%20%20%20%20%20%20%29%3B%0A%0A%20%20%20%20%20%20%20%20%20%20%20%20%0A%0A%20%20%20%20%20%20%20%20%0A%20%20%20%20%0A%20%20%20%20%20%20%20%20%20%20%20%20var%20tile_layer_f54a96b2cae74e8cb866e1faaa6757f0%20%3D%20L.tileLayer%28%0A%20%20%20%20%20%20%20%20%20%20%20%20%20%20%20%20%22https%3A//%7Bs%7D.tile.openstreetmap.org/%7Bz%7D/%7Bx%7D/%7By%7D.png%22%2C%0A%20%20%20%20%20%20%20%20%20%20%20%20%20%20%20%20%7B%22attribution%22%3A%20%22Data%20by%20%5Cu0026copy%3B%20%5Cu003ca%20href%3D%5C%22http%3A//openstreetmap.org%5C%22%5Cu003eOpenStreetMap%5Cu003c/a%5Cu003e%2C%20under%20%5Cu003ca%20href%3D%5C%22http%3A//www.openstreetmap.org/copyright%5C%22%5Cu003eODbL%5Cu003c/a%5Cu003e.%22%2C%20%22detectRetina%22%3A%20false%2C%20%22maxNativeZoom%22%3A%2018%2C%20%22maxZoom%22%3A%2018%2C%20%22minZoom%22%3A%200%2C%20%22noWrap%22%3A%20false%2C%20%22opacity%22%3A%201%2C%20%22subdomains%22%3A%20%22abc%22%2C%20%22tms%22%3A%20false%7D%0A%20%20%20%20%20%20%20%20%20%20%20%20%29.addTo%28map_61f7a67a826f4a83b3b060c5e2aa676e%29%3B%0A%20%20%20%20%20%20%20%20%0A%20%20%20%20%0A%20%20%20%20%20%20%20%20%20%20%20%20var%20marker_c5c94b2302384942b9e4deb2076d2b44%20%3D%20L.marker%28%0A%20%20%20%20%20%20%20%20%20%20%20%20%20%20%20%20%5B40.4143851%2C%20-3.6820241%5D%2C%0A%20%20%20%20%20%20%20%20%20%20%20%20%20%20%20%20%7B%7D%0A%20%20%20%20%20%20%20%20%20%20%20%20%29.addTo%28map_61f7a67a826f4a83b3b060c5e2aa676e%29%3B%0A%20%20%20%20%20%20%20%20%0A%20%20%20%20%0A%20%20%20%20%20%20%20%20%20%20%20%20marker_c5c94b2302384942b9e4deb2076d2b44.bindTooltip%28%0A%20%20%20%20%20%20%20%20%20%20%20%20%20%20%20%20%60%3Cdiv%3E%0A%20%20%20%20%20%20%20%20%20%20%20%20%20%20%20%20%20%20%20%20%20parque%20de%20Dobby%0A%20%20%20%20%20%20%20%20%20%20%20%20%20%20%20%20%20%3C/div%3E%60%2C%0A%20%20%20%20%20%20%20%20%20%20%20%20%20%20%20%20%7B%22sticky%22%3A%20true%7D%0A%20%20%20%20%20%20%20%20%20%20%20%20%29%3B%0A%20%20%20%20%20%20%20%20%0A%20%20%20%20%0A%20%20%20%20%20%20%20%20%20%20%20%20var%20marker_7a0f2ada5c92475ba54c4f85f9138cd2%20%3D%20L.marker%28%0A%20%20%20%20%20%20%20%20%20%20%20%20%20%20%20%20%5B40.408808%2C%20-3.7034796%5D%2C%0A%20%20%20%20%20%20%20%20%20%20%20%20%20%20%20%20%7B%7D%0A%20%20%20%20%20%20%20%20%20%20%20%20%29.addTo%28map_61f7a67a826f4a83b3b060c5e2aa676e%29%3B%0A%20%20%20%20%20%20%20%20%0A%20%20%20%20%0A%20%20%20%20%20%20%20%20%20%20%20%20var%20icon_b3e7a0fcd28743179ef81c5ec6eeff08%20%3D%20L.AwesomeMarkers.icon%28%0A%20%20%20%20%20%20%20%20%20%20%20%20%20%20%20%20%7B%22extraClasses%22%3A%20%22fa-rotate-0%22%2C%20%22icon%22%3A%20%22paw%22%2C%20%22iconColor%22%3A%20%22black%22%2C%20%22markerColor%22%3A%20%22blue%22%2C%20%22prefix%22%3A%20%22fa%22%2C%20%22tooltip%22%3A%20%22Casa%20de%20Bobby%22%7D%0A%20%20%20%20%20%20%20%20%20%20%20%20%29%3B%0A%20%20%20%20%20%20%20%20%20%20%20%20marker_70a8ec4611b74c859a7260f4f3b8fdb8.setIcon%28icon_b3e7a0fcd28743179ef81c5ec6eeff08%29%3B%0A%20%20%20%20%20%20%20%20%0A%20%20%20%20%0A%20%20%20%20%20%20%20%20%20%20%20%20var%20marker_70a8ec4611b74c859a7260f4f3b8fdb8%20%3D%20L.marker%28%0A%20%20%20%20%20%20%20%20%20%20%20%20%20%20%20%20%5B40.408808%2C%20-3.7034796%5D%2C%0A%20%20%20%20%20%20%20%20%20%20%20%20%20%20%20%20%7B%7D%0A%20%20%20%20%20%20%20%20%20%20%20%20%29.addTo%28map_61f7a67a826f4a83b3b060c5e2aa676e%29%3B%0A%20%20%20%20%20%20%20%20%0A%20%20%20%20%0A%20%20%20%20%20%20%20%20%20%20%20%20marker_70a8ec4611b74c859a7260f4f3b8fdb8.bindTooltip%28%0A%20%20%20%20%20%20%20%20%20%20%20%20%20%20%20%20%60%3Cdiv%3E%0A%20%20%20%20%20%20%20%20%20%20%20%20%20%20%20%20%20%20%20%20%20Casa%20de%20Dobby%0A%20%20%20%20%20%20%20%20%20%20%20%20%20%20%20%20%20%3C/div%3E%60%2C%0A%20%20%20%20%20%20%20%20%20%20%20%20%20%20%20%20%7B%22sticky%22%3A%20true%7D%0A%20%20%20%20%20%20%20%20%20%20%20%20%29%3B%0A%20%20%20%20%20%20%20%20%0A%3C/script%3E onload=\"this.contentDocument.open();this.contentDocument.write(    decodeURIComponent(this.getAttribute('data-html')));this.contentDocument.close();\" allowfullscreen webkitallowfullscreen mozallowfullscreen></iframe></div></div>"
      ],
      "text/plain": [
       "<folium.folium.Map at 0x13bcd572b20>"
      ]
     },
     "execution_count": 11,
     "metadata": {},
     "output_type": "execute_result"
    }
   ],
   "source": [
    "#añadimos el marker al mapa original donde ya teníamos el parque de Dobby guardado\n",
    "marker_cueva.add_to(map_1)\n",
    "map_1"
   ]
  },
  {
   "cell_type": "markdown",
   "metadata": {},
   "source": [
    "### Markers, muchos markers, todos los markers a la vez 🚀"
   ]
  },
  {
   "cell_type": "markdown",
   "metadata": {},
   "source": [
    "Para enseñar este ejemplo, utilizamos un dataset donde tenemos ya unas columnas de latitud y longitud "
   ]
  },
  {
   "cell_type": "code",
   "execution_count": 4,
   "metadata": {},
   "outputs": [],
   "source": [
    "df = pd.read_csv('data/bici_clean.csv')"
   ]
  },
  {
   "cell_type": "code",
   "execution_count": 5,
   "metadata": {},
   "outputs": [
    {
     "data": {
      "text/html": [
       "<div>\n",
       "<style scoped>\n",
       "    .dataframe tbody tr th:only-of-type {\n",
       "        vertical-align: middle;\n",
       "    }\n",
       "\n",
       "    .dataframe tbody tr th {\n",
       "        vertical-align: top;\n",
       "    }\n",
       "\n",
       "    .dataframe thead th {\n",
       "        text-align: right;\n",
       "    }\n",
       "</style>\n",
       "<table border=\"1\" class=\"dataframe\">\n",
       "  <thead>\n",
       "    <tr style=\"text-align: right;\">\n",
       "      <th></th>\n",
       "      <th>fecha</th>\n",
       "      <th>dia</th>\n",
       "      <th>year</th>\n",
       "      <th>horario</th>\n",
       "      <th>festividad</th>\n",
       "      <th>tipo_accidente</th>\n",
       "      <th>lesividad</th>\n",
       "      <th>meteo</th>\n",
       "      <th>distrito</th>\n",
       "      <th>direccion</th>\n",
       "      <th>lon</th>\n",
       "      <th>lat</th>\n",
       "    </tr>\n",
       "  </thead>\n",
       "  <tbody>\n",
       "    <tr>\n",
       "      <th>0</th>\n",
       "      <td>2019-01-01 14:00:00</td>\n",
       "      <td>2019-01-01 00:00:00</td>\n",
       "      <td>2019</td>\n",
       "      <td>Tarde</td>\n",
       "      <td>Festivo</td>\n",
       "      <td>Colision</td>\n",
       "      <td>Moderada</td>\n",
       "      <td>Despejado</td>\n",
       "      <td>SALAMANCA</td>\n",
       "      <td>CALLE CASTELLO / CALLE DON RAMON DE LA CRUZ Ma...</td>\n",
       "      <td>-3.681209</td>\n",
       "      <td>40.428990</td>\n",
       "    </tr>\n",
       "    <tr>\n",
       "      <th>1</th>\n",
       "      <td>2019-01-02 21:00:00</td>\n",
       "      <td>2019-01-02 00:00:00</td>\n",
       "      <td>2019</td>\n",
       "      <td>Noche</td>\n",
       "      <td>Laborable</td>\n",
       "      <td>Colision</td>\n",
       "      <td>Grave</td>\n",
       "      <td>Despejado</td>\n",
       "      <td>HORTALEZA</td>\n",
       "      <td>AVDA. GRAN VIA DE HORTALEZA / GTA. LUIS ROSALE...</td>\n",
       "      <td>-3.654527</td>\n",
       "      <td>40.466921</td>\n",
       "    </tr>\n",
       "    <tr>\n",
       "      <th>2</th>\n",
       "      <td>2019-01-03 14:00:00</td>\n",
       "      <td>2019-01-03 00:00:00</td>\n",
       "      <td>2019</td>\n",
       "      <td>Tarde</td>\n",
       "      <td>Laborable</td>\n",
       "      <td>Colision</td>\n",
       "      <td>Leve</td>\n",
       "      <td>Despejado</td>\n",
       "      <td>VILLA DE VALLECAS</td>\n",
       "      <td>CALLE FELIPE ALVAREZ 10 Madrid</td>\n",
       "      <td>-3.623423</td>\n",
       "      <td>40.381971</td>\n",
       "    </tr>\n",
       "    <tr>\n",
       "      <th>3</th>\n",
       "      <td>2019-01-03 13:00:00</td>\n",
       "      <td>2019-01-03 00:00:00</td>\n",
       "      <td>2019</td>\n",
       "      <td>Tarde</td>\n",
       "      <td>Laborable</td>\n",
       "      <td>Colision</td>\n",
       "      <td>Leve</td>\n",
       "      <td>Despejado</td>\n",
       "      <td>VILLA DE VALLECAS</td>\n",
       "      <td>AVDA. SANTA EUGENIA / CALLE REAL DE ARGANDA Ma...</td>\n",
       "      <td>-3.608276</td>\n",
       "      <td>40.377939</td>\n",
       "    </tr>\n",
       "    <tr>\n",
       "      <th>4</th>\n",
       "      <td>2019-01-03 13:00:00</td>\n",
       "      <td>2019-01-03 00:00:00</td>\n",
       "      <td>2019</td>\n",
       "      <td>Tarde</td>\n",
       "      <td>Laborable</td>\n",
       "      <td>Colision</td>\n",
       "      <td>Leve</td>\n",
       "      <td>Despejado</td>\n",
       "      <td>VILLA DE VALLECAS</td>\n",
       "      <td>AVDA. SANTA EUGENIA / CALLE REAL DE ARGANDA Ma...</td>\n",
       "      <td>-3.608276</td>\n",
       "      <td>40.377939</td>\n",
       "    </tr>\n",
       "  </tbody>\n",
       "</table>\n",
       "</div>"
      ],
      "text/plain": [
       "                 fecha                  dia  year horario festividad  \\\n",
       "0  2019-01-01 14:00:00  2019-01-01 00:00:00  2019   Tarde    Festivo   \n",
       "1  2019-01-02 21:00:00  2019-01-02 00:00:00  2019   Noche  Laborable   \n",
       "2  2019-01-03 14:00:00  2019-01-03 00:00:00  2019   Tarde  Laborable   \n",
       "3  2019-01-03 13:00:00  2019-01-03 00:00:00  2019   Tarde  Laborable   \n",
       "4  2019-01-03 13:00:00  2019-01-03 00:00:00  2019   Tarde  Laborable   \n",
       "\n",
       "  tipo_accidente lesividad      meteo           distrito  \\\n",
       "0       Colision  Moderada  Despejado          SALAMANCA   \n",
       "1       Colision     Grave  Despejado          HORTALEZA   \n",
       "2       Colision      Leve  Despejado  VILLA DE VALLECAS   \n",
       "3       Colision      Leve  Despejado  VILLA DE VALLECAS   \n",
       "4       Colision      Leve  Despejado  VILLA DE VALLECAS   \n",
       "\n",
       "                                           direccion       lon        lat  \n",
       "0  CALLE CASTELLO / CALLE DON RAMON DE LA CRUZ Ma... -3.681209  40.428990  \n",
       "1  AVDA. GRAN VIA DE HORTALEZA / GTA. LUIS ROSALE... -3.654527  40.466921  \n",
       "2                     CALLE FELIPE ALVAREZ 10 Madrid -3.623423  40.381971  \n",
       "3  AVDA. SANTA EUGENIA / CALLE REAL DE ARGANDA Ma... -3.608276  40.377939  \n",
       "4  AVDA. SANTA EUGENIA / CALLE REAL DE ARGANDA Ma... -3.608276  40.377939  "
      ]
     },
     "execution_count": 5,
     "metadata": {},
     "output_type": "execute_result"
    }
   ],
   "source": [
    "df.head()"
   ]
  },
  {
   "cell_type": "code",
   "execution_count": 6,
   "metadata": {},
   "outputs": [],
   "source": [
    "#Como hay muchos datos y estamos haciendo pruebas, vamos a quedarnos solo con los de 2019\n",
    "df_2019 = df[(df.year == 2019)]"
   ]
  },
  {
   "cell_type": "code",
   "execution_count": 15,
   "metadata": {},
   "outputs": [
    {
     "data": {
      "text/plain": [
       "array(['Festivo', 'Laborable', 'Vispera'], dtype=object)"
      ]
     },
     "execution_count": 15,
     "metadata": {},
     "output_type": "execute_result"
    }
   ],
   "source": [
    "#¿Cuántas clasificaciones de festividad hay?\n",
    "df_2019.festividad.unique()"
   ]
  },
  {
   "cell_type": "code",
   "execution_count": null,
   "metadata": {},
   "outputs": [],
   "source": []
  },
  {
   "cell_type": "markdown",
   "metadata": {},
   "source": [
    "Vamos a iterar sobre todas las filas del dataframe buscando qué hay dentro de cada fila en la columna. \n",
    "Pondremos un icono a los accidentes en función de la columna \"festivo\"\n",
    "Pero tendremos que guardar las configuraciones y añadir el Marker al final y todo esto dentro de un bucle 🤭🤯\n",
    "- Primero la config del tooltip\n",
    "- Después el iconito en función del festivo\n",
    "- Por último añadir cada marker\n",
    "\n",
    "Keep Calm, lo vemos 🙃"
   ]
  },
  {
   "cell_type": "code",
   "execution_count": 17,
   "metadata": {},
   "outputs": [
    {
     "data": {
      "text/html": [
       "<div style=\"width:100%;\"><div style=\"position:relative;width:100%;height:0;padding-bottom:60%;\"><span style=\"color:#565656\">Make this Notebook Trusted to load map: File -> Trust Notebook</span><iframe src=\"about:blank\" style=\"position:absolute;width:100%;height:100%;left:0;top:0;border:none !important;\" data-html=%3C%21DOCTYPE%20html%3E%0A%3Chead%3E%20%20%20%20%0A%20%20%20%20%3Cmeta%20http-equiv%3D%22content-type%22%20content%3D%22text/html%3B%20charset%3DUTF-8%22%20/%3E%0A%20%20%20%20%0A%20%20%20%20%20%20%20%20%3Cscript%3E%0A%20%20%20%20%20%20%20%20%20%20%20%20L_NO_TOUCH%20%3D%20false%3B%0A%20%20%20%20%20%20%20%20%20%20%20%20L_DISABLE_3D%20%3D%20false%3B%0A%20%20%20%20%20%20%20%20%3C/script%3E%0A%20%20%20%20%0A%20%20%20%20%3Cstyle%3Ehtml%2C%20body%20%7Bwidth%3A%20100%25%3Bheight%3A%20100%25%3Bmargin%3A%200%3Bpadding%3A%200%3B%7D%3C/style%3E%0A%20%20%20%20%3Cstyle%3E%23map%20%7Bposition%3Aabsolute%3Btop%3A0%3Bbottom%3A0%3Bright%3A0%3Bleft%3A0%3B%7D%3C/style%3E%0A%20%20%20%20%3Cscript%20src%3D%22https%3A//cdn.jsdelivr.net/npm/leaflet%401.6.0/dist/leaflet.js%22%3E%3C/script%3E%0A%20%20%20%20%3Cscript%20src%3D%22https%3A//code.jquery.com/jquery-1.12.4.min.js%22%3E%3C/script%3E%0A%20%20%20%20%3Cscript%20src%3D%22https%3A//maxcdn.bootstrapcdn.com/bootstrap/3.2.0/js/bootstrap.min.js%22%3E%3C/script%3E%0A%20%20%20%20%3Cscript%20src%3D%22https%3A//cdnjs.cloudflare.com/ajax/libs/Leaflet.awesome-markers/2.0.2/leaflet.awesome-markers.js%22%3E%3C/script%3E%0A%20%20%20%20%3Clink%20rel%3D%22stylesheet%22%20href%3D%22https%3A//cdn.jsdelivr.net/npm/leaflet%401.6.0/dist/leaflet.css%22/%3E%0A%20%20%20%20%3Clink%20rel%3D%22stylesheet%22%20href%3D%22https%3A//maxcdn.bootstrapcdn.com/bootstrap/3.2.0/css/bootstrap.min.css%22/%3E%0A%20%20%20%20%3Clink%20rel%3D%22stylesheet%22%20href%3D%22https%3A//maxcdn.bootstrapcdn.com/bootstrap/3.2.0/css/bootstrap-theme.min.css%22/%3E%0A%20%20%20%20%3Clink%20rel%3D%22stylesheet%22%20href%3D%22https%3A//maxcdn.bootstrapcdn.com/font-awesome/4.6.3/css/font-awesome.min.css%22/%3E%0A%20%20%20%20%3Clink%20rel%3D%22stylesheet%22%20href%3D%22https%3A//cdnjs.cloudflare.com/ajax/libs/Leaflet.awesome-markers/2.0.2/leaflet.awesome-markers.css%22/%3E%0A%20%20%20%20%3Clink%20rel%3D%22stylesheet%22%20href%3D%22https%3A//cdn.jsdelivr.net/gh/python-visualization/folium/folium/templates/leaflet.awesome.rotate.min.css%22/%3E%0A%20%20%20%20%0A%20%20%20%20%20%20%20%20%20%20%20%20%3Cmeta%20name%3D%22viewport%22%20content%3D%22width%3Ddevice-width%2C%0A%20%20%20%20%20%20%20%20%20%20%20%20%20%20%20%20initial-scale%3D1.0%2C%20maximum-scale%3D1.0%2C%20user-scalable%3Dno%22%20/%3E%0A%20%20%20%20%20%20%20%20%20%20%20%20%3Cstyle%3E%0A%20%20%20%20%20%20%20%20%20%20%20%20%20%20%20%20%23map_6fd41428aca543a0bfddb74a79214b99%20%7B%0A%20%20%20%20%20%20%20%20%20%20%20%20%20%20%20%20%20%20%20%20position%3A%20relative%3B%0A%20%20%20%20%20%20%20%20%20%20%20%20%20%20%20%20%20%20%20%20width%3A%20100.0%25%3B%0A%20%20%20%20%20%20%20%20%20%20%20%20%20%20%20%20%20%20%20%20height%3A%20100.0%25%3B%0A%20%20%20%20%20%20%20%20%20%20%20%20%20%20%20%20%20%20%20%20left%3A%200.0%25%3B%0A%20%20%20%20%20%20%20%20%20%20%20%20%20%20%20%20%20%20%20%20top%3A%200.0%25%3B%0A%20%20%20%20%20%20%20%20%20%20%20%20%20%20%20%20%7D%0A%20%20%20%20%20%20%20%20%20%20%20%20%3C/style%3E%0A%20%20%20%20%20%20%20%20%0A%3C/head%3E%0A%3Cbody%3E%20%20%20%20%0A%20%20%20%20%0A%20%20%20%20%20%20%20%20%20%20%20%20%3Cdiv%20class%3D%22folium-map%22%20id%3D%22map_6fd41428aca543a0bfddb74a79214b99%22%20%3E%3C/div%3E%0A%20%20%20%20%20%20%20%20%0A%3C/body%3E%0A%3Cscript%3E%20%20%20%20%0A%20%20%20%20%0A%20%20%20%20%20%20%20%20%20%20%20%20var%20map_6fd41428aca543a0bfddb74a79214b99%20%3D%20L.map%28%0A%20%20%20%20%20%20%20%20%20%20%20%20%20%20%20%20%22map_6fd41428aca543a0bfddb74a79214b99%22%2C%0A%20%20%20%20%20%20%20%20%20%20%20%20%20%20%20%20%7B%0A%20%20%20%20%20%20%20%20%20%20%20%20%20%20%20%20%20%20%20%20center%3A%20%5B40.42899%2C%20-3.681209%5D%2C%0A%20%20%20%20%20%20%20%20%20%20%20%20%20%20%20%20%20%20%20%20crs%3A%20L.CRS.EPSG3857%2C%0A%20%20%20%20%20%20%20%20%20%20%20%20%20%20%20%20%20%20%20%20zoom%3A%2015%2C%0A%20%20%20%20%20%20%20%20%20%20%20%20%20%20%20%20%20%20%20%20zoomControl%3A%20true%2C%0A%20%20%20%20%20%20%20%20%20%20%20%20%20%20%20%20%20%20%20%20preferCanvas%3A%20false%2C%0A%20%20%20%20%20%20%20%20%20%20%20%20%20%20%20%20%7D%0A%20%20%20%20%20%20%20%20%20%20%20%20%29%3B%0A%0A%20%20%20%20%20%20%20%20%20%20%20%20%0A%0A%20%20%20%20%20%20%20%20%0A%20%20%20%20%0A%20%20%20%20%20%20%20%20%20%20%20%20var%20tile_layer_d7c7f8bb44234eb99ee7495aaf9b07fe%20%3D%20L.tileLayer%28%0A%20%20%20%20%20%20%20%20%20%20%20%20%20%20%20%20%22https%3A//%7Bs%7D.tile.openstreetmap.org/%7Bz%7D/%7Bx%7D/%7By%7D.png%22%2C%0A%20%20%20%20%20%20%20%20%20%20%20%20%20%20%20%20%7B%22attribution%22%3A%20%22Data%20by%20%5Cu0026copy%3B%20%5Cu003ca%20href%3D%5C%22http%3A//openstreetmap.org%5C%22%5Cu003eOpenStreetMap%5Cu003c/a%5Cu003e%2C%20under%20%5Cu003ca%20href%3D%5C%22http%3A//www.openstreetmap.org/copyright%5C%22%5Cu003eODbL%5Cu003c/a%5Cu003e.%22%2C%20%22detectRetina%22%3A%20false%2C%20%22maxNativeZoom%22%3A%2018%2C%20%22maxZoom%22%3A%2018%2C%20%22minZoom%22%3A%200%2C%20%22noWrap%22%3A%20false%2C%20%22opacity%22%3A%201%2C%20%22subdomains%22%3A%20%22abc%22%2C%20%22tms%22%3A%20false%7D%0A%20%20%20%20%20%20%20%20%20%20%20%20%29.addTo%28map_6fd41428aca543a0bfddb74a79214b99%29%3B%0A%20%20%20%20%20%20%20%20%0A%3C/script%3E onload=\"this.contentDocument.open();this.contentDocument.write(    decodeURIComponent(this.getAttribute('data-html')));this.contentDocument.close();\" allowfullscreen webkitallowfullscreen mozallowfullscreen></iframe></div></div>"
      ],
      "text/plain": [
       "<folium.folium.Map at 0x13bcd63d6d0>"
      ]
     },
     "execution_count": 17,
     "metadata": {},
     "output_type": "execute_result"
    }
   ],
   "source": [
    "#Bueno, recordad que lo primerito es crear un mapa base al que añadimos cosas\n",
    "map_2 = Map(location=[40.428990,-3.681209],zoom_start=15)\n",
    "map_2"
   ]
  },
  {
   "cell_type": "markdown",
   "metadata": {},
   "source": [
    "¿Es el mejor modo de visualizar esto? Hemos creado un mapa con infinitos Markers...mazo de markers...pero ¿Hay otro modo de visualizar esta información un poquito mejor?\n",
    "Cuando tenemos muchos datos agrupados 🗺"
   ]
  },
  {
   "cell_type": "code",
   "execution_count": 1,
   "metadata": {},
   "outputs": [
    {
     "ename": "NameError",
     "evalue": "name 'df_2019' is not defined",
     "output_type": "error",
     "traceback": [
      "\u001b[1;31m---------------------------------------------------------------------------\u001b[0m",
      "\u001b[1;31mNameError\u001b[0m                                 Traceback (most recent call last)",
      "\u001b[1;32m<ipython-input-1-99e7c39f4b14>\u001b[0m in \u001b[0;36m<module>\u001b[1;34m\u001b[0m\n\u001b[1;32m----> 1\u001b[1;33m \u001b[1;32mfor\u001b[0m \u001b[0mi\u001b[0m\u001b[1;33m,\u001b[0m \u001b[0mrow\u001b[0m \u001b[1;32min\u001b[0m \u001b[0mdf_2019\u001b[0m\u001b[1;33m.\u001b[0m\u001b[0miterrows\u001b[0m\u001b[1;33m(\u001b[0m\u001b[1;33m)\u001b[0m\u001b[1;33m:\u001b[0m\u001b[1;33m\u001b[0m\u001b[1;33m\u001b[0m\u001b[0m\n\u001b[0m\u001b[0;32m      2\u001b[0m     distrito = {\n\u001b[0;32m      3\u001b[0m         \u001b[1;34m\"location\"\u001b[0m\u001b[1;33m:\u001b[0m\u001b[1;33m[\u001b[0m\u001b[0mrow\u001b[0m\u001b[1;33m[\u001b[0m\u001b[1;34m\"lat\"\u001b[0m\u001b[1;33m]\u001b[0m\u001b[1;33m,\u001b[0m \u001b[0mrow\u001b[0m\u001b[1;33m[\u001b[0m\u001b[1;34m\"lon\"\u001b[0m\u001b[1;33m]\u001b[0m\u001b[1;33m]\u001b[0m\u001b[1;33m,\u001b[0m\u001b[1;33m\u001b[0m\u001b[1;33m\u001b[0m\u001b[0m\n\u001b[0;32m      4\u001b[0m         \u001b[1;34m\"tootpit\"\u001b[0m\u001b[1;33m:\u001b[0m \u001b[0mrow\u001b[0m\u001b[1;33m[\u001b[0m\u001b[1;34m\"distrito\"\u001b[0m\u001b[1;33m]\u001b[0m\u001b[1;33m\u001b[0m\u001b[1;33m\u001b[0m\u001b[0m\n\u001b[0;32m      5\u001b[0m     }\n",
      "\u001b[1;31mNameError\u001b[0m: name 'df_2019' is not defined"
     ]
    }
   ],
   "source": [
    "for i, row in df_2019.iterrows():\n",
    "    distrito = {\n",
    "        \"location\":[row[\"lat\"], row[\"lon\"]],\n",
    "        \"tootpit\": row[\"distrito\"]\n",
    "    }\n",
    "    if row[\"festividad\"] == \"Festivo\":\n",
    "        icon = Icon(color=\"green\",\n",
    "                    prefix=\"fa\",\n",
    "                    icon = \"glass\",\n",
    "                    icon_color=\"black\"\n",
    "        )\n",
    "    elif row[\"festividad\"] == \"Vispera\":\n",
    "        icon = Icon(color=\"blue\",\n",
    "                    prefix=\"fa\",\n",
    "                    icon = \"home\",\n",
    "                    icon_color=\"black\"\n",
    "        )\n",
    "    else:\n",
    "        icon = Icon(color=\"red\",\n",
    "                    prefix=\"fa\",\n",
    "                    icon = \"briefcase\",\n",
    "                    icon_color=\"black\"\n",
    "        )\n",
    "    Marker(**distrito, icon=icon).add_to(map_2)\n"
   ]
  },
  {
   "cell_type": "code",
   "execution_count": 4,
   "metadata": {},
   "outputs": [],
   "source": [
    "home_long = -4.103145\n",
    "home_lat = 40.672892\n",
    "jarosa_long = -4.118709\n",
    "jarosa_lat= 40.669636"
   ]
  },
  {
   "cell_type": "code",
   "execution_count": 15,
   "metadata": {},
   "outputs": [
    {
     "data": {
      "text/html": [
       "<div style=\"width:100%;\"><div style=\"position:relative;width:100%;height:0;padding-bottom:60%;\"><span style=\"color:#565656\">Make this Notebook Trusted to load map: File -> Trust Notebook</span><iframe src=\"about:blank\" style=\"position:absolute;width:100%;height:100%;left:0;top:0;border:none !important;\" data-html=%3C%21DOCTYPE%20html%3E%0A%3Chead%3E%20%20%20%20%0A%20%20%20%20%3Cmeta%20http-equiv%3D%22content-type%22%20content%3D%22text/html%3B%20charset%3DUTF-8%22%20/%3E%0A%20%20%20%20%0A%20%20%20%20%20%20%20%20%3Cscript%3E%0A%20%20%20%20%20%20%20%20%20%20%20%20L_NO_TOUCH%20%3D%20false%3B%0A%20%20%20%20%20%20%20%20%20%20%20%20L_DISABLE_3D%20%3D%20false%3B%0A%20%20%20%20%20%20%20%20%3C/script%3E%0A%20%20%20%20%0A%20%20%20%20%3Cstyle%3Ehtml%2C%20body%20%7Bwidth%3A%20100%25%3Bheight%3A%20100%25%3Bmargin%3A%200%3Bpadding%3A%200%3B%7D%3C/style%3E%0A%20%20%20%20%3Cstyle%3E%23map%20%7Bposition%3Aabsolute%3Btop%3A0%3Bbottom%3A0%3Bright%3A0%3Bleft%3A0%3B%7D%3C/style%3E%0A%20%20%20%20%3Cscript%20src%3D%22https%3A//cdn.jsdelivr.net/npm/leaflet%401.6.0/dist/leaflet.js%22%3E%3C/script%3E%0A%20%20%20%20%3Cscript%20src%3D%22https%3A//code.jquery.com/jquery-1.12.4.min.js%22%3E%3C/script%3E%0A%20%20%20%20%3Cscript%20src%3D%22https%3A//maxcdn.bootstrapcdn.com/bootstrap/3.2.0/js/bootstrap.min.js%22%3E%3C/script%3E%0A%20%20%20%20%3Cscript%20src%3D%22https%3A//cdnjs.cloudflare.com/ajax/libs/Leaflet.awesome-markers/2.0.2/leaflet.awesome-markers.js%22%3E%3C/script%3E%0A%20%20%20%20%3Clink%20rel%3D%22stylesheet%22%20href%3D%22https%3A//cdn.jsdelivr.net/npm/leaflet%401.6.0/dist/leaflet.css%22/%3E%0A%20%20%20%20%3Clink%20rel%3D%22stylesheet%22%20href%3D%22https%3A//maxcdn.bootstrapcdn.com/bootstrap/3.2.0/css/bootstrap.min.css%22/%3E%0A%20%20%20%20%3Clink%20rel%3D%22stylesheet%22%20href%3D%22https%3A//maxcdn.bootstrapcdn.com/bootstrap/3.2.0/css/bootstrap-theme.min.css%22/%3E%0A%20%20%20%20%3Clink%20rel%3D%22stylesheet%22%20href%3D%22https%3A//maxcdn.bootstrapcdn.com/font-awesome/4.6.3/css/font-awesome.min.css%22/%3E%0A%20%20%20%20%3Clink%20rel%3D%22stylesheet%22%20href%3D%22https%3A//cdnjs.cloudflare.com/ajax/libs/Leaflet.awesome-markers/2.0.2/leaflet.awesome-markers.css%22/%3E%0A%20%20%20%20%3Clink%20rel%3D%22stylesheet%22%20href%3D%22https%3A//cdn.jsdelivr.net/gh/python-visualization/folium/folium/templates/leaflet.awesome.rotate.min.css%22/%3E%0A%20%20%20%20%0A%20%20%20%20%20%20%20%20%20%20%20%20%3Cmeta%20name%3D%22viewport%22%20content%3D%22width%3Ddevice-width%2C%0A%20%20%20%20%20%20%20%20%20%20%20%20%20%20%20%20initial-scale%3D1.0%2C%20maximum-scale%3D1.0%2C%20user-scalable%3Dno%22%20/%3E%0A%20%20%20%20%20%20%20%20%20%20%20%20%3Cstyle%3E%0A%20%20%20%20%20%20%20%20%20%20%20%20%20%20%20%20%23map_d488c6016223416fac7ab5ffde00ee8e%20%7B%0A%20%20%20%20%20%20%20%20%20%20%20%20%20%20%20%20%20%20%20%20position%3A%20relative%3B%0A%20%20%20%20%20%20%20%20%20%20%20%20%20%20%20%20%20%20%20%20width%3A%20100.0%25%3B%0A%20%20%20%20%20%20%20%20%20%20%20%20%20%20%20%20%20%20%20%20height%3A%20100.0%25%3B%0A%20%20%20%20%20%20%20%20%20%20%20%20%20%20%20%20%20%20%20%20left%3A%200.0%25%3B%0A%20%20%20%20%20%20%20%20%20%20%20%20%20%20%20%20%20%20%20%20top%3A%200.0%25%3B%0A%20%20%20%20%20%20%20%20%20%20%20%20%20%20%20%20%7D%0A%20%20%20%20%20%20%20%20%20%20%20%20%3C/style%3E%0A%20%20%20%20%20%20%20%20%0A%3C/head%3E%0A%3Cbody%3E%20%20%20%20%0A%20%20%20%20%0A%20%20%20%20%20%20%20%20%20%20%20%20%3Cdiv%20class%3D%22folium-map%22%20id%3D%22map_d488c6016223416fac7ab5ffde00ee8e%22%20%3E%3C/div%3E%0A%20%20%20%20%20%20%20%20%0A%3C/body%3E%0A%3Cscript%3E%20%20%20%20%0A%20%20%20%20%0A%20%20%20%20%20%20%20%20%20%20%20%20var%20map_d488c6016223416fac7ab5ffde00ee8e%20%3D%20L.map%28%0A%20%20%20%20%20%20%20%20%20%20%20%20%20%20%20%20%22map_d488c6016223416fac7ab5ffde00ee8e%22%2C%0A%20%20%20%20%20%20%20%20%20%20%20%20%20%20%20%20%7B%0A%20%20%20%20%20%20%20%20%20%20%20%20%20%20%20%20%20%20%20%20center%3A%20%5B40.672892%2C%20-4.103145%5D%2C%0A%20%20%20%20%20%20%20%20%20%20%20%20%20%20%20%20%20%20%20%20crs%3A%20L.CRS.EPSG3857%2C%0A%20%20%20%20%20%20%20%20%20%20%20%20%20%20%20%20%20%20%20%20zoom%3A%2015%2C%0A%20%20%20%20%20%20%20%20%20%20%20%20%20%20%20%20%20%20%20%20zoomControl%3A%20true%2C%0A%20%20%20%20%20%20%20%20%20%20%20%20%20%20%20%20%20%20%20%20preferCanvas%3A%20false%2C%0A%20%20%20%20%20%20%20%20%20%20%20%20%20%20%20%20%7D%0A%20%20%20%20%20%20%20%20%20%20%20%20%29%3B%0A%0A%20%20%20%20%20%20%20%20%20%20%20%20%0A%0A%20%20%20%20%20%20%20%20%0A%20%20%20%20%0A%20%20%20%20%20%20%20%20%20%20%20%20var%20tile_layer_fa63327f97a744e094937fb219fcccea%20%3D%20L.tileLayer%28%0A%20%20%20%20%20%20%20%20%20%20%20%20%20%20%20%20%22https%3A//%7Bs%7D.tile.openstreetmap.org/%7Bz%7D/%7Bx%7D/%7By%7D.png%22%2C%0A%20%20%20%20%20%20%20%20%20%20%20%20%20%20%20%20%7B%22attribution%22%3A%20%22Data%20by%20%5Cu0026copy%3B%20%5Cu003ca%20href%3D%5C%22http%3A//openstreetmap.org%5C%22%5Cu003eOpenStreetMap%5Cu003c/a%5Cu003e%2C%20under%20%5Cu003ca%20href%3D%5C%22http%3A//www.openstreetmap.org/copyright%5C%22%5Cu003eODbL%5Cu003c/a%5Cu003e.%22%2C%20%22detectRetina%22%3A%20false%2C%20%22maxNativeZoom%22%3A%2018%2C%20%22maxZoom%22%3A%2018%2C%20%22minZoom%22%3A%200%2C%20%22noWrap%22%3A%20false%2C%20%22opacity%22%3A%201%2C%20%22subdomains%22%3A%20%22abc%22%2C%20%22tms%22%3A%20false%7D%0A%20%20%20%20%20%20%20%20%20%20%20%20%29.addTo%28map_d488c6016223416fac7ab5ffde00ee8e%29%3B%0A%20%20%20%20%20%20%20%20%0A%3C/script%3E onload=\"this.contentDocument.open();this.contentDocument.write(    decodeURIComponent(this.getAttribute('data-html')));this.contentDocument.close();\" allowfullscreen webkitallowfullscreen mozallowfullscreen></iframe></div></div>"
      ],
      "text/plain": [
       "<folium.folium.Map at 0x1a8970f1670>"
      ]
     },
     "execution_count": 15,
     "metadata": {},
     "output_type": "execute_result"
    }
   ],
   "source": [
    "map_1 = folium.Map(location = [home_lat, home_long], zoom_start = 15)\n",
    "map_1"
   ]
  },
  {
   "cell_type": "code",
   "execution_count": 13,
   "metadata": {},
   "outputs": [],
   "source": [
    "icono_casa = Icon(color = \"blue\",\n",
    "            prefix = \"fa\",\n",
    "            icon = \"home\",\n",
    "            icon_color = \"black\",\n",
    "        )\n",
    "icono_jarosa = Icon(color = \"green\",\n",
    "            prefix = \"fa\",\n",
    "            icon = \"anchor\",\n",
    "            icon_color = \"black\",\n",
    "        )"
   ]
  },
  {
   "cell_type": "code",
   "execution_count": 14,
   "metadata": {},
   "outputs": [
    {
     "data": {
      "text/html": [
       "<div style=\"width:100%;\"><div style=\"position:relative;width:100%;height:0;padding-bottom:60%;\"><span style=\"color:#565656\">Make this Notebook Trusted to load map: File -> Trust Notebook</span><iframe src=\"about:blank\" style=\"position:absolute;width:100%;height:100%;left:0;top:0;border:none !important;\" data-html=%3C%21DOCTYPE%20html%3E%0A%3Chead%3E%20%20%20%20%0A%20%20%20%20%3Cmeta%20http-equiv%3D%22content-type%22%20content%3D%22text/html%3B%20charset%3DUTF-8%22%20/%3E%0A%20%20%20%20%0A%20%20%20%20%20%20%20%20%3Cscript%3E%0A%20%20%20%20%20%20%20%20%20%20%20%20L_NO_TOUCH%20%3D%20false%3B%0A%20%20%20%20%20%20%20%20%20%20%20%20L_DISABLE_3D%20%3D%20false%3B%0A%20%20%20%20%20%20%20%20%3C/script%3E%0A%20%20%20%20%0A%20%20%20%20%3Cstyle%3Ehtml%2C%20body%20%7Bwidth%3A%20100%25%3Bheight%3A%20100%25%3Bmargin%3A%200%3Bpadding%3A%200%3B%7D%3C/style%3E%0A%20%20%20%20%3Cstyle%3E%23map%20%7Bposition%3Aabsolute%3Btop%3A0%3Bbottom%3A0%3Bright%3A0%3Bleft%3A0%3B%7D%3C/style%3E%0A%20%20%20%20%3Cscript%20src%3D%22https%3A//cdn.jsdelivr.net/npm/leaflet%401.6.0/dist/leaflet.js%22%3E%3C/script%3E%0A%20%20%20%20%3Cscript%20src%3D%22https%3A//code.jquery.com/jquery-1.12.4.min.js%22%3E%3C/script%3E%0A%20%20%20%20%3Cscript%20src%3D%22https%3A//maxcdn.bootstrapcdn.com/bootstrap/3.2.0/js/bootstrap.min.js%22%3E%3C/script%3E%0A%20%20%20%20%3Cscript%20src%3D%22https%3A//cdnjs.cloudflare.com/ajax/libs/Leaflet.awesome-markers/2.0.2/leaflet.awesome-markers.js%22%3E%3C/script%3E%0A%20%20%20%20%3Clink%20rel%3D%22stylesheet%22%20href%3D%22https%3A//cdn.jsdelivr.net/npm/leaflet%401.6.0/dist/leaflet.css%22/%3E%0A%20%20%20%20%3Clink%20rel%3D%22stylesheet%22%20href%3D%22https%3A//maxcdn.bootstrapcdn.com/bootstrap/3.2.0/css/bootstrap.min.css%22/%3E%0A%20%20%20%20%3Clink%20rel%3D%22stylesheet%22%20href%3D%22https%3A//maxcdn.bootstrapcdn.com/bootstrap/3.2.0/css/bootstrap-theme.min.css%22/%3E%0A%20%20%20%20%3Clink%20rel%3D%22stylesheet%22%20href%3D%22https%3A//maxcdn.bootstrapcdn.com/font-awesome/4.6.3/css/font-awesome.min.css%22/%3E%0A%20%20%20%20%3Clink%20rel%3D%22stylesheet%22%20href%3D%22https%3A//cdnjs.cloudflare.com/ajax/libs/Leaflet.awesome-markers/2.0.2/leaflet.awesome-markers.css%22/%3E%0A%20%20%20%20%3Clink%20rel%3D%22stylesheet%22%20href%3D%22https%3A//cdn.jsdelivr.net/gh/python-visualization/folium/folium/templates/leaflet.awesome.rotate.min.css%22/%3E%0A%20%20%20%20%0A%20%20%20%20%20%20%20%20%20%20%20%20%3Cmeta%20name%3D%22viewport%22%20content%3D%22width%3Ddevice-width%2C%0A%20%20%20%20%20%20%20%20%20%20%20%20%20%20%20%20initial-scale%3D1.0%2C%20maximum-scale%3D1.0%2C%20user-scalable%3Dno%22%20/%3E%0A%20%20%20%20%20%20%20%20%20%20%20%20%3Cstyle%3E%0A%20%20%20%20%20%20%20%20%20%20%20%20%20%20%20%20%23map_14c0aec6a7994d92aeb4bbdcb53a496a%20%7B%0A%20%20%20%20%20%20%20%20%20%20%20%20%20%20%20%20%20%20%20%20position%3A%20relative%3B%0A%20%20%20%20%20%20%20%20%20%20%20%20%20%20%20%20%20%20%20%20width%3A%20100.0%25%3B%0A%20%20%20%20%20%20%20%20%20%20%20%20%20%20%20%20%20%20%20%20height%3A%20100.0%25%3B%0A%20%20%20%20%20%20%20%20%20%20%20%20%20%20%20%20%20%20%20%20left%3A%200.0%25%3B%0A%20%20%20%20%20%20%20%20%20%20%20%20%20%20%20%20%20%20%20%20top%3A%200.0%25%3B%0A%20%20%20%20%20%20%20%20%20%20%20%20%20%20%20%20%7D%0A%20%20%20%20%20%20%20%20%20%20%20%20%3C/style%3E%0A%20%20%20%20%20%20%20%20%0A%3C/head%3E%0A%3Cbody%3E%20%20%20%20%0A%20%20%20%20%0A%20%20%20%20%20%20%20%20%20%20%20%20%3Cdiv%20class%3D%22folium-map%22%20id%3D%22map_14c0aec6a7994d92aeb4bbdcb53a496a%22%20%3E%3C/div%3E%0A%20%20%20%20%20%20%20%20%0A%3C/body%3E%0A%3Cscript%3E%20%20%20%20%0A%20%20%20%20%0A%20%20%20%20%20%20%20%20%20%20%20%20var%20map_14c0aec6a7994d92aeb4bbdcb53a496a%20%3D%20L.map%28%0A%20%20%20%20%20%20%20%20%20%20%20%20%20%20%20%20%22map_14c0aec6a7994d92aeb4bbdcb53a496a%22%2C%0A%20%20%20%20%20%20%20%20%20%20%20%20%20%20%20%20%7B%0A%20%20%20%20%20%20%20%20%20%20%20%20%20%20%20%20%20%20%20%20center%3A%20%5B40.672892%2C%20-4.103145%5D%2C%0A%20%20%20%20%20%20%20%20%20%20%20%20%20%20%20%20%20%20%20%20crs%3A%20L.CRS.EPSG3857%2C%0A%20%20%20%20%20%20%20%20%20%20%20%20%20%20%20%20%20%20%20%20zoom%3A%2015%2C%0A%20%20%20%20%20%20%20%20%20%20%20%20%20%20%20%20%20%20%20%20zoomControl%3A%20true%2C%0A%20%20%20%20%20%20%20%20%20%20%20%20%20%20%20%20%20%20%20%20preferCanvas%3A%20false%2C%0A%20%20%20%20%20%20%20%20%20%20%20%20%20%20%20%20%7D%0A%20%20%20%20%20%20%20%20%20%20%20%20%29%3B%0A%0A%20%20%20%20%20%20%20%20%20%20%20%20%0A%0A%20%20%20%20%20%20%20%20%0A%20%20%20%20%0A%20%20%20%20%20%20%20%20%20%20%20%20var%20tile_layer_bdb1b05899904b7e97c8745af14c62ce%20%3D%20L.tileLayer%28%0A%20%20%20%20%20%20%20%20%20%20%20%20%20%20%20%20%22https%3A//%7Bs%7D.tile.openstreetmap.org/%7Bz%7D/%7Bx%7D/%7By%7D.png%22%2C%0A%20%20%20%20%20%20%20%20%20%20%20%20%20%20%20%20%7B%22attribution%22%3A%20%22Data%20by%20%5Cu0026copy%3B%20%5Cu003ca%20href%3D%5C%22http%3A//openstreetmap.org%5C%22%5Cu003eOpenStreetMap%5Cu003c/a%5Cu003e%2C%20under%20%5Cu003ca%20href%3D%5C%22http%3A//www.openstreetmap.org/copyright%5C%22%5Cu003eODbL%5Cu003c/a%5Cu003e.%22%2C%20%22detectRetina%22%3A%20false%2C%20%22maxNativeZoom%22%3A%2018%2C%20%22maxZoom%22%3A%2018%2C%20%22minZoom%22%3A%200%2C%20%22noWrap%22%3A%20false%2C%20%22opacity%22%3A%201%2C%20%22subdomains%22%3A%20%22abc%22%2C%20%22tms%22%3A%20false%7D%0A%20%20%20%20%20%20%20%20%20%20%20%20%29.addTo%28map_14c0aec6a7994d92aeb4bbdcb53a496a%29%3B%0A%20%20%20%20%20%20%20%20%0A%20%20%20%20%0A%20%20%20%20%20%20%20%20%20%20%20%20var%20marker_95c287c7d6ab45018b385fa7fc94cd6b%20%3D%20L.marker%28%0A%20%20%20%20%20%20%20%20%20%20%20%20%20%20%20%20%5B40.672892%2C%20-4.103145%5D%2C%0A%20%20%20%20%20%20%20%20%20%20%20%20%20%20%20%20%7B%7D%0A%20%20%20%20%20%20%20%20%20%20%20%20%29.addTo%28map_14c0aec6a7994d92aeb4bbdcb53a496a%29%3B%0A%20%20%20%20%20%20%20%20%0A%20%20%20%20%0A%20%20%20%20%20%20%20%20%20%20%20%20var%20icon_44d4b69e57f8457e8bb451dd60431458%20%3D%20L.AwesomeMarkers.icon%28%0A%20%20%20%20%20%20%20%20%20%20%20%20%20%20%20%20%7B%22extraClasses%22%3A%20%22fa-rotate-0%22%2C%20%22icon%22%3A%20%22home%22%2C%20%22iconColor%22%3A%20%22black%22%2C%20%22markerColor%22%3A%20%22blue%22%2C%20%22prefix%22%3A%20%22fa%22%7D%0A%20%20%20%20%20%20%20%20%20%20%20%20%29%3B%0A%20%20%20%20%20%20%20%20%20%20%20%20marker_95c287c7d6ab45018b385fa7fc94cd6b.setIcon%28icon_44d4b69e57f8457e8bb451dd60431458%29%3B%0A%20%20%20%20%20%20%20%20%0A%20%20%20%20%0A%20%20%20%20%20%20%20%20%20%20%20%20marker_95c287c7d6ab45018b385fa7fc94cd6b.bindTooltip%28%0A%20%20%20%20%20%20%20%20%20%20%20%20%20%20%20%20%60%3Cdiv%3E%0A%20%20%20%20%20%20%20%20%20%20%20%20%20%20%20%20%20%20%20%20%20Casita%0A%20%20%20%20%20%20%20%20%20%20%20%20%20%20%20%20%20%3C/div%3E%60%2C%0A%20%20%20%20%20%20%20%20%20%20%20%20%20%20%20%20%7B%22sticky%22%3A%20true%7D%0A%20%20%20%20%20%20%20%20%20%20%20%20%29%3B%0A%20%20%20%20%20%20%20%20%0A%20%20%20%20%0A%20%20%20%20%20%20%20%20%20%20%20%20var%20marker_153d9185b5704902a3bd6f70ff543a12%20%3D%20L.marker%28%0A%20%20%20%20%20%20%20%20%20%20%20%20%20%20%20%20%5B40.669636%2C%20-4.118709%5D%2C%0A%20%20%20%20%20%20%20%20%20%20%20%20%20%20%20%20%7B%7D%0A%20%20%20%20%20%20%20%20%20%20%20%20%29.addTo%28map_14c0aec6a7994d92aeb4bbdcb53a496a%29%3B%0A%20%20%20%20%20%20%20%20%0A%20%20%20%20%0A%20%20%20%20%20%20%20%20%20%20%20%20var%20icon_f7108bc924074ee49e4301e7297de781%20%3D%20L.AwesomeMarkers.icon%28%0A%20%20%20%20%20%20%20%20%20%20%20%20%20%20%20%20%7B%22extraClasses%22%3A%20%22fa-rotate-0%22%2C%20%22icon%22%3A%20%22water%22%2C%20%22iconColor%22%3A%20%22black%22%2C%20%22markerColor%22%3A%20%22green%22%2C%20%22prefix%22%3A%20%22fa%22%7D%0A%20%20%20%20%20%20%20%20%20%20%20%20%29%3B%0A%20%20%20%20%20%20%20%20%20%20%20%20marker_153d9185b5704902a3bd6f70ff543a12.setIcon%28icon_f7108bc924074ee49e4301e7297de781%29%3B%0A%20%20%20%20%20%20%20%20%0A%20%20%20%20%0A%20%20%20%20%20%20%20%20%20%20%20%20marker_153d9185b5704902a3bd6f70ff543a12.bindTooltip%28%0A%20%20%20%20%20%20%20%20%20%20%20%20%20%20%20%20%60%3Cdiv%3E%0A%20%20%20%20%20%20%20%20%20%20%20%20%20%20%20%20%20%20%20%20%20La%20Jarosa%0A%20%20%20%20%20%20%20%20%20%20%20%20%20%20%20%20%20%3C/div%3E%60%2C%0A%20%20%20%20%20%20%20%20%20%20%20%20%20%20%20%20%7B%22sticky%22%3A%20true%7D%0A%20%20%20%20%20%20%20%20%20%20%20%20%29%3B%0A%20%20%20%20%20%20%20%20%0A%20%20%20%20%0A%20%20%20%20%20%20%20%20%20%20%20%20var%20marker_ff9ad9a68b744731baf9561f16cec82b%20%3D%20L.marker%28%0A%20%20%20%20%20%20%20%20%20%20%20%20%20%20%20%20%5B40.672892%2C%20-4.103145%5D%2C%0A%20%20%20%20%20%20%20%20%20%20%20%20%20%20%20%20%7B%7D%0A%20%20%20%20%20%20%20%20%20%20%20%20%29.addTo%28map_14c0aec6a7994d92aeb4bbdcb53a496a%29%3B%0A%20%20%20%20%20%20%20%20%0A%20%20%20%20%0A%20%20%20%20%20%20%20%20%20%20%20%20var%20icon_3e542c2e18984fb8875212da94eb602e%20%3D%20L.AwesomeMarkers.icon%28%0A%20%20%20%20%20%20%20%20%20%20%20%20%20%20%20%20%7B%22extraClasses%22%3A%20%22fa-rotate-0%22%2C%20%22icon%22%3A%20%22home%22%2C%20%22iconColor%22%3A%20%22black%22%2C%20%22markerColor%22%3A%20%22blue%22%2C%20%22prefix%22%3A%20%22fa%22%7D%0A%20%20%20%20%20%20%20%20%20%20%20%20%29%3B%0A%20%20%20%20%20%20%20%20%20%20%20%20marker_ff9ad9a68b744731baf9561f16cec82b.setIcon%28icon_3e542c2e18984fb8875212da94eb602e%29%3B%0A%20%20%20%20%20%20%20%20%0A%20%20%20%20%0A%20%20%20%20%20%20%20%20%20%20%20%20marker_ff9ad9a68b744731baf9561f16cec82b.bindTooltip%28%0A%20%20%20%20%20%20%20%20%20%20%20%20%20%20%20%20%60%3Cdiv%3E%0A%20%20%20%20%20%20%20%20%20%20%20%20%20%20%20%20%20%20%20%20%20Casita%0A%20%20%20%20%20%20%20%20%20%20%20%20%20%20%20%20%20%3C/div%3E%60%2C%0A%20%20%20%20%20%20%20%20%20%20%20%20%20%20%20%20%7B%22sticky%22%3A%20true%7D%0A%20%20%20%20%20%20%20%20%20%20%20%20%29%3B%0A%20%20%20%20%20%20%20%20%0A%20%20%20%20%0A%20%20%20%20%20%20%20%20%20%20%20%20var%20marker_18265d70fa7644329f407347586a4297%20%3D%20L.marker%28%0A%20%20%20%20%20%20%20%20%20%20%20%20%20%20%20%20%5B40.669636%2C%20-4.118709%5D%2C%0A%20%20%20%20%20%20%20%20%20%20%20%20%20%20%20%20%7B%7D%0A%20%20%20%20%20%20%20%20%20%20%20%20%29.addTo%28map_14c0aec6a7994d92aeb4bbdcb53a496a%29%3B%0A%20%20%20%20%20%20%20%20%0A%20%20%20%20%0A%20%20%20%20%20%20%20%20%20%20%20%20var%20icon_3f8e09a41ef148969770f61d40a4f7d3%20%3D%20L.AwesomeMarkers.icon%28%0A%20%20%20%20%20%20%20%20%20%20%20%20%20%20%20%20%7B%22extraClasses%22%3A%20%22fa-rotate-0%22%2C%20%22icon%22%3A%20%22anchor%22%2C%20%22iconColor%22%3A%20%22black%22%2C%20%22markerColor%22%3A%20%22green%22%2C%20%22prefix%22%3A%20%22fa%22%7D%0A%20%20%20%20%20%20%20%20%20%20%20%20%29%3B%0A%20%20%20%20%20%20%20%20%20%20%20%20marker_18265d70fa7644329f407347586a4297.setIcon%28icon_3f8e09a41ef148969770f61d40a4f7d3%29%3B%0A%20%20%20%20%20%20%20%20%0A%20%20%20%20%0A%20%20%20%20%20%20%20%20%20%20%20%20marker_18265d70fa7644329f407347586a4297.bindTooltip%28%0A%20%20%20%20%20%20%20%20%20%20%20%20%20%20%20%20%60%3Cdiv%3E%0A%20%20%20%20%20%20%20%20%20%20%20%20%20%20%20%20%20%20%20%20%20La%20Jarosa%0A%20%20%20%20%20%20%20%20%20%20%20%20%20%20%20%20%20%3C/div%3E%60%2C%0A%20%20%20%20%20%20%20%20%20%20%20%20%20%20%20%20%7B%22sticky%22%3A%20true%7D%0A%20%20%20%20%20%20%20%20%20%20%20%20%29%3B%0A%20%20%20%20%20%20%20%20%0A%3C/script%3E onload=\"this.contentDocument.open();this.contentDocument.write(    decodeURIComponent(this.getAttribute('data-html')));this.contentDocument.close();\" allowfullscreen webkitallowfullscreen mozallowfullscreen></iframe></div></div>"
      ],
      "text/plain": [
       "<folium.folium.Map at 0x1a8970a8310>"
      ]
     },
     "execution_count": 14,
     "metadata": {},
     "output_type": "execute_result"
    }
   ],
   "source": [
    "home = Marker(location=[home_lat, home_long], icon=icono_casa, tooltip=\"Casita\")\n",
    "home.add_to(map_1)\n",
    "jarosa = Marker(location= [jarosa_lat, jarosa_long], icon=icono_jarosa, tooltip=\"La Jarosa\")\n",
    "jarosa.add_to(map_1)\n",
    "map_1"
   ]
  },
  {
   "cell_type": "markdown",
   "metadata": {},
   "source": [
    "### Mapa de Calor"
   ]
  },
  {
   "cell_type": "markdown",
   "metadata": {},
   "source": [
    "Vamos a comprobar cuántas categorías hay en la columna de horario, para hacer un mapa de calor. Primero hacemos un mapa con el horario de mañana, y después añadimos el horario de tarde con el Layer Control. \n",
    "Allá vamos 🔥"
   ]
  },
  {
   "cell_type": "code",
   "execution_count": 7,
   "metadata": {},
   "outputs": [
    {
     "data": {
      "text/plain": [
       "array(['Tarde', 'Noche', 'Mañana'], dtype=object)"
      ]
     },
     "execution_count": 7,
     "metadata": {},
     "output_type": "execute_result"
    }
   ],
   "source": [
    "df.horario.unique()"
   ]
  },
  {
   "cell_type": "code",
   "execution_count": 8,
   "metadata": {},
   "outputs": [],
   "source": [
    "map_3 = Map(location=[40.428990,-3.681209],zoom_start=15)"
   ]
  },
  {
   "cell_type": "code",
   "execution_count": 10,
   "metadata": {},
   "outputs": [
    {
     "data": {
      "text/plain": [
       "<folium.map.FeatureGroup at 0x2b0ae3f3220>"
      ]
     },
     "execution_count": 10,
     "metadata": {},
     "output_type": "execute_result"
    }
   ],
   "source": [
    "morning = df[df.horario == \"Mañana\"]\n",
    "morning_group = folium.FeatureGroup(name=\"Mañana\")\n",
    "HeatMap(data=morning[[\"lat\", \"lon\"]],radius=15).add_to(morning_group)\n",
    "morning_group.add_to(map_3)"
   ]
  },
  {
   "cell_type": "code",
   "execution_count": 11,
   "metadata": {},
   "outputs": [
    {
     "data": {
      "text/plain": [
       "<folium.map.FeatureGroup at 0x2b0ae31a3a0>"
      ]
     },
     "execution_count": 11,
     "metadata": {},
     "output_type": "execute_result"
    }
   ],
   "source": [
    "tarde = df[df.horario==\"Tarde\"]\n",
    "tarde_group = folium.FeatureGroup(name=\"Tarde\")\n",
    "HeatMap(data=tarde[[\"lat\", \"lon\"]],radius=15).add_to(tarde_group)\n",
    "tarde_group.add_to(map_3)\n"
   ]
  },
  {
   "cell_type": "code",
   "execution_count": 12,
   "metadata": {},
   "outputs": [
    {
     "data": {
      "text/html": [
       "<div style=\"width:100%;\"><div style=\"position:relative;width:100%;height:0;padding-bottom:60%;\"><span style=\"color:#565656\">Make this Notebook Trusted to load map: File -> Trust Notebook</span><iframe src=\"about:blank\" style=\"position:absolute;width:100%;height:100%;left:0;top:0;border:none !important;\" data-html=%3C%21DOCTYPE%20html%3E%0A%3Chead%3E%20%20%20%20%0A%20%20%20%20%3Cmeta%20http-equiv%3D%22content-type%22%20content%3D%22text/html%3B%20charset%3DUTF-8%22%20/%3E%0A%20%20%20%20%0A%20%20%20%20%20%20%20%20%3Cscript%3E%0A%20%20%20%20%20%20%20%20%20%20%20%20L_NO_TOUCH%20%3D%20false%3B%0A%20%20%20%20%20%20%20%20%20%20%20%20L_DISABLE_3D%20%3D%20false%3B%0A%20%20%20%20%20%20%20%20%3C/script%3E%0A%20%20%20%20%0A%20%20%20%20%3Cstyle%3Ehtml%2C%20body%20%7Bwidth%3A%20100%25%3Bheight%3A%20100%25%3Bmargin%3A%200%3Bpadding%3A%200%3B%7D%3C/style%3E%0A%20%20%20%20%3Cstyle%3E%23map%20%7Bposition%3Aabsolute%3Btop%3A0%3Bbottom%3A0%3Bright%3A0%3Bleft%3A0%3B%7D%3C/style%3E%0A%20%20%20%20%3Cscript%20src%3D%22https%3A//cdn.jsdelivr.net/npm/leaflet%401.6.0/dist/leaflet.js%22%3E%3C/script%3E%0A%20%20%20%20%3Cscript%20src%3D%22https%3A//code.jquery.com/jquery-1.12.4.min.js%22%3E%3C/script%3E%0A%20%20%20%20%3Cscript%20src%3D%22https%3A//maxcdn.bootstrapcdn.com/bootstrap/3.2.0/js/bootstrap.min.js%22%3E%3C/script%3E%0A%20%20%20%20%3Cscript%20src%3D%22https%3A//cdnjs.cloudflare.com/ajax/libs/Leaflet.awesome-markers/2.0.2/leaflet.awesome-markers.js%22%3E%3C/script%3E%0A%20%20%20%20%3Clink%20rel%3D%22stylesheet%22%20href%3D%22https%3A//cdn.jsdelivr.net/npm/leaflet%401.6.0/dist/leaflet.css%22/%3E%0A%20%20%20%20%3Clink%20rel%3D%22stylesheet%22%20href%3D%22https%3A//maxcdn.bootstrapcdn.com/bootstrap/3.2.0/css/bootstrap.min.css%22/%3E%0A%20%20%20%20%3Clink%20rel%3D%22stylesheet%22%20href%3D%22https%3A//maxcdn.bootstrapcdn.com/bootstrap/3.2.0/css/bootstrap-theme.min.css%22/%3E%0A%20%20%20%20%3Clink%20rel%3D%22stylesheet%22%20href%3D%22https%3A//maxcdn.bootstrapcdn.com/font-awesome/4.6.3/css/font-awesome.min.css%22/%3E%0A%20%20%20%20%3Clink%20rel%3D%22stylesheet%22%20href%3D%22https%3A//cdnjs.cloudflare.com/ajax/libs/Leaflet.awesome-markers/2.0.2/leaflet.awesome-markers.css%22/%3E%0A%20%20%20%20%3Clink%20rel%3D%22stylesheet%22%20href%3D%22https%3A//cdn.jsdelivr.net/gh/python-visualization/folium/folium/templates/leaflet.awesome.rotate.min.css%22/%3E%0A%20%20%20%20%0A%20%20%20%20%20%20%20%20%20%20%20%20%3Cmeta%20name%3D%22viewport%22%20content%3D%22width%3Ddevice-width%2C%0A%20%20%20%20%20%20%20%20%20%20%20%20%20%20%20%20initial-scale%3D1.0%2C%20maximum-scale%3D1.0%2C%20user-scalable%3Dno%22%20/%3E%0A%20%20%20%20%20%20%20%20%20%20%20%20%3Cstyle%3E%0A%20%20%20%20%20%20%20%20%20%20%20%20%20%20%20%20%23map_fd7fd332e50d407fb138922cbd925912%20%7B%0A%20%20%20%20%20%20%20%20%20%20%20%20%20%20%20%20%20%20%20%20position%3A%20relative%3B%0A%20%20%20%20%20%20%20%20%20%20%20%20%20%20%20%20%20%20%20%20width%3A%20100.0%25%3B%0A%20%20%20%20%20%20%20%20%20%20%20%20%20%20%20%20%20%20%20%20height%3A%20100.0%25%3B%0A%20%20%20%20%20%20%20%20%20%20%20%20%20%20%20%20%20%20%20%20left%3A%200.0%25%3B%0A%20%20%20%20%20%20%20%20%20%20%20%20%20%20%20%20%20%20%20%20top%3A%200.0%25%3B%0A%20%20%20%20%20%20%20%20%20%20%20%20%20%20%20%20%7D%0A%20%20%20%20%20%20%20%20%20%20%20%20%3C/style%3E%0A%20%20%20%20%20%20%20%20%0A%20%20%20%20%3Cscript%20src%3D%22https%3A//cdn.jsdelivr.net/gh/python-visualization/folium%40master/folium/templates/leaflet_heat.min.js%22%3E%3C/script%3E%0A%3C/head%3E%0A%3Cbody%3E%20%20%20%20%0A%20%20%20%20%0A%20%20%20%20%20%20%20%20%20%20%20%20%3Cdiv%20class%3D%22folium-map%22%20id%3D%22map_fd7fd332e50d407fb138922cbd925912%22%20%3E%3C/div%3E%0A%20%20%20%20%20%20%20%20%0A%3C/body%3E%0A%3Cscript%3E%20%20%20%20%0A%20%20%20%20%0A%20%20%20%20%20%20%20%20%20%20%20%20var%20map_fd7fd332e50d407fb138922cbd925912%20%3D%20L.map%28%0A%20%20%20%20%20%20%20%20%20%20%20%20%20%20%20%20%22map_fd7fd332e50d407fb138922cbd925912%22%2C%0A%20%20%20%20%20%20%20%20%20%20%20%20%20%20%20%20%7B%0A%20%20%20%20%20%20%20%20%20%20%20%20%20%20%20%20%20%20%20%20center%3A%20%5B40.42899%2C%20-3.681209%5D%2C%0A%20%20%20%20%20%20%20%20%20%20%20%20%20%20%20%20%20%20%20%20crs%3A%20L.CRS.EPSG3857%2C%0A%20%20%20%20%20%20%20%20%20%20%20%20%20%20%20%20%20%20%20%20zoom%3A%2015%2C%0A%20%20%20%20%20%20%20%20%20%20%20%20%20%20%20%20%20%20%20%20zoomControl%3A%20true%2C%0A%20%20%20%20%20%20%20%20%20%20%20%20%20%20%20%20%20%20%20%20preferCanvas%3A%20false%2C%0A%20%20%20%20%20%20%20%20%20%20%20%20%20%20%20%20%7D%0A%20%20%20%20%20%20%20%20%20%20%20%20%29%3B%0A%0A%20%20%20%20%20%20%20%20%20%20%20%20%0A%0A%20%20%20%20%20%20%20%20%0A%20%20%20%20%0A%20%20%20%20%20%20%20%20%20%20%20%20var%20tile_layer_41f604ba419a4fc99c642b1e36f44569%20%3D%20L.tileLayer%28%0A%20%20%20%20%20%20%20%20%20%20%20%20%20%20%20%20%22https%3A//%7Bs%7D.tile.openstreetmap.org/%7Bz%7D/%7Bx%7D/%7By%7D.png%22%2C%0A%20%20%20%20%20%20%20%20%20%20%20%20%20%20%20%20%7B%22attribution%22%3A%20%22Data%20by%20%5Cu0026copy%3B%20%5Cu003ca%20href%3D%5C%22http%3A//openstreetmap.org%5C%22%5Cu003eOpenStreetMap%5Cu003c/a%5Cu003e%2C%20under%20%5Cu003ca%20href%3D%5C%22http%3A//www.openstreetmap.org/copyright%5C%22%5Cu003eODbL%5Cu003c/a%5Cu003e.%22%2C%20%22detectRetina%22%3A%20false%2C%20%22maxNativeZoom%22%3A%2018%2C%20%22maxZoom%22%3A%2018%2C%20%22minZoom%22%3A%200%2C%20%22noWrap%22%3A%20false%2C%20%22opacity%22%3A%201%2C%20%22subdomains%22%3A%20%22abc%22%2C%20%22tms%22%3A%20false%7D%0A%20%20%20%20%20%20%20%20%20%20%20%20%29.addTo%28map_fd7fd332e50d407fb138922cbd925912%29%3B%0A%20%20%20%20%20%20%20%20%0A%20%20%20%20%0A%20%20%20%20%20%20%20%20%20%20%20%20var%20feature_group_82b8d002fff7446eba4c7927872defb0%20%3D%20L.featureGroup%28%0A%20%20%20%20%20%20%20%20%20%20%20%20%20%20%20%20%7B%7D%0A%20%20%20%20%20%20%20%20%20%20%20%20%29.addTo%28map_fd7fd332e50d407fb138922cbd925912%29%3B%0A%20%20%20%20%20%20%20%20%0A%20%20%20%20%0A%20%20%20%20%20%20%20%20%20%20%20%20var%20heat_map_cff99ccf2e844ac4bc1c437b5060af26%20%3D%20L.heatLayer%28%0A%20%20%20%20%20%20%20%20%20%20%20%20%20%20%20%20%5B%5B40.4581905%2C%20-3.7207176%5D%2C%20%5B40.4180985%2C%20-3.7075094%5D%2C%20%5B40.4206031%2C%20-3.6347032%5D%2C%20%5B40.4158848%2C%20-3.6743935%5D%2C%20%5B40.42574370000001%2C%20-3.6910144%5D%2C%20%5B40.5100311%2C%20-3.7450612%5D%2C%20%5B40.4597576%2C%20-3.6992026%5D%2C%20%5B40.4597576%2C%20-3.6992026%5D%2C%20%5B40.4196967%2C%20-3.690491%5D%2C%20%5B40.39623350000001%2C%20-3.7106195%5D%2C%20%5B40.3952584%2C%20-3.667746299999999%5D%2C%20%5B40.3851602%2C%20-3.7118628%5D%2C%20%5B40.3851602%2C%20-3.7118628%5D%2C%20%5B40.4330227%2C%20-3.6816768%5D%2C%20%5B40.48855959999999%2C%20-3.6854183%5D%2C%20%5B40.48855959999999%2C%20-3.6854183%5D%2C%20%5B40.44892539999999%2C%20-3.670840600000001%5D%2C%20%5B40.4376104%2C%20-3.6917622%5D%2C%20%5B40.3734001%2C%20-3.7312235%5D%2C%20%5B40.36772970000001%2C%20-3.764662599999999%5D%2C%20%5B40.38167610000001%2C%20-3.6686962%5D%2C%20%5B40.4102417%2C%20-3.695468%5D%2C%20%5B40.3951653%2C%20-3.6888015%5D%2C%20%5B40.416272600000006%2C%20-3.680099299999999%5D%2C%20%5B40.4709364%2C%20-3.6131881%5D%2C%20%5B40.4309218%2C%20-3.6896221%5D%2C%20%5B40.3989601%2C%20-3.6283866%5D%2C%20%5B40.4069616%2C%20-3.6948477%5D%2C%20%5B40.4113349%2C%20-3.6749081%5D%2C%20%5B40.4404756%2C%20-3.7267226%5D%2C%20%5B40.37191729999999%2C%20-3.6571596%5D%2C%20%5B40.4427903%2C%20-3.685857700000001%5D%2C%20%5B40.4893173%2C%20-3.6456081%5D%2C%20%5B40.3930799%2C%20-3.7029237%5D%2C%20%5B40.3930799%2C%20-3.7029237%5D%2C%20%5B40.35628270000001%2C%20-3.6781098%5D%2C%20%5B40.35628270000001%2C%20-3.6781098%5D%2C%20%5B40.42123170000001%2C%20-3.611188%5D%2C%20%5B40.4153481%2C%20-3.6935372%5D%2C%20%5B40.4140469%2C%20-3.7242048%5D%2C%20%5B40.4140469%2C%20-3.7242048%5D%2C%20%5B40.3977338%2C%20-3.7157344%5D%2C%20%5B40.3953319%2C%20-3.6743619%5D%2C%20%5B40.50941%2C%20-3.66458%5D%2C%20%5B40.43500969999999%2C%20-3.7083334%5D%2C%20%5B40.467763100000006%2C%20-3.5819493%5D%2C%20%5B40.3873843%2C%20-3.635689100000001%5D%2C%20%5B40.428411%2C%20-3.6891291%5D%2C%20%5B40.4242939%2C%20-3.6398136%5D%2C%20%5B40.42148270000001%2C%20-3.700363%5D%2C%20%5B40.39277269999999%2C%20-3.7026623%5D%2C%20%5B40.39277269999999%2C%20-3.7026623%5D%2C%20%5B40.3828874%2C%20-3.7095953%5D%2C%20%5B40.4486464%2C%20-3.712081%5D%2C%20%5B40.41784579999999%2C%20-3.680757700000001%5D%2C%20%5B40.41784579999999%2C%20-3.680757700000001%5D%2C%20%5B40.4265121%2C%20-3.6114963%5D%2C%20%5B40.4562603%2C%20-3.692213%5D%2C%20%5B40.45921209999999%2C%20-3.691983699999999%5D%2C%20%5B40.4087755%2C%20-3.6953095%5D%2C%20%5B40.43074470000001%2C%20-3.6019198%5D%2C%20%5B40.43397909999999%2C%20-3.6463098%5D%2C%20%5B40.43397909999999%2C%20-3.6463098%5D%2C%20%5B40.3985498%2C%20-3.6266449%5D%2C%20%5B40.3985498%2C%20-3.6266449%5D%2C%20%5B40.4343722%2C%20-3.6452051%5D%2C%20%5B40.418882%2C%20-3.6917853%5D%2C%20%5B40.41309320000001%2C%20-3.7234566%5D%2C%20%5B40.41309320000001%2C%20-3.7234566%5D%2C%20%5B40.41309320000001%2C%20-3.7234566%5D%2C%20%5B40.39522849999999%2C%20-3.6363865%5D%2C%20%5B40.36870510000001%2C%20-3.618221399999999%5D%2C%20%5B40.36870510000001%2C%20-3.618221399999999%5D%2C%20%5B40.47889139999999%2C%20-3.6528582%5D%2C%20%5B40.4595213%2C%20-3.5953203%5D%2C%20%5B40.4515644%2C%20-3.6953293%5D%2C%20%5B40.38691420000001%2C%20-3.7428614%5D%2C%20%5B40.42103529999999%2C%20-3.6710981%5D%2C%20%5B40.4196974%2C%20-3.7099964%5D%2C%20%5B40.4045819%2C%20-3.7034265%5D%2C%20%5B40.406823%2C%20-3.7019646%5D%2C%20%5B40.4136005%2C%20-3.7074697%5D%2C%20%5B40.4199198%2C%20-3.7131737%5D%2C%20%5B40.4199198%2C%20-3.7131737%5D%2C%20%5B40.4140308%2C%20-3.7231884%5D%2C%20%5B40.4389685%2C%20-3.7008087%5D%2C%20%5B40.4017887%2C%20-3.7120011%5D%2C%20%5B40.4301808%2C%20-3.6479169%5D%2C%20%5B40.4110638%2C%20-3.7141255%5D%2C%20%5B40.50616760000001%2C%20-3.6956627%5D%2C%20%5B40.3723552%2C%20-3.760861299999999%5D%2C%20%5B40.3723552%2C%20-3.760861299999999%5D%2C%20%5B40.4013171%2C%20-3.7187451%5D%2C%20%5B40.3913911%2C%20-3.763495299999999%5D%2C%20%5B40.4191319%2C%20-3.6936264%5D%2C%20%5B40.5278709%2C%20-3.6917822%5D%2C%20%5B40.5278709%2C%20-3.6917822%5D%2C%20%5B40.3688321%2C%20-3.6844407%5D%2C%20%5B40.38508270000001%2C%20-3.7172975%5D%2C%20%5B40.4581288%2C%20-3.7006605%5D%2C%20%5B40.441204600000006%2C%20-3.6917359%5D%2C%20%5B40.397753%2C%20-3.6117681%5D%2C%20%5B40.50458690000001%2C%20-3.708847399999999%5D%2C%20%5B40.4041886%2C%20-3.7187969%5D%2C%20%5B40.3647%2C%20-3.6188898%5D%2C%20%5B40.49623039999999%2C%20-3.7202095%5D%2C%20%5B40.4220869%2C%20-3.7026157%5D%2C%20%5B40.4282234%2C%20-3.7064185%5D%2C%20%5B40.5035189%2C%20-3.7132517%5D%2C%20%5B40.5035189%2C%20-3.7132517%5D%2C%20%5B40.35628270000001%2C%20-3.6781098%5D%2C%20%5B40.35628270000001%2C%20-3.6781098%5D%2C%20%5B40.4285348%2C%20-3.7021887%5D%2C%20%5B40.411559%2C%20-3.6994721%5D%2C%20%5B40.40912280000001%2C%20-3.760958599999999%5D%2C%20%5B40.377719%2C%20-3.7589181%5D%2C%20%5B40.4693874%2C%20-3.6424986000000006%5D%2C%20%5B40.437866%2C%20-3.686275199999999%5D%2C%20%5B40.3355839%2C%20-3.6654544%5D%2C%20%5B40.4465648%2C%20-3.6935868%5D%2C%20%5B40.43950770000001%2C%20-3.6318973%5D%2C%20%5B40.3491396%2C%20-3.6755048%5D%2C%20%5B40.3936393%2C%20-3.6662179%5D%2C%20%5B40.3911873%2C%20-3.6498848%5D%2C%20%5B40.4599706%2C%20-3.689240799999999%5D%2C%20%5B40.37314%2C%20-3.62514%5D%2C%20%5B40.4536411%2C%20-3.7046302%5D%2C%20%5B40.38132570000001%2C%20-3.6688766%5D%2C%20%5B40.5283731%2C%20-3.6913734%5D%2C%20%5B40.4354529%2C%20-3.6896221%5D%2C%20%5B40.45121%2C%20-3.5776088%5D%2C%20%5B40.4049996%2C%20-3.6987141%5D%2C%20%5B40.361261%2C%20-3.6928608%5D%2C%20%5B40.4284847%2C%20-3.6994198%5D%2C%20%5B40.35628270000001%2C%20-3.6781098%5D%2C%20%5B40.4191319%2C%20-3.6936264%5D%2C%20%5B40.47752070000001%2C%20-3.6256854%5D%2C%20%5B40.4838347%2C%20-3.689483%5D%2C%20%5B40.5120601%2C%20-3.673488%5D%2C%20%5B40.4360373%2C%20-3.7042835%5D%2C%20%5B40.410332200000006%2C%20-3.6301015%5D%2C%20%5B40.410332200000006%2C%20-3.6301015%5D%2C%20%5B40.4315721%2C%20-3.6747826%5D%2C%20%5B40.4462666%2C%20-3.5826084%5D%2C%20%5B40.3935862%2C%20-3.741922499999999%5D%2C%20%5B40.42998370000001%2C%20-3.7082779%5D%2C%20%5B40.39016489999999%2C%20-3.6925903%5D%2C%20%5B40.4138075%2C%20-3.715200099999999%5D%2C%20%5B40.35628270000001%2C%20-3.6781098%5D%2C%20%5B40.35628270000001%2C%20-3.6781098%5D%2C%20%5B40.3711934%2C%20-3.694154%5D%2C%20%5B40.4840115%2C%20-3.6475357%5D%2C%20%5B40.4166339%2C%20-3.7042567%5D%2C%20%5B40.4258515%2C%20-3.6525805%5D%2C%20%5B40.4258515%2C%20-3.6525805%5D%2C%20%5B40.4760935%2C%20-3.6581036%5D%2C%20%5B40.4760935%2C%20-3.6581036%5D%2C%20%5B40.3651532%2C%20-3.5831848%5D%2C%20%5B40.4100578%2C%20-3.6869835%5D%2C%20%5B40.4100578%2C%20-3.6869835%5D%2C%20%5B40.4697829%2C%20-3.694372099999999%5D%2C%20%5B40.41146260000001%2C%20-3.7213361%5D%2C%20%5B40.37928820000001%2C%20-3.6545856%5D%2C%20%5B40.4044814%2C%20-3.703629%5D%2C%20%5B40.4044814%2C%20-3.703629%5D%2C%20%5B40.5147073%2C%20-3.6734041%5D%2C%20%5B40.4284847%2C%20-3.6994198%5D%2C%20%5B40.4523432%2C%20-3.6956191%5D%2C%20%5B40.33439370000001%2C%20-3.718789%5D%2C%20%5B40.41804000000001%2C%20-3.68027%5D%2C%20%5B40.41804000000001%2C%20-3.68027%5D%2C%20%5B40.4229084%2C%20-3.7096594%5D%2C%20%5B40.4276136%2C%20-3.689316199999999%5D%2C%20%5B40.387511%2C%20-3.694761%5D%2C%20%5B40.41386470000001%2C%20-3.7034155%5D%2C%20%5B40.4104075%2C%20-3.6518644%5D%2C%20%5B40.4555903%2C%20-3.6914297%5D%2C%20%5B40.3862708%2C%20-3.727699700000001%5D%2C%20%5B40.43335159999999%2C%20-3.6476588%5D%2C%20%5B40.37887429999999%2C%20-3.662807099999999%5D%2C%20%5B40.4803555%2C%20-3.647987399999999%5D%2C%20%5B40.4829531%2C%20-3.696982%5D%2C%20%5B40.4687969%2C%20-3.6419111000000006%5D%2C%20%5B40.3973594%2C%20-3.7055828%5D%2C%20%5B40.4428165%2C%20-3.6759087%5D%2C%20%5B40.41387320000001%2C%20-3.708452099999999%5D%2C%20%5B40.4115153%2C%20-3.6733201%5D%2C%20%5B40.3832602%2C%20-3.702456%5D%2C%20%5B40.3983292%2C%20-3.6863336%5D%2C%20%5B40.3983292%2C%20-3.6863336%5D%2C%20%5B40.4058287%2C%20-3.6510935%5D%2C%20%5B40.4340382%2C%20-3.7182557%5D%2C%20%5B40.4501331%2C%20-3.7036926%5D%2C%20%5B40.40160530000001%2C%20-3.744738200000001%5D%2C%20%5B40.4966776%2C%20-3.7235839%5D%2C%20%5B40.4317333%2C%20-3.695094699999999%5D%2C%20%5B40.4317333%2C%20-3.695094699999999%5D%2C%20%5B40.418844%2C%20-3.695847600000001%5D%2C%20%5B40.4347429%2C%20-3.679305499999999%5D%2C%20%5B40.4058729%2C%20-3.7232169%5D%2C%20%5B40.4139115%2C%20-3.716856899999999%5D%2C%20%5B40.4218303%2C%20-3.6884605%5D%2C%20%5B40.3952778%2C%20-3.753611100000001%5D%2C%20%5B40.42394609999999%2C%20-3.6116667%5D%2C%20%5B40.4167754%2C%20-3.7037902%5D%2C%20%5B40.4257494%2C%20-3.6889139%5D%2C%20%5B40.3647%2C%20-3.6188898%5D%2C%20%5B40.43651879999999%2C%20-3.6996374%5D%2C%20%5B40.37294910000001%2C%20-3.710599599999999%5D%2C%20%5B40.4195188%2C%20-3.6087757000000007%5D%2C%20%5B40.472036%2C%20-3.661789199999999%5D%2C%20%5B40.42476970000001%2C%20-3.6205823%5D%2C%20%5B40.4214327%2C%20-3.6829013%5D%2C%20%5B40.42918%2C%20-3.6937637%5D%2C%20%5B40.42458920000001%2C%20-3.6837571%5D%2C%20%5B40.4384865%2C%20-3.700269699999999%5D%2C%20%5B40.4172093%2C%20-3.7024276%5D%2C%20%5B40.365888%2C%20-3.6235249%5D%2C%20%5B40.4463472%2C%20-3.6913488%5D%2C%20%5B40.4168485%2C%20-3.6732177%5D%2C%20%5B40.3832602%2C%20-3.702456%5D%2C%20%5B40.4197419%2C%20-3.7488366%5D%2C%20%5B40.44357369999999%2C%20-3.6166227%5D%2C%20%5B40.419184%2C%20-3.6962013%5D%2C%20%5B40.449654%2C%20-3.667909099999999%5D%2C%20%5B40.38147160000001%2C%20-3.6925053%5D%2C%20%5B40.43711679999999%2C%20-3.6866697%5D%2C%20%5B40.4102964%2C%20-3.6343144000000014%5D%2C%20%5B40.50476550000001%2C%20-3.7167329%5D%2C%20%5B40.37047020000001%2C%20-3.7648131%5D%2C%20%5B40.39931729999999%2C%20-3.6963475%5D%2C%20%5B40.39798070000001%2C%20-3.6683167%5D%2C%20%5B40.4043088%2C%20-3.6808837%5D%2C%20%5B40.4148563%2C%20-3.7167814%5D%2C%20%5B40.44947%2C%20-3.73827%5D%2C%20%5B40.42664050000001%2C%20-3.7243696%5D%2C%20%5B40.4292377%2C%20-3.714533799999999%5D%2C%20%5B40.4141422%2C%20-3.6941903%5D%2C%20%5B40.4840115%2C%20-3.6475357%5D%2C%20%5B40.4167754%2C%20-3.7037902%5D%2C%20%5B40.46708960000001%2C%20-3.6745457%5D%2C%20%5B40.3965375%2C%20-3.716669%5D%2C%20%5B40.4052158%2C%20-3.6803015%5D%2C%20%5B40.4181037%2C%20-3.698583%5D%2C%20%5B40.4355752%2C%20-3.6255152%5D%2C%20%5B40.4433778%2C%20-3.5881025%5D%2C%20%5B40.4361469%2C%20-3.6005712%5D%2C%20%5B40.4637653%2C%20-3.750849%5D%2C%20%5B40.4178979%2C%20-3.7024801%5D%2C%20%5B40.372737%2C%20-3.74219%5D%2C%20%5B40.3667783%2C%20-3.6253235%5D%2C%20%5B40.4070907%2C%20-3.6954341%5D%2C%20%5B40.3736691%2C%20-3.6600002%5D%2C%20%5B40.4556565%2C%20-3.711503%5D%2C%20%5B40.4418172%2C%20-3.697498%5D%2C%20%5B40.47185379999999%2C%20-3.7466871%5D%2C%20%5B40.4338659%2C%20-3.6626162%5D%2C%20%5B40.40719770000001%2C%20-3.6304595%5D%2C%20%5B40.4230802%2C%20-3.686783600000001%5D%2C%20%5B40.345787%2C%20-3.6934549%5D%2C%20%5B40.4167754%2C%20-3.7037902%5D%2C%20%5B40.4293223%2C%20-3.6068722%5D%2C%20%5B40.39641%2C%20-3.71747%5D%2C%20%5B40.4539266%2C%20-3.646891099999999%5D%2C%20%5B40.3866439%2C%20-3.6237691%5D%2C%20%5B40.4981718%2C%20-3.688415%5D%2C%20%5B40.3836055%2C%20-3.6958253%5D%2C%20%5B40.4204055%2C%20-3.6844594%5D%2C%20%5B40.413898%2C%20-3.7119377%5D%2C%20%5B40.39727999999999%2C%20-3.71513%5D%2C%20%5B40.4832227%2C%20-3.619218%5D%2C%20%5B40.3693639%2C%20-3.676961099999999%5D%2C%20%5B40.480946%2C%20-3.7115856%5D%2C%20%5B40.5123135%2C%20-3.6756553%5D%2C%20%5B40.3701594%2C%20-3.6444902%5D%2C%20%5B40.3423217%2C%20-3.7155132000000006%5D%2C%20%5B40.39315870000001%2C%20-3.5781177000000004%5D%2C%20%5B40.39315870000001%2C%20-3.5781177000000004%5D%2C%20%5B40.47659%2C%20-3.74233%5D%2C%20%5B40.47659%2C%20-3.74233%5D%2C%20%5B40.461369%2C%20-3.7084557%5D%2C%20%5B40.4232626%2C%20-3.6917681%5D%2C%20%5B40.415464%2C%20-3.7242316%5D%2C%20%5B40.4257879%2C%20-3.692003%5D%2C%20%5B40.4039889%2C%20-3.6923936%5D%2C%20%5B40.437459%2C%20-3.689551999999999%5D%2C%20%5B40.45135820000001%2C%20-3.6673981%5D%2C%20%5B40.4598186%2C%20-3.6906525%5D%2C%20%5B40.5113861%2C%20-3.6957501000000006%5D%2C%20%5B40.5113861%2C%20-3.6957501000000006%5D%2C%20%5B40.362715%2C%20-3.7577804%5D%2C%20%5B40.4380285%2C%20-3.7004623%5D%2C%20%5B40.4619795%2C%20-3.6634565%5D%2C%20%5B40.3812673%2C%20-3.644255%5D%2C%20%5B40.414044200000006%2C%20-3.7005575%5D%2C%20%5B40.4023229%2C%20-3.71134%5D%2C%20%5B40.50053670000001%2C%20-3.6075677%5D%2C%20%5B40.4208112%2C%20-3.6743126%5D%2C%20%5B40.377719%2C%20-3.7589181%5D%2C%20%5B40.3959447%2C%20-3.7095712%5D%2C%20%5B40.42488609999999%2C%20-3.6046641%5D%2C%20%5B40.4152606%2C%20-3.6844995%5D%2C%20%5B40.4242773%2C%20-3.7335656%5D%2C%20%5B40.4242773%2C%20-3.7335656%5D%2C%20%5B40.4167754%2C%20-3.7037902%5D%2C%20%5B40.4167754%2C%20-3.7037902%5D%2C%20%5B40.4142894%2C%20-3.694130899999999%5D%2C%20%5B40.4050083%2C%20-3.5862238%5D%2C%20%5B40.386715%2C%20-3.699293%5D%2C%20%5B40.5016902%2C%20-3.677925%5D%2C%20%5B40.3853893%2C%20-3.7186466%5D%2C%20%5B40.4006459%2C%20-3.764952199999999%5D%2C%20%5B40.3959656%2C%20-3.7541125%5D%2C%20%5B40.4036%2C%20-3.61953%5D%2C%20%5B40.4015536%2C%20-3.7106183%5D%2C%20%5B40.4164606%2C%20-3.6692934%5D%2C%20%5B40.4649739%2C%20-3.7052589%5D%2C%20%5B40.4117966%2C%20-3.7072331%5D%2C%20%5B40.3922877%2C%20-3.725806%5D%2C%20%5B40.3788729%2C%20-3.684587%5D%2C%20%5B40.5123135%2C%20-3.6756553%5D%2C%20%5B40.4166973%2C%20-3.7048067%5D%2C%20%5B40.4790565%2C%20-3.667750700000001%5D%2C%20%5B40.4149646%2C%20-3.7101972%5D%2C%20%5B40.4347729%2C%20-3.6079788%5D%2C%20%5B40.475171%2C%20-3.687206899999999%5D%2C%20%5B40.4167754%2C%20-3.7037902%5D%2C%20%5B40.4167754%2C%20-3.7037902%5D%2C%20%5B40.4167754%2C%20-3.7037902%5D%2C%20%5B40.399065500000006%2C%20-3.701249599999999%5D%2C%20%5B40.46216010000001%2C%20-3.697816099999999%5D%2C%20%5B40.4840115%2C%20-3.6475357%5D%2C%20%5B40.4840115%2C%20-3.6475357%5D%2C%20%5B40.3491396%2C%20-3.6755048%5D%2C%20%5B40.4370422%2C%20-3.6380888%5D%2C%20%5B40.37294910000001%2C%20-3.710599599999999%5D%2C%20%5B40.39727999999999%2C%20-3.71513%5D%2C%20%5B40.4162565%2C%20-3.7236962%5D%2C%20%5B40.4145883%2C%20-3.715925%5D%2C%20%5B40.44609620000001%2C%20-3.6943572%5D%2C%20%5B40.4922094%2C%20-3.7511794%5D%2C%20%5B40.4323652%2C%20-3.655220399999999%5D%2C%20%5B40.41377670000001%2C%20-3.707580199999999%5D%2C%20%5B40.377719%2C%20-3.7589181%5D%2C%20%5B40.3854274%2C%20-3.7236082%5D%2C%20%5B40.3795107%2C%20-3.6202574%5D%2C%20%5B40.4050164%2C%20-3.7164989%5D%2C%20%5B40.424965%2C%20-3.6838166%5D%2C%20%5B40.50476550000001%2C%20-3.7167329%5D%2C%20%5B40.4170466%2C%20-3.6237013%5D%2C%20%5B40.4163738%2C%20-3.7004637%5D%2C%20%5B40.388642%2C%20-3.7309063%5D%2C%20%5B40.4533216%2C%20-3.7187523%5D%2C%20%5B40.462177200000006%2C%20-3.6973737%5D%2C%20%5B40.43131939999999%2C%20-3.658897799999999%5D%2C%20%5B40.4115378%2C%20-3.6386608%5D%2C%20%5B40.3799108%2C%20-3.608337799999999%5D%2C%20%5B40.382571%2C%20-3.633339%5D%2C%20%5B40.4167754%2C%20-3.7037902%5D%2C%20%5B40.4008759%2C%20-3.692744%5D%2C%20%5B40.4524558%2C%20-3.7117007000000006%5D%2C%20%5B40.4519956%2C%20-3.6214984%5D%2C%20%5B40.4220364%2C%20-3.7227459%5D%2C%20%5B40.433806%2C%20-3.6984584%5D%2C%20%5B40.4708091%2C%20-3.681378500000001%5D%2C%20%5B40.4406364%2C%20-3.6975976%5D%2C%20%5B40.4330635%2C%20-3.6918775%5D%2C%20%5B40.41224100000001%2C%20-3.7317275%5D%2C%20%5B40.4609216%2C%20-3.6050151%5D%2C%20%5B40.41884930000001%2C%20-3.693998600000001%5D%2C%20%5B40.3720679%2C%20-3.6088615%5D%2C%20%5B40.4139658%2C%20-3.7227934%5D%2C%20%5B40.38475270000001%2C%20-3.7506004%5D%2C%20%5B40.425422%2C%20-3.707496099999999%5D%2C%20%5B40.41031630000001%2C%20-3.6423244%5D%2C%20%5B40.443921%2C%20-3.7028184%5D%2C%20%5B40.4113419%2C%20-3.669899499999999%5D%2C%20%5B40.4074144%2C%20-3.7007103%5D%2C%20%5B40.4259025%2C%20-3.6873997%5D%2C%20%5B40.4259025%2C%20-3.6873997%5D%2C%20%5B40.4475936%2C%20-3.6890407%5D%2C%20%5B40.3681402%2C%20-3.637874099999999%5D%2C%20%5B40.4282247%2C%20-3.6499731%5D%2C%20%5B40.465179600000006%2C%20-3.6931438%5D%2C%20%5B40.4564336%2C%20-3.6178227%5D%2C%20%5B40.3968438%2C%20-3.713406200000001%5D%2C%20%5B40.44412360000001%2C%20-3.655954099999999%5D%2C%20%5B40.4493406%2C%20-3.6968337%5D%2C%20%5B40.4216724%2C%20-3.7114384%5D%2C%20%5B40.4233021%2C%20-3.6742374%5D%2C%20%5B40.38812%2C%20-3.69983%5D%2C%20%5B40.4283092%2C%20-3.6961418%5D%2C%20%5B40.3931595%2C%20-3.578122%5D%2C%20%5B40.4172093%2C%20-3.7024276%5D%2C%20%5B40.43516339999999%2C%20-3.6912593%5D%2C%20%5B40.44778669999999%2C%20-3.7041291%5D%2C%20%5B40.4142684%2C%20-3.7075348%5D%2C%20%5B40.4812879%2C%20-3.7391786%5D%2C%20%5B40.44738710000001%2C%20-3.6905253%5D%2C%20%5B40.44778669999999%2C%20-3.7041291%5D%2C%20%5B40.4059778%2C%20-3.7123039%5D%2C%20%5B40.43366870000001%2C%20-3.7358665%5D%2C%20%5B40.3990229%2C%20-3.769469%5D%2C%20%5B40.4148563%2C%20-3.7167814%5D%2C%20%5B40.4631947%2C%20-3.6201395%5D%2C%20%5B40.396545%2C%20-3.61782%5D%2C%20%5B40.3959229%2C%20-3.6943243%5D%2C%20%5B40.4006459%2C%20-3.764952199999999%5D%2C%20%5B40.421263%2C%20-3.6735727%5D%2C%20%5B40.460982400000006%2C%20-3.634318999999999%5D%2C%20%5B40.4086691%2C%20-3.670286%5D%2C%20%5B40.416272600000006%2C%20-3.680099299999999%5D%2C%20%5B40.4550893%2C%20-3.7136347%5D%2C%20%5B40.4207528%2C%20-3.7111638%5D%2C%20%5B40.4190274%2C%20-3.705253700000001%5D%2C%20%5B40.4194013%2C%20-3.6944076%5D%2C%20%5B40.4203936%2C%20-3.6618486%5D%2C%20%5B40.4388619%2C%20-3.6863644%5D%2C%20%5B40.4170466%2C%20-3.6237013%5D%2C%20%5B40.49394570000001%2C%20-3.6875316%5D%2C%20%5B40.4633896%2C%20-3.722676099999999%5D%2C%20%5B40.36739%2C%20-3.6159%5D%2C%20%5B40.43288270000001%2C%20-3.6933358%5D%2C%20%5B40.4632264%2C%20-3.6555032%5D%2C%20%5B40.4261751%2C%20-3.707072%5D%2C%20%5B40.38890689999999%2C%20-3.7397814%5D%2C%20%5B40.3429498%2C%20-3.6964073%5D%2C%20%5B40.41209%2C%20-3.68901%5D%2C%20%5B40.38526210000001%2C%20-3.7364985%5D%2C%20%5B40.38526210000001%2C%20-3.7364985%5D%2C%20%5B40.35555919999999%2C%20-3.6875725%5D%2C%20%5B40.42608389999999%2C%20-3.7070297%5D%2C%20%5B40.4955708%2C%20-3.7034137%5D%2C%20%5B40.418945%2C%20-3.702105099999999%5D%2C%20%5B40.3932068%2C%20-3.6888745%5D%2C%20%5B40.3966449%2C%20-3.6499705%5D%2C%20%5B40.39895900000001%2C%20-3.7088269%5D%2C%20%5B40.4996016%2C%20-3.6399874%5D%2C%20%5B40.43288270000001%2C%20-3.6933358%5D%2C%20%5B40.4381745%2C%20-3.7363981%5D%2C%20%5B40.4330071%2C%20-3.6855854%5D%2C%20%5B40.4139658%2C%20-3.7227934%5D%2C%20%5B40.4068381%2C%20-3.6734503%5D%2C%20%5B40.4637653%2C%20-3.750849%5D%2C%20%5B40.38147160000001%2C%20-3.6925053%5D%2C%20%5B40.471492%2C%20-3.7111481%5D%2C%20%5B40.4023674%2C%20-3.6937981%5D%2C%20%5B40.4006459%2C%20-3.764952199999999%5D%2C%20%5B40.3614679%2C%20-3.68827%5D%2C%20%5B40.4609216%2C%20-3.6050151%5D%2C%20%5B40.4409532%2C%20-3.6267456%5D%2C%20%5B40.4916469%2C%20-3.688311999999999%5D%2C%20%5B40.40295689999999%2C%20-3.699180799999999%5D%2C%20%5B40.4379943%2C%20-3.6935064%5D%2C%20%5B40.5034891%2C%20-3.7055949%5D%2C%20%5B40.5034891%2C%20-3.7055949%5D%2C%20%5B40.5083333%2C%20-3.6713889%5D%2C%20%5B40.41059620000001%2C%20-3.6953075%5D%2C%20%5B40.4071179%2C%20-3.6937181%5D%2C%20%5B40.395715%2C%20-3.7195552%5D%2C%20%5B40.437612%2C%20-3.619482%5D%2C%20%5B40.4292067%2C%20-3.6881514%5D%2C%20%5B40.4139777%2C%20-3.712081%5D%2C%20%5B40.4194375%2C%20-3.6911528%5D%2C%20%5B40.4246727%2C%20-3.7116463%5D%2C%20%5B40.4531274%2C%20-3.6675256%5D%2C%20%5B40.4206367%2C%20-3.7337739%5D%2C%20%5B40.4198063%2C%20-3.6922065%5D%2C%20%5B40.437355200000006%2C%20-3.6278727%5D%2C%20%5B40.3933144%2C%20-3.6517418%5D%2C%20%5B40.4333705%2C%20-3.687642%5D%2C%20%5B40.4460818%2C%20-3.6908368%5D%2C%20%5B40.4152606%2C%20-3.6844995%5D%2C%20%5B40.4480102%2C%20-3.7088037%5D%2C%20%5B40.5107512%2C%20-3.6749609%5D%2C%20%5B40.3957595%2C%20-3.704170200000001%5D%2C%20%5B40.50633879999999%2C%20-3.661401999999999%5D%2C%20%5B40.4456365%2C%20-3.6472635%5D%2C%20%5B40.417955%2C%20-3.714311999999999%5D%2C%20%5B40.4851886%2C%20-3.6474075%5D%2C%20%5B40.4149564%2C%20-3.7138667%5D%2C%20%5B40.4715403%2C%20-3.695425299999999%5D%2C%20%5B40.453668%2C%20-3.7162468%5D%2C%20%5B40.369419%2C%20-3.6797105%5D%2C%20%5B40.369419%2C%20-3.6797105%5D%2C%20%5B40.42019620000001%2C%20-3.7013595%5D%2C%20%5B40.4153838%2C%20-3.7032199%5D%2C%20%5B40.3491396%2C%20-3.6755048%5D%2C%20%5B40.3804291%2C%20-3.748725700000001%5D%2C%20%5B40.3910404%2C%20-3.6940015%5D%2C%20%5B40.4063245%2C%20-3.7215381%5D%2C%20%5B40.4063245%2C%20-3.7215381%5D%2C%20%5B40.4281689%2C%20-3.719263%5D%2C%20%5B40.460293%2C%20-3.6524819%5D%2C%20%5B40.4152606%2C%20-3.6844995%5D%2C%20%5B40.5070825%2C%20-3.6691664%5D%2C%20%5B40.4056314%2C%20-3.7348604%5D%2C%20%5B40.4006459%2C%20-3.764952199999999%5D%2C%20%5B40.4152606%2C%20-3.6844995%5D%2C%20%5B40.497085%2C%20-3.65446%5D%2C%20%5B40.41204339999999%2C%20-3.6932108%5D%2C%20%5B40.4017658%2C%20-3.704834899999999%5D%2C%20%5B40.4167754%2C%20-3.7037902%5D%2C%20%5B40.4343928%2C%20-3.7234957%5D%2C%20%5B40.3725725%2C%20-3.762305000000001%5D%2C%20%5B40.4134761%2C%20-3.7575619%5D%2C%20%5B40.4134761%2C%20-3.7575619%5D%2C%20%5B40.4481769%2C%20-3.6984703%5D%2C%20%5B40.4034015%2C%20-3.6934635%5D%2C%20%5B40.4046477%2C%20-3.7623099%5D%2C%20%5B40.422706100000006%2C%20-3.6803934%5D%2C%20%5B40.401800400000006%2C%20-3.6746799%5D%2C%20%5B40.4243701%2C%20-3.6914074%5D%2C%20%5B40.4484328%2C%20-3.605516499999999%5D%2C%20%5B40.4484328%2C%20-3.605516499999999%5D%2C%20%5B40.4167754%2C%20-3.7037902%5D%2C%20%5B40.4167754%2C%20-3.7037902%5D%2C%20%5B40.40335%2C%20-3.70802%5D%2C%20%5B40.40799459999999%2C%20-3.630657%5D%2C%20%5B40.4273573%2C%20-3.6296904%5D%2C%20%5B40.416132%2C%20-3.6181171%5D%2C%20%5B40.43977410000001%2C%20-3.6863754%5D%2C%20%5B40.4295208%2C%20-3.648664499999999%5D%2C%20%5B40.4195504%2C%20-3.6894737%5D%2C%20%5B40.4845711%2C%20-3.6419433%5D%2C%20%5B40.42072659999999%2C%20-3.686501%5D%2C%20%5B40.39520200000001%2C%20-3.7070689%5D%2C%20%5B40.4153481%2C%20-3.6935372%5D%2C%20%5B40.3959656%2C%20-3.7541125%5D%2C%20%5B40.4139115%2C%20-3.716856899999999%5D%2C%20%5B40.3357318%2C%20-3.710697199999999%5D%2C%20%5B40.3357318%2C%20-3.710697199999999%5D%2C%20%5B40.3357318%2C%20-3.710697199999999%5D%2C%20%5B40.41488349999999%2C%20-3.7187458%5D%2C%20%5B40.4098548%2C%20-3.7177115%5D%2C%20%5B40.36256289999999%2C%20-3.610167%5D%2C%20%5B40.41467720000001%2C%20-3.728423%5D%2C%20%5B40.51364359999999%2C%20-3.664362600000001%5D%2C%20%5B40.4574278%2C%20-3.5883025%5D%2C%20%5B40.4184983%2C%20-3.7254401%5D%2C%20%5B40.4634658%2C%20-3.6899898%5D%2C%20%5B40.4388177%2C%20-3.7082841%5D%2C%20%5B40.422313%2C%20-3.6959436%5D%2C%20%5B40.36603789999999%2C%20-3.6542464%5D%2C%20%5B40.36453909999999%2C%20-3.6970276%5D%2C%20%5B40.4210119%2C%20-3.7148338%5D%2C%20%5B40.41869620000001%2C%20-3.696432799999999%5D%2C%20%5B40.4357763%2C%20-3.6991079%5D%2C%20%5B40.4467312%2C%20-3.6905435%5D%2C%20%5B40.4151488%2C%20-3.6705314%5D%2C%20%5B40.4351264%2C%20-3.6651525%5D%2C%20%5B40.3858514%2C%20-3.7057498%5D%2C%20%5B40.4167754%2C%20-3.7037902%5D%2C%20%5B40.4167754%2C%20-3.7037902%5D%2C%20%5B40.4131211%2C%20-3.7008686%5D%2C%20%5B40.3738383%2C%20-3.7387161%5D%2C%20%5B40.4064595%2C%20-3.6325434%5D%2C%20%5B40.4139221%2C%20-3.7075995%5D%2C%20%5B40.4609216%2C%20-3.6050151%5D%2C%20%5B40.4305441%2C%20-3.68515%5D%2C%20%5B40.453816%2C%20-3.6041185%5D%2C%20%5B40.4009743%2C%20-3.7140712%5D%2C%20%5B40.4329938%2C%20-3.6343585%5D%2C%20%5B40.4280055%2C%20-3.735776499999999%5D%2C%20%5B40.4579352%2C%20-3.690702%5D%2C%20%5B40.4434146%2C%20-3.6477191%5D%2C%20%5B40.4377881%2C%20-3.6921908%5D%2C%20%5B40.3984544%2C%20-3.6010185%5D%2C%20%5B40.396863%2C%20-3.7153007000000007%5D%2C%20%5B40.4152606%2C%20-3.6844995%5D%2C%20%5B40.5061234%2C%20-3.6775417%5D%2C%20%5B40.36453909999999%2C%20-3.6970276%5D%2C%20%5B40.4539085%2C%20-3.702725399999999%5D%2C%20%5B40.4545042%2C%20-3.6909607%5D%2C%20%5B40.38972920000001%2C%20-3.7129216%5D%2C%20%5B40.4298459%2C%20-3.7307044%5D%2C%20%5B40.372737%2C%20-3.74219%5D%2C%20%5B40.4274401%2C%20-3.6965976%5D%2C%20%5B40.43151470000001%2C%20-3.703646%5D%2C%20%5B40.3729211%2C%20-3.7403432%5D%2C%20%5B40.489631%2C%20-3.6861744%5D%2C%20%5B40.41923170000001%2C%20-3.6890871%5D%2C%20%5B40.42088450000001%2C%20-3.679096700000001%5D%2C%20%5B40.37371%2C%20-3.732699999999999%5D%2C%20%5B40.4294233%2C%20-3.6702339%5D%2C%20%5B40.3836158%2C%20-3.6691017%5D%2C%20%5B40.4778244%2C%20-3.7221431%5D%2C%20%5B40.4177611%2C%20-3.6927336%5D%2C%20%5B40.4761717%2C%20-3.7291605%5D%2C%20%5B40.4363076%2C%20-3.6796163%5D%2C%20%5B40.4188665%2C%20-3.7217741%5D%2C%20%5B40.4263095%2C%20-3.6297179%5D%2C%20%5B40.4023195%2C%20-3.7297086%5D%2C%20%5B40.4031218%2C%20-3.6818633%5D%2C%20%5B40.4064655%2C%20-3.6896451%5D%2C%20%5B40.4152606%2C%20-3.6844995%5D%2C%20%5B40.4035457%2C%20-3.6934465%5D%2C%20%5B40.4413454%2C%20-3.7044489%5D%2C%20%5B40.37371%2C%20-3.732699999999999%5D%2C%20%5B40.40731359999999%2C%20-3.674104099999999%5D%2C%20%5B40.4067088%2C%20-3.668696%5D%2C%20%5B40.4175346%2C%20-3.7010494%5D%2C%20%5B40.3930891%2C%20-3.5777454%5D%2C%20%5B40.4165927%2C%20-3.7030921%5D%2C%20%5B40.39934210000001%2C%20-3.6028932%5D%2C%20%5B40.4218559%2C%20-3.6828259%5D%2C%20%5B40.4562542%2C%20-3.5800409%5D%2C%20%5B40.42476920000001%2C%20-3.7032951%5D%5D%2C%0A%20%20%20%20%20%20%20%20%20%20%20%20%20%20%20%20%7B%22blur%22%3A%2015%2C%20%22maxZoom%22%3A%2018%2C%20%22minOpacity%22%3A%200.5%2C%20%22radius%22%3A%2015%7D%0A%20%20%20%20%20%20%20%20%20%20%20%20%29.addTo%28feature_group_82b8d002fff7446eba4c7927872defb0%29%3B%0A%20%20%20%20%20%20%20%20%0A%20%20%20%20%0A%20%20%20%20%20%20%20%20%20%20%20%20var%20feature_group_316b88a86463422486ae31d236f2b888%20%3D%20L.featureGroup%28%0A%20%20%20%20%20%20%20%20%20%20%20%20%20%20%20%20%7B%7D%0A%20%20%20%20%20%20%20%20%20%20%20%20%29.addTo%28map_fd7fd332e50d407fb138922cbd925912%29%3B%0A%20%20%20%20%20%20%20%20%0A%20%20%20%20%0A%20%20%20%20%20%20%20%20%20%20%20%20var%20heat_map_e9cdd11bbabe48589e5a9368a02b882d%20%3D%20L.heatLayer%28%0A%20%20%20%20%20%20%20%20%20%20%20%20%20%20%20%20%5B%5B40.4289896%2C%20-3.681209%5D%2C%20%5B40.3819706%2C%20-3.6234229%5D%2C%20%5B40.37793900000001%2C%20-3.608275599999999%5D%2C%20%5B40.37793900000001%2C%20-3.608275599999999%5D%2C%20%5B40.4486812%2C%20-3.6733582%5D%2C%20%5B40.4067492%2C%20-3.630845399999999%5D%2C%20%5B40.49350020000001%2C%20-3.687132%5D%2C%20%5B40.5112874%2C%20-3.6938236%5D%2C%20%5B40.3875277%2C%20-3.7174109%5D%2C%20%5B40.4224128%2C%20-3.7089378%5D%2C%20%5B40.403685%2C%20-3.713856599999999%5D%2C%20%5B40.4215151%2C%20-3.7078966%5D%2C%20%5B40.3677001%2C%20-3.6084863%5D%2C%20%5B40.41204339999999%2C%20-3.6932108%5D%2C%20%5B40.4244558%2C%20-3.648667799999999%5D%2C%20%5B40.4304221%2C%20-3.7077541%5D%2C%20%5B40.4177835%2C%20-3.7085565%5D%2C%20%5B40.44436049999999%2C%20-3.686019200000001%5D%2C%20%5B40.4432092%2C%20-3.5714234%5D%2C%20%5B40.40879710000001%2C%20-3.6071373%5D%2C%20%5B40.5053001%2C%20-3.6420714%5D%2C%20%5B40.3922584%2C%20-3.6574486%5D%2C%20%5B40.3957987%2C%20-3.6644166%5D%2C%20%5B40.4184039%2C%20-3.6960347%5D%2C%20%5B40.4184039%2C%20-3.6960347%5D%2C%20%5B40.3919749%2C%20-3.6788784%5D%2C%20%5B40.42272420000001%2C%20-3.6923964%5D%2C%20%5B40.3655693%2C%20-3.7537655%5D%2C%20%5B40.4136911%2C%20-3.670738799999999%5D%2C%20%5B40.4294873%2C%20-3.7222841%5D%2C%20%5B40.4700088%2C%20-3.6852628%5D%2C%20%5B40.4265899%2C%20-3.6722076%5D%2C%20%5B40.4186387%2C%20-3.6966751%5D%2C%20%5B40.4409%2C%20-3.679689999999999%5D%2C%20%5B40.43511489999999%2C%20-3.7085893%5D%2C%20%5B40.4069928%2C%20-3.6820606%5D%2C%20%5B40.45274000000001%2C%20-3.6777632000000007%5D%2C%20%5B40.4216448%2C%20-3.6882153%5D%2C%20%5B40.4215419%2C%20-3.6834493%5D%2C%20%5B40.4335071%2C%20-3.7044863%5D%2C%20%5B40.4626547%2C%20-3.628083299999999%5D%2C%20%5B40.4626547%2C%20-3.628083299999999%5D%2C%20%5B40.4290821%2C%20-3.6749609%5D%2C%20%5B40.4286654%2C%20-3.6955671%5D%2C%20%5B40.4286654%2C%20-3.6955671%5D%2C%20%5B40.4051017%2C%20-3.6807097%5D%2C%20%5B40.40641%2C%20-3.6255%5D%2C%20%5B40.4069569%2C%20-3.6874172%5D%2C%20%5B40.4098609%2C%20-3.6878257%5D%2C%20%5B40.372187%2C%20-3.7533687000000007%5D%2C%20%5B40.39584910000001%2C%20-3.7022263%5D%2C%20%5B40.40512409999999%2C%20-3.7022481%5D%2C%20%5B40.39652239999999%2C%20-3.7183794%5D%2C%20%5B40.41565739999999%2C%20-3.7053396%5D%2C%20%5B40.3889419%2C%20-3.7696025%5D%2C%20%5B40.43502460000001%2C%20-3.6965022%5D%2C%20%5B40.44438780000001%2C%20-3.6958867%5D%2C%20%5B40.4463472%2C%20-3.6913488%5D%2C%20%5B40.3905654%2C%20-3.694092599999999%5D%2C%20%5B40.4101249%2C%20-3.6560659%5D%2C%20%5B40.417810300000006%2C%20-3.6888065%5D%2C%20%5B40.4432324%2C%20-3.6908818%5D%2C%20%5B40.453096%2C%20-3.5844669%5D%2C%20%5B40.4332296%2C%20-3.6137583%5D%2C%20%5B40.46308920000001%2C%20-3.6188013%5D%2C%20%5B40.4463472%2C%20-3.6913488%5D%2C%20%5B40.3943325%2C%20-3.6616314%5D%2C%20%5B40.3996275%2C%20-3.7332813%5D%2C%20%5B40.4914782%2C%20-3.6536823%5D%2C%20%5B40.479068%2C%20-3.6490489%5D%2C%20%5B40.479068%2C%20-3.6490489%5D%2C%20%5B40.3510836%2C%20-3.6929899%5D%2C%20%5B40.3832818%2C%20-3.705887%5D%2C%20%5B40.3995373%2C%20-3.6715486%5D%2C%20%5B40.42107379999999%2C%20-3.6702534%5D%2C%20%5B40.43163089999999%2C%20-3.6923171%5D%2C%20%5B40.4238011%2C%20-3.7075514%5D%2C%20%5B40.38645%2C%20-3.63778%5D%2C%20%5B40.4191319%2C%20-3.6936264%5D%2C%20%5B40.3688595%2C%20-3.6164073%5D%2C%20%5B40.45560370000001%2C%20-3.6571306%5D%2C%20%5B40.34008970000001%2C%20-3.6692675%5D%2C%20%5B40.41067%2C%20-3.6949%5D%2C%20%5B40.41067%2C%20-3.6949%5D%2C%20%5B40.44990870000001%2C%20-3.6885236%5D%2C%20%5B40.446089%2C%20-3.686865%5D%2C%20%5B40.3813596%2C%20-3.669552399999999%5D%2C%20%5B40.4191319%2C%20-3.6936264%5D%2C%20%5B40.3958584%2C%20-3.633288%5D%2C%20%5B40.4077415%2C%20-3.7121846%5D%2C%20%5B40.4707589%2C%20-3.7319304%5D%2C%20%5B40.4487989%2C%20-3.6954944%5D%2C%20%5B40.49523370000001%2C%20-3.6124067%5D%2C%20%5B40.4120573%2C%20-3.719479%5D%2C%20%5B40.41783059999999%2C%20-3.7245731%5D%2C%20%5B40.406115%2C%20-3.7101352%5D%2C%20%5B40.4210254%2C%20-3.6849785%5D%2C%20%5B40.5278709%2C%20-3.6917822%5D%2C%20%5B40.5278709%2C%20-3.6917822%5D%2C%20%5B40.35628270000001%2C%20-3.6781098%5D%2C%20%5B40.4077394%2C%20-3.6302943%5D%2C%20%5B40.4162424%2C%20-3.7017361000000006%5D%2C%20%5B40.3735654%2C%20-3.740595200000001%5D%2C%20%5B40.42518070000001%2C%20-3.6909932%5D%2C%20%5B40.41838389999999%2C%20-3.6966827000000007%5D%2C%20%5B40.4315082%2C%20-3.6986587%5D%2C%20%5B40.4084884%2C%20-3.7419675%5D%2C%20%5B40.4230222%2C%20-3.7023047%5D%2C%20%5B40.4230222%2C%20-3.7023047%5D%2C%20%5B40.4054729%2C%20-3.7009851%5D%2C%20%5B40.4093831%2C%20-3.6920301%5D%2C%20%5B40.3716143%2C%20-3.7022815%5D%2C%20%5B40.4609216%2C%20-3.6050151%5D%2C%20%5B40.48577299999999%2C%20-3.632117999999999%5D%2C%20%5B40.4199055%2C%20-3.709297099999999%5D%2C%20%5B40.40933270000001%2C%20-3.6523644%5D%2C%20%5B40.4167754%2C%20-3.7037902%5D%2C%20%5B40.360023%2C%20-3.7149501%5D%2C%20%5B40.3920393%2C%20-3.6124408%5D%2C%20%5B40.3961193%2C%20-3.766376799999999%5D%2C%20%5B40.3961193%2C%20-3.766376799999999%5D%2C%20%5B40.414327%2C%20-3.677063999999999%5D%2C%20%5B40.4272873%2C%20-3.6700447%5D%2C%20%5B40.4288218%2C%20-3.6960476%5D%2C%20%5B40.4483118%2C%20-3.700352%5D%2C%20%5B40.44849019999999%2C%20-3.630408899999999%5D%2C%20%5B40.3775513%2C%20-3.754961100000001%5D%2C%20%5B40.4715221%2C%20-3.6978226%5D%2C%20%5B40.4841794%2C%20-3.7358653%5D%2C%20%5B40.4159691%2C%20-3.7327986000000006%5D%2C%20%5B40.46273770000001%2C%20-3.7018893%5D%2C%20%5B40.46273770000001%2C%20-3.7018893%5D%2C%20%5B40.3992671%2C%20-3.6297163%5D%2C%20%5B40.4378947%2C%20-3.6908052%5D%2C%20%5B40.4436114%2C%20-3.6519451%5D%2C%20%5B40.4210539%2C%20-3.7092233%5D%2C%20%5B40.4317901%2C%20-3.6576218%5D%2C%20%5B40.3866942%2C%20-3.6864697%5D%2C%20%5B40.4269268%2C%20-3.6988689%5D%2C%20%5B40.4172375%2C%20-3.694501599999999%5D%2C%20%5B40.4609216%2C%20-3.6050151%5D%2C%20%5B40.432551200000006%2C%20-3.7251689%5D%2C%20%5B40.432551200000006%2C%20-3.7251689%5D%2C%20%5B40.432551200000006%2C%20-3.7251689%5D%2C%20%5B40.4157262%2C%20-3.7533001000000006%5D%2C%20%5B40.34706110000001%2C%20-3.7135306%5D%2C%20%5B40.34706110000001%2C%20-3.7135306%5D%2C%20%5B40.47823220000001%2C%20-3.7241553%5D%2C%20%5B40.4094355%2C%20-3.686175299999999%5D%2C%20%5B40.4161673%2C%20-3.6236998%5D%2C%20%5B40.4077023%2C%20-3.702708%5D%2C%20%5B40.4663242%2C%20-3.6889541%5D%2C%20%5B40.4335495%2C%20-3.6043694%5D%2C%20%5B40.4734364%2C%20-3.6555345%5D%2C%20%5B40.4734364%2C%20-3.6555345%5D%2C%20%5B40.4734364%2C%20-3.6555345%5D%2C%20%5B40.3572228%2C%20-3.6811416%5D%2C%20%5B40.4290821%2C%20-3.6749609%5D%2C%20%5B40.4148071%2C%20-3.7055867%5D%2C%20%5B40.4263706%2C%20-3.6803975%5D%2C%20%5B40.4314219%2C%20-3.736153700000001%5D%2C%20%5B40.4390053%2C%20-3.688748200000001%5D%2C%20%5B40.4368949%2C%20-3.6998677%5D%2C%20%5B40.4368949%2C%20-3.6998677%5D%2C%20%5B40.3962904%2C%20-3.6550569%5D%2C%20%5B40.3979085%2C%20-3.7102742%5D%2C%20%5B40.3491396%2C%20-3.6755048%5D%2C%20%5B40.3491396%2C%20-3.6755048%5D%2C%20%5B40.3856015%2C%20-3.718866099999999%5D%2C%20%5B40.4191319%2C%20-3.6936264%5D%2C%20%5B40.432717%2C%20-3.6907132000000007%5D%2C%20%5B40.432717%2C%20-3.6907132000000007%5D%2C%20%5B40.42874399999999%2C%20-3.6277293%5D%2C%20%5B40.4208273%2C%20-3.688811%5D%2C%20%5B40.40671409999999%2C%20-3.6877787%5D%2C%20%5B40.4186387%2C%20-3.6966751%5D%2C%20%5B40.38533820000001%2C%20-3.6560063%5D%2C%20%5B40.3885227%2C%20-3.7317501%5D%2C%20%5B40.384217%2C%20-3.642973099999999%5D%2C%20%5B40.4955678%2C%20-3.7196419%5D%2C%20%5B40.479513%2C%20-3.7136253%5D%2C%20%5B40.4028662%2C%20-3.6907778%5D%2C%20%5B40.4388205%2C%20-3.6396686%5D%2C%20%5B40.4434377%2C%20-3.7026127%5D%2C%20%5B40.42249210000001%2C%20-3.715698599999999%5D%2C%20%5B40.4353608%2C%20-3.6900184%5D%2C%20%5B40.4737144%2C%20-3.7115126%5D%2C%20%5B40.4251921%2C%20-3.6354612%5D%2C%20%5B40.4345876%2C%20-3.7002131%5D%2C%20%5B40.4012526%2C%20-3.700372599999999%5D%2C%20%5B40.4012526%2C%20-3.700372599999999%5D%2C%20%5B40.43159710000001%2C%20-3.6865112%5D%2C%20%5B40.43159710000001%2C%20-3.6865112%5D%2C%20%5B40.4328676%2C%20-3.6512057%5D%2C%20%5B40.3836464%2C%20-3.6973634%5D%2C%20%5B40.43414%2C%20-3.65688%5D%2C%20%5B40.4594127%2C%20-3.6993421%5D%2C%20%5B40.44609620000001%2C%20-3.6943572%5D%2C%20%5B40.41923170000001%2C%20-3.6890871%5D%2C%20%5B40.4062392%2C%20-3.6855052%5D%2C%20%5B40.44317700000001%2C%20-3.697838199999999%5D%2C%20%5B40.3974716%2C%20-3.696107599999999%5D%2C%20%5B40.3667783%2C%20-3.6253235%5D%2C%20%5B40.4499399%2C%20-3.6616341%5D%2C%20%5B40.41309320000001%2C%20-3.7234566%5D%2C%20%5B40.39652239999999%2C%20-3.7183794%5D%2C%20%5B40.39652239999999%2C%20-3.7183794%5D%2C%20%5B40.4135454%2C%20-3.7245489%5D%2C%20%5B40.4259396%2C%20-3.6756247%5D%2C%20%5B40.492864%2C%20-3.6741947%5D%2C%20%5B40.434667%2C%20-3.6778345%5D%2C%20%5B40.4951748%2C%20-3.672900700000001%5D%2C%20%5B40.51051010000001%2C%20-3.6964595%5D%2C%20%5B40.4265749%2C%20-3.7007464%5D%2C%20%5B40.4636354%2C%20-3.699367799999999%5D%2C%20%5B40.42015429999999%2C%20-3.7157113%5D%2C%20%5B40.42015429999999%2C%20-3.7157113%5D%2C%20%5B40.43960209999999%2C%20-3.6992383%5D%2C%20%5B40.3978899%2C%20-3.67406%5D%2C%20%5B40.4094355%2C%20-3.686175299999999%5D%2C%20%5B40.4136244%2C%20-3.7103844%5D%2C%20%5B40.4477945%2C%20-3.6793958%5D%2C%20%5B40.3362704%2C%20-3.6944375%5D%2C%20%5B40.4297443%2C%20-3.6721842%5D%2C%20%5B40.38280379999999%2C%20-3.7421175%5D%2C%20%5B40.41784579999999%2C%20-3.680757700000001%5D%2C%20%5B40.41784579999999%2C%20-3.680757700000001%5D%2C%20%5B40.42140120000001%2C%20-3.677013%5D%2C%20%5B40.401137%2C%20-3.665663799999999%5D%2C%20%5B40.4078701%2C%20-3.7098114%5D%2C%20%5B40.4152606%2C%20-3.6844995%5D%2C%20%5B40.4152606%2C%20-3.6844995%5D%2C%20%5B40.4010032%2C%20-3.6936841%5D%2C%20%5B40.4167754%2C%20-3.7037902%5D%2C%20%5B40.4249124%2C%20-3.678650799999999%5D%2C%20%5B40.41631629999999%2C%20-3.7060897000000006%5D%2C%20%5B40.377818100000006%2C%20-3.7512317%5D%2C%20%5B40.42137%2C%20-3.69272%5D%2C%20%5B40.4167754%2C%20-3.7037902%5D%2C%20%5B40.4254679%2C%20-3.7335346%5D%2C%20%5B40.4427867%2C%20-3.6908309%5D%2C%20%5B40.389762%2C%20-3.622865%5D%2C%20%5B40.409205%2C%20-3.688735%5D%2C%20%5B40.4140031%2C%20-3.6889588%5D%2C%20%5B40.412731%2C%20-3.720507099999999%5D%2C%20%5B40.4061088%2C%20-3.718321899999999%5D%2C%20%5B40.4061088%2C%20-3.718321899999999%5D%2C%20%5B40.3716149%2C%20-3.6474481%5D%2C%20%5B40.4732502%2C%20-3.6902704%5D%2C%20%5B40.37271%2C%20-3.76586%5D%2C%20%5B40.44333820000001%2C%20-3.674979%5D%2C%20%5B40.4097633%2C%20-3.6894019%5D%2C%20%5B40.4097633%2C%20-3.6894019%5D%2C%20%5B40.4018684%2C%20-3.6223161%5D%2C%20%5B40.3625971%2C%20-3.6995308%5D%2C%20%5B40.4006459%2C%20-3.764952199999999%5D%2C%20%5B40.36453909999999%2C%20-3.6970276%5D%2C%20%5B40.4245791%2C%20-3.6765915%5D%2C%20%5B40.4308701%2C%20-3.6838482%5D%2C%20%5B40.4094013%2C%20-3.6532002%5D%2C%20%5B40.4140416%2C%20-3.6830708%5D%2C%20%5B40.4140416%2C%20-3.6830708%5D%2C%20%5B40.4261381%2C%20-3.6801264%5D%2C%20%5B40.3865055%2C%20-3.701962%5D%2C%20%5B40.4004357%2C%20-3.6664644%5D%2C%20%5B40.373821%2C%20-3.7347719%5D%2C%20%5B40.40743120000001%2C%20-3.7645045%5D%2C%20%5B40.40743120000001%2C%20-3.7645045%5D%2C%20%5B40.4246478%2C%20-3.6875416%5D%2C%20%5B40.432075%2C%20-3.7292713%5D%2C%20%5B40.4039831%2C%20-3.7203707%5D%2C%20%5B40.43546420000001%2C%20-3.6917622%5D%2C%20%5B40.346149%2C%20-3.710185%5D%2C%20%5B40.346149%2C%20-3.710185%5D%2C%20%5B40.41612670000001%2C%20-3.6959549%5D%2C%20%5B40.4167754%2C%20-3.7037902%5D%2C%20%5B40.395762%2C%20-3.7039284%5D%2C%20%5B40.3778652%2C%20-3.6842484%5D%2C%20%5B40.49505429999999%2C%20-3.6504833%5D%2C%20%5B40.3986575%2C%20-3.6939817%5D%2C%20%5B40.3661124%2C%20-3.6871707%5D%2C%20%5B40.45645469999999%2C%20-3.6959242%5D%2C%20%5B40.4358844%2C%20-3.677737799999999%5D%2C%20%5B40.3698973%2C%20-3.7108331%5D%2C%20%5B40.390924%2C%20-3.651897%5D%2C%20%5B40.4550277%2C%20-3.7036344%5D%2C%20%5B40.4550277%2C%20-3.7036344%5D%2C%20%5B40.418844%2C%20-3.695847600000001%5D%2C%20%5B40.4633547%2C%20-3.6651415%5D%2C%20%5B40.373821%2C%20-3.7347719%5D%2C%20%5B40.4078627%2C%20-3.6893992%5D%2C%20%5B40.4186362%2C%20-3.7120978%5D%2C%20%5B40.4186362%2C%20-3.7120978%5D%2C%20%5B40.35628270000001%2C%20-3.6781098%5D%2C%20%5B40.4286818%2C%20-3.673513%5D%2C%20%5B40.4286818%2C%20-3.673513%5D%2C%20%5B40.4432851%2C%20-3.677818100000001%5D%2C%20%5B40.4518228%2C%20-3.6856109%5D%2C%20%5B40.4200208%2C%20-3.7202062000000007%5D%2C%20%5B40.4695709%2C%20-3.663907%5D%2C%20%5B40.4872722%2C%20-3.6468945%5D%2C%20%5B40.41989470000001%2C%20-3.6913659%5D%2C%20%5B40.4139059%2C%20-3.6939615%5D%2C%20%5B40.43141170000001%2C%20-3.699351699999999%5D%2C%20%5B40.420995%2C%20-3.6845087%5D%2C%20%5B40.42144649999999%2C%20-3.7217143%5D%2C%20%5B40.4069434%2C%20-3.6510298%5D%2C%20%5B40.4069434%2C%20-3.6510298%5D%2C%20%5B40.48416810000001%2C%20-3.663178199999999%5D%2C%20%5B40.40903%2C%20-3.6696159%5D%2C%20%5B40.3889704%2C%20-3.7037227%5D%2C%20%5B40.4164321%2C%20-3.707230999999999%5D%2C%20%5B40.4164321%2C%20-3.707230999999999%5D%2C%20%5B40.45229970000001%2C%20-3.6949314%5D%2C%20%5B40.4201907%2C%20-3.7040627%5D%2C%20%5B40.37533639999999%2C%20-3.6572722%5D%2C%20%5B40.37533639999999%2C%20-3.6572722%5D%2C%20%5B40.45748469999999%2C%20-3.7014739%5D%2C%20%5B40.4167754%2C%20-3.7037902%5D%2C%20%5B40.42757%2C%20-3.69515%5D%2C%20%5B40.4165927%2C%20-3.7030921%5D%2C%20%5B40.4165927%2C%20-3.7030921%5D%2C%20%5B40.410332200000006%2C%20-3.6301015%5D%2C%20%5B40.410332200000006%2C%20-3.6301015%5D%2C%20%5B40.4422526%2C%20-3.6921924%5D%2C%20%5B40.4272745%2C%20-3.6876892%5D%2C%20%5B40.42107379999999%2C%20-3.6702534%5D%2C%20%5B40.42107379999999%2C%20-3.6702534%5D%2C%20%5B40.403868%2C%20-3.6968798%5D%2C%20%5B40.4186984%2C%20-3.7179746%5D%2C%20%5B40.3855813%2C%20-3.7174439%5D%2C%20%5B40.40743120000001%2C%20-3.7645045%5D%2C%20%5B40.415284%2C%20-3.7491851%5D%2C%20%5B40.415284%2C%20-3.7491851%5D%2C%20%5B40.430291%2C%20-3.6642013%5D%2C%20%5B40.43644949999999%2C%20-3.7142598%5D%2C%20%5B40.36501060000001%2C%20-3.611305%5D%2C%20%5B40.4354659%2C%20-3.6414541%5D%2C%20%5B40.4354659%2C%20-3.6414541%5D%2C%20%5B40.3993088%2C%20-3.6985254%5D%2C%20%5B40.3993088%2C%20-3.6985254%5D%2C%20%5B40.3737809%2C%20-3.7155999%5D%2C%20%5B40.3637278%2C%20-3.737479099999999%5D%2C%20%5B40.41799839999999%2C%20-3.6921545%5D%2C%20%5B40.4302442%2C%20-3.6823481%5D%2C%20%5B40.4494662%2C%20-3.7048288%5D%2C%20%5B40.4494662%2C%20-3.7048288%5D%2C%20%5B40.4352653%2C%20-3.6990847%5D%2C%20%5B40.4352653%2C%20-3.6990847%5D%2C%20%5B40.4380763%2C%20-3.6367542%5D%2C%20%5B40.39881%2C%20-3.76699%5D%2C%20%5B40.39881%2C%20-3.76699%5D%2C%20%5B40.4305183%2C%20-3.7122167%5D%2C%20%5B40.5029473%2C%20-3.713101699999999%5D%2C%20%5B40.42543189999999%2C%20-3.687864%5D%2C%20%5B40.42543189999999%2C%20-3.687864%5D%2C%20%5B40.4346241%2C%20-3.6672186%5D%2C%20%5B40.4266109%2C%20-3.706727699999999%5D%2C%20%5B40.3966808%2C%20-3.7623347%5D%2C%20%5B40.4374085%2C%20-3.6790792%5D%2C%20%5B40.4302375%2C%20-3.664743%5D%2C%20%5B40.4324353%2C%20-3.6585582%5D%2C%20%5B40.4284847%2C%20-3.6994198%5D%2C%20%5B40.4578988%2C%20-3.6815008%5D%2C%20%5B40.4302194%2C%20-3.6591157%5D%2C%20%5B40.4778511%2C%20-3.681206699999999%5D%2C%20%5B40.42078729999999%2C%20-3.6930055%5D%2C%20%5B40.3830699%2C%20-3.69993%5D%2C%20%5B40.422948%2C%20-3.7076807%5D%2C%20%5B40.4208273%2C%20-3.688811%5D%2C%20%5B40.42503689999999%2C%20-3.6978022%5D%2C%20%5B40.4503277%2C%20-3.694997099999999%5D%2C%20%5B40.4423621%2C%20-3.6161975%5D%2C%20%5B40.421703%2C%20-3.6800522%5D%2C%20%5B40.421703%2C%20-3.6800522%5D%2C%20%5B40.4517376%2C%20-3.703477899999999%5D%2C%20%5B40.4486645%2C%20-3.7033957%5D%2C%20%5B40.4142109%2C%20-3.6944375%5D%2C%20%5B40.44009940000001%2C%20-3.618579199999999%5D%2C%20%5B40.37323350000001%2C%20-3.727703500000001%5D%2C%20%5B40.4423621%2C%20-3.6161975%5D%2C%20%5B40.43031149999999%2C%20-3.6637644%5D%2C%20%5B40.414327%2C%20-3.677063999999999%5D%2C%20%5B40.4808742%2C%20-3.6655324%5D%2C%20%5B40.39528290000001%2C%20-3.695666199999999%5D%2C%20%5B40.4030278%2C%20-3.693719%5D%2C%20%5B40.4184039%2C%20-3.6960347%5D%2C%20%5B40.42062670000001%2C%20-3.6882458%5D%2C%20%5B40.4469059%2C%20-3.6580463%5D%2C%20%5B40.3787368%2C%20-3.6282896%5D%2C%20%5B40.4363528%2C%20-3.6433421%5D%2C%20%5B40.416272600000006%2C%20-3.680099299999999%5D%2C%20%5B40.4046448%2C%20-3.6956025%5D%2C%20%5B40.4076469%2C%20-3.6949571%5D%2C%20%5B40.420995%2C%20-3.6845087%5D%2C%20%5B40.460099%2C%20-3.6965787%5D%2C%20%5B40.4172367%2C%20-3.6998224%5D%2C%20%5B40.4189447%2C%20-3.7357675%5D%2C%20%5B40.4462893%2C%20-3.6051202%5D%2C%20%5B40.4290217%2C%20-3.7031346%5D%2C%20%5B40.4816299%2C%20-3.6259025%5D%2C%20%5B40.3993472%2C%20-3.7339959%5D%2C%20%5B40.45769129999999%2C%20-3.6975021%5D%2C%20%5B40.3972227%2C%20-3.6981345%5D%2C%20%5B40.4314101%2C%20-3.6974058%5D%2C%20%5B40.4006459%2C%20-3.764952199999999%5D%2C%20%5B40.4006459%2C%20-3.764952199999999%5D%2C%20%5B40.4487084%2C%20-3.6985668%5D%2C%20%5B40.4006459%2C%20-3.764952199999999%5D%2C%20%5B40.4367575%2C%20-3.6504415%5D%2C%20%5B40.41825%2C%20-3.6832654%5D%2C%20%5B40.41825%2C%20-3.6832654%5D%2C%20%5B40.3801301%2C%20-3.6211848%5D%2C%20%5B40.4462506%2C%20-3.6897367%5D%2C%20%5B40.4171407%2C%20-3.709692500000001%5D%2C%20%5B40.4078542%2C%20-3.6573301%5D%2C%20%5B40.4121929%2C%20-3.7054316%5D%2C%20%5B40.3980627%2C%20-3.6196191%5D%2C%20%5B40.446587%2C%20-3.7043669%5D%2C%20%5B40.422876%2C%20-3.690751600000001%5D%2C%20%5B40.43356770000001%2C%20-3.7040422999999993%5D%2C%20%5B40.39849359999999%2C%20-3.6695215%5D%2C%20%5B40.445417%2C%20-3.6417377%5D%2C%20%5B40.41530820000001%2C%20-3.6935287%5D%2C%20%5B40.4346717%2C%20-3.6875836%5D%2C%20%5B40.420417%2C%20-3.703471%5D%2C%20%5B40.4073844%2C%20-3.6965382%5D%2C%20%5B40.4199342%2C%20-3.7050805%5D%2C%20%5B40.4346545%2C%20-3.7046841%5D%2C%20%5B40.4257639%2C%20-3.7170941%5D%2C%20%5B40.4393233%2C%20-3.6212106%5D%2C%20%5B40.4499092%2C%20-3.6511331%5D%2C%20%5B40.43097879999999%2C%20-3.639415099999999%5D%2C%20%5B40.5147073%2C%20-3.6734041%5D%2C%20%5B40.3781978%2C%20-3.6530148%5D%2C%20%5B40.4259384%2C%20-3.6995541%5D%2C%20%5B40.4545852%2C%20-3.6872998%5D%2C%20%5B40.3944677%2C%20-3.648661%5D%2C%20%5B40.44295959999999%2C%20-3.6974045%5D%2C%20%5B40.412306%2C%20-3.7092505%5D%2C%20%5B40.385929%2C%20-3.7267304%5D%2C%20%5B40.385929%2C%20-3.7267304%5D%2C%20%5B40.414843%2C%20-3.6735788%5D%2C%20%5B40.4301099%2C%20-3.6641757%5D%2C%20%5B40.4084654%2C%20-3.693189%5D%2C%20%5B40.4161566%2C%20-3.7030524%5D%2C%20%5B40.4119816%2C%20-3.7051443%5D%2C%20%5B40.4500774%2C%20-3.7046318%5D%2C%20%5B40.4013497%2C%20-3.7148846%5D%2C%20%5B40.395347%2C%20-3.657371%5D%2C%20%5B40.4165078%2C%20-3.702636199999999%5D%2C%20%5B40.4292413%2C%20-3.7049219%5D%2C%20%5B40.416272600000006%2C%20-3.680099299999999%5D%2C%20%5B40.4695037%2C%20-3.7053791%5D%2C%20%5B40.379669%2C%20-3.6530009%5D%2C%20%5B40.4254679%2C%20-3.7335346%5D%2C%20%5B40.4254679%2C%20-3.7335346%5D%2C%20%5B40.4048277%2C%20-3.7424478%5D%2C%20%5B40.429474%2C%20-3.6004544000000003%5D%2C%20%5B40.4167754%2C%20-3.7037902%5D%2C%20%5B40.4167754%2C%20-3.7037902%5D%2C%20%5B40.40484259999999%2C%20-3.6833212%5D%2C%20%5B40.4029633%2C%20-3.6783957%5D%2C%20%5B40.4072266%2C%20-3.688863999999999%5D%2C%20%5B40.4233891%2C%20-3.6839949%5D%2C%20%5B40.3946827%2C%20-3.715686100000001%5D%2C%20%5B40.410369%2C%20-3.692898699999999%5D%2C%20%5B40.4122419%2C%20-3.7006412%5D%2C%20%5B40.40691160000001%2C%20-3.6565725%5D%2C%20%5B40.40691160000001%2C%20-3.6565725%5D%2C%20%5B40.4522949%2C%20-3.6927161%5D%2C%20%5B40.4068699%2C%20-3.6700977%5D%2C%20%5B40.3884953%2C%20-3.6350623%5D%2C%20%5B40.4333547%2C%20-3.7130097%5D%2C%20%5B40.4289868%2C%20-3.7095641%5D%2C%20%5B40.50137539999999%2C%20-3.6889497%5D%2C%20%5B40.46046060000001%2C%20-3.6154608%5D%2C%20%5B40.4145484%2C%20-3.7069041%5D%2C%20%5B40.5071249%2C%20-3.6970918%5D%2C%20%5B40.42574570000001%2C%20-3.6880171%5D%2C%20%5B40.4261978%2C%20-3.7349318%5D%2C%20%5B40.378179%2C%20-3.7648326%5D%2C%20%5B40.4161326%2C%20-3.7248654%5D%2C%20%5B40.4152606%2C%20-3.6844995%5D%2C%20%5B40.4244869%2C%20-3.649014299999999%5D%2C%20%5B40.38085%2C%20-3.656489999999999%5D%2C%20%5B40.37294910000001%2C%20-3.710599599999999%5D%2C%20%5B40.3810294%2C%20-3.6235743%5D%2C%20%5B40.441909%2C%20-3.62198%5D%2C%20%5B40.4189339%2C%20-3.6921521%5D%2C%20%5B40.4280055%2C%20-3.735776499999999%5D%2C%20%5B40.4280055%2C%20-3.735776499999999%5D%2C%20%5B40.3928536%2C%20-3.658824499999999%5D%2C%20%5B40.38652620000001%2C%20-3.7080042%5D%2C%20%5B40.4097633%2C%20-3.6894019%5D%2C%20%5B40.4293613%2C%20-3.7203971%5D%2C%20%5B40.4116229%2C%20-3.6956245%5D%2C%20%5B40.4546398%2C%20-3.6714277%5D%2C%20%5B40.4343792%2C%20-3.6911358%5D%2C%20%5B40.4128891%2C%20-3.669774699999999%5D%2C%20%5B40.45637929999999%2C%20-3.6946308%5D%2C%20%5B40.41520429999999%2C%20-3.6940925%5D%2C%20%5B40.45637929999999%2C%20-3.6946308%5D%2C%20%5B40.4167754%2C%20-3.7037902%5D%2C%20%5B40.4079549%2C%20-3.6788231%5D%2C%20%5B40.382372%2C%20-3.640309099999999%5D%2C%20%5B40.3900775%2C%20-3.700175%5D%2C%20%5B40.3900775%2C%20-3.700175%5D%2C%20%5B40.4196362%2C%20-3.6885724%5D%2C%20%5B40.4688469%2C%20-3.7018398%5D%2C%20%5B40.47447289999999%2C%20-3.6849493%5D%2C%20%5B40.4167166%2C%20-3.7050678%5D%2C%20%5B40.420561600000006%2C%20-3.7177678%5D%2C%20%5B40.484364%2C%20-3.6548876%5D%2C%20%5B40.4421365%2C%20-3.704095499999999%5D%2C%20%5B40.4588353%2C%20-3.6683729%5D%2C%20%5B40.48384%2C%20-3.71421%5D%2C%20%5B40.4184039%2C%20-3.6960347%5D%2C%20%5B40.409205%2C%20-3.688735%5D%2C%20%5B40.4305286%2C%20-3.712514099999999%5D%2C%20%5B40.48048319999999%2C%20-3.6057363%5D%2C%20%5B40.48048319999999%2C%20-3.6057363%5D%2C%20%5B40.4481519%2C%20-3.6959814%5D%2C%20%5B40.4238024%2C%20-3.6946661%5D%2C%20%5B40.4732502%2C%20-3.6902704%5D%2C%20%5B40.4300383%2C%20-3.6882136%5D%2C%20%5B40.3796448%2C%20-3.711509299999999%5D%2C%20%5B40.39459%2C%20-3.76851%5D%2C%20%5B40.41263989999999%2C%20-3.6920677%5D%2C%20%5B40.3652321%2C%20-3.6033129%5D%2C%20%5B40.4231076%2C%20-3.7108885%5D%2C%20%5B40.4167754%2C%20-3.7037902%5D%2C%20%5B40.4242252%2C%20-3.6952225%5D%2C%20%5B40.4012574%2C%20-3.6860159%5D%2C%20%5B40.4384%2C%20-3.691325%5D%2C%20%5B40.44982%2C%20-3.7020839%5D%2C%20%5B40.4076398%2C%20-3.712553%5D%2C%20%5B40.4420559%2C%20-3.669414499999999%5D%2C%20%5B40.3712988%2C%20-3.7663073%5D%2C%20%5B40.402421200000006%2C%20-3.6767243%5D%2C%20%5B40.4080309%2C%20-3.7072013%5D%2C%20%5B40.40200770000001%2C%20-3.7122362%5D%2C%20%5B40.47204470000001%2C%20-3.7058733%5D%2C%20%5B40.4081705%2C%20-3.707171499999999%5D%2C%20%5B40.4413969%2C%20-3.6919153%5D%2C%20%5B40.40377279999999%2C%20-3.7223544%5D%2C%20%5B40.4101566%2C%20-3.67973%5D%2C%20%5B40.4296959%2C%20-3.6658527%5D%2C%20%5B40.465761%2C%20-3.6898528%5D%2C%20%5B40.3366691%2C%20-3.7176183%5D%2C%20%5B40.4215151%2C%20-3.7078966%5D%2C%20%5B40.4215151%2C%20-3.7078966%5D%2C%20%5B40.4161167%2C%20-3.7079969%5D%2C%20%5B40.4386224%2C%20-3.648855600000001%5D%2C%20%5B40.39931729999999%2C%20-3.6963475%5D%2C%20%5B40.4609216%2C%20-3.6050151%5D%2C%20%5B40.43065720000001%2C%20-3.7166932%5D%2C%20%5B40.3908545%2C%20-3.694999799999999%5D%2C%20%5B40.37042%2C%20-3.69472%5D%2C%20%5B40.416272600000006%2C%20-3.680099299999999%5D%2C%20%5B40.4243719%2C%20-3.6761115%5D%2C%20%5B40.42249210000001%2C%20-3.715698599999999%5D%2C%20%5B40.3917777%2C%20-3.6571584%5D%2C%20%5B40.4999697%2C%20-3.701403500000001%5D%2C%20%5B40.4301021%2C%20-3.7105083%5D%2C%20%5B40.4171539%2C%20-3.62201%5D%2C%20%5B40.4379261%2C%20-3.6949527%5D%2C%20%5B40.39413220000001%2C%20-3.757857999999999%5D%2C%20%5B40.4803555%2C%20-3.647987399999999%5D%2C%20%5B40.4803555%2C%20-3.647987399999999%5D%2C%20%5B40.39889760000001%2C%20-3.7031919%5D%2C%20%5B40.4378912%2C%20-3.6931545%5D%2C%20%5B40.4149508%2C%20-3.6893051%5D%2C%20%5B40.4026296%2C%20-3.7233393%5D%2C%20%5B40.4077495%2C%20-3.7528559%5D%2C%20%5B40.4306408%2C%20-3.7034155%5D%2C%20%5B40.4583935%2C%20-3.6158008%5D%2C%20%5B40.4075263%2C%20-3.6322623%5D%2C%20%5B40.3992453%2C%20-3.6207751%5D%2C%20%5B40.396730700000006%2C%20-3.7545197%5D%2C%20%5B40.37465%2C%20-3.71934%5D%2C%20%5B40.3935828%2C%20-3.6678144%5D%2C%20%5B40.4409488%2C%20-3.6926105%5D%2C%20%5B40.401197%2C%20-3.6483239%5D%2C%20%5B40.4204324%2C%20-3.7155271%5D%2C%20%5B40.4707468%2C%20-3.6874963%5D%2C%20%5B40.4101479%2C%20-3.6942065%5D%2C%20%5B40.4199114%2C%20-3.6882209%5D%2C%20%5B40.4138355%2C%20-3.7073505%5D%2C%20%5B40.46273770000001%2C%20-3.7018893%5D%2C%20%5B40.3989601%2C%20-3.6283866%5D%2C%20%5B40.4609216%2C%20-3.6050151%5D%2C%20%5B40.39430189999999%2C%20-3.6878767%5D%2C%20%5B40.4263094%2C%20-3.7037518%5D%2C%20%5B40.4055692%2C%20-3.7421524%5D%2C%20%5B40.4184039%2C%20-3.6960347%5D%2C%20%5B40.4282589%2C%20-3.6691459%5D%2C%20%5B40.4153838%2C%20-3.7032199%5D%2C%20%5B40.4142894%2C%20-3.694130899999999%5D%2C%20%5B40.4489275%2C%20-3.6777908%5D%2C%20%5B40.4299143%2C%20-3.6391233%5D%2C%20%5B40.4299143%2C%20-3.6391233%5D%2C%20%5B40.4562969%2C%20-3.618715%5D%2C%20%5B40.4168523%2C%20-3.7152658%5D%2C%20%5B40.3639677%2C%20-3.7627645%5D%2C%20%5B40.4462893%2C%20-3.6051202%5D%2C%20%5B40.36453909999999%2C%20-3.6970276%5D%2C%20%5B40.4102758%2C%20-3.6943979%5D%2C%20%5B40.3475894%2C%20-3.7088299%5D%2C%20%5B40.4315811%2C%20-3.6628632%5D%2C%20%5B40.3878102%2C%20-3.7273603%5D%2C%20%5B40.4700105%2C%20-3.6674338%5D%2C%20%5B40.4152606%2C%20-3.6844995%5D%2C%20%5B40.4582626%2C%20-3.682111299999999%5D%2C%20%5B40.3672034%2C%20-3.6748652%5D%2C%20%5B40.4347155%2C%20-3.6863556000000006%5D%2C%20%5B40.416463%2C%20-3.7046732%5D%2C%20%5B40.3539633%2C%20-3.689753%5D%2C%20%5B40.4260526%2C%20-3.7132674%5D%2C%20%5B40.345787%2C%20-3.6934549%5D%2C%20%5B40.41270189999999%2C%20-3.700060799999999%5D%2C%20%5B40.463523%2C%20-3.658434%5D%2C%20%5B40.401937200000006%2C%20-3.694387899999999%5D%2C%20%5B40.4196764%2C%20-3.619739%5D%2C%20%5B40.4386251%2C%20-3.6914178%5D%2C%20%5B40.43494550000001%2C%20-3.6833148%5D%2C%20%5B40.4233585%2C%20-3.710212499999999%5D%2C%20%5B40.41838920000001%2C%20-3.6968156%5D%2C%20%5B40.4911351%2C%20-3.6863373%5D%2C%20%5B40.44998409999999%2C%20-3.7030596%5D%2C%20%5B40.3355839%2C%20-3.6654544%5D%2C%20%5B40.39710150000001%2C%20-3.6669061%5D%2C%20%5B40.39866230000001%2C%20-3.6964201%5D%2C%20%5B40.4097631%2C%20-3.6919233%5D%2C%20%5B40.3672034%2C%20-3.6748652%5D%2C%20%5B40.4428165%2C%20-3.6759087%5D%2C%20%5B40.4378912%2C%20-3.6931545%5D%2C%20%5B40.3541365%2C%20-3.6889776%5D%2C%20%5B40.4206463%2C%20-3.6870412%5D%2C%20%5B40.44021729999999%2C%20-3.680461999999999%5D%2C%20%5B40.43392559999999%2C%20-3.7335917%5D%2C%20%5B40.3890453%2C%20-3.7549474%5D%2C%20%5B40.42049189999999%2C%20-3.7172623%5D%2C%20%5B40.42049189999999%2C%20-3.7172623%5D%2C%20%5B40.4639797%2C%20-3.6758422%5D%2C%20%5B40.461692600000006%2C%20-3.639710500000001%5D%2C%20%5B40.4131941%2C%20-3.732382%5D%2C%20%5B40.4517894%2C%20-3.688889%5D%2C%20%5B40.4950218%2C%20-3.7070032%5D%2C%20%5B40.38283060000001%2C%20-3.607904899999999%5D%2C%20%5B40.4220869%2C%20-3.7026157%5D%2C%20%5B40.42103529999999%2C%20-3.6710981%5D%2C%20%5B40.4293471%2C%20-3.7051803%5D%2C%20%5B40.420838%2C%20-3.677734%5D%2C%20%5B40.4254213%2C%20-3.6746944%5D%2C%20%5B40.4626529%2C%20-3.6858061%5D%2C%20%5B40.3840852%2C%20-3.6334099%5D%2C%20%5B40.4376779%2C%20-3.6473029%5D%2C%20%5B40.4560129%2C%20-3.6613904%5D%2C%20%5B40.3765964%2C%20-3.6293653%5D%2C%20%5B40.4055985%2C%20-3.6749941%5D%2C%20%5B40.34774760000001%2C%20-3.6890475%5D%2C%20%5B40.4202429%2C%20-3.7204137%5D%2C%20%5B40.416463%2C%20-3.7046732%5D%2C%20%5B40.4124679%2C%20-3.7031734%5D%2C%20%5B40.4394929%2C%20-3.614531099999999%5D%2C%20%5B40.43516339999999%2C%20-3.6912593%5D%2C%20%5B40.4676134%2C%20-3.6795902%5D%2C%20%5B40.427922%2C%20-3.7217838%5D%2C%20%5B40.427922%2C%20-3.7217838%5D%2C%20%5B40.5118377%2C%20-3.6841524%5D%2C%20%5B40.4091305%2C%20-3.694401999999999%5D%2C%20%5B40.3987592%2C%20-3.7344799%5D%2C%20%5B40.414605%2C%20-3.7041936%5D%2C%20%5B40.4408273%2C%20-3.725018099999999%5D%2C%20%5B40.42141470000001%2C%20-3.6812249%5D%2C%20%5B40.4416118%2C%20-3.6977669%5D%2C%20%5B40.4032218%2C%20-3.6754439%5D%2C%20%5B40.4335915%2C%20-3.6048997%5D%2C%20%5B40.4893194%2C%20-3.7141135%5D%2C%20%5B40.4259705%2C%20-3.6450968%5D%2C%20%5B40.42391569999999%2C%20-3.7152862%5D%2C%20%5B40.4625443%2C%20-3.6631541%5D%2C%20%5B40.44658070000001%2C%20-3.6971185%5D%2C%20%5B40.4377239%2C%20-3.6830938%5D%2C%20%5B40.4203092%2C%20-3.7060135%5D%2C%20%5B40.41333119999999%2C%20-3.707426099999999%5D%2C%20%5B40.4348857%2C%20-3.6566942%5D%2C%20%5B40.453148%2C%20-3.6951513%5D%2C%20%5B40.41031630000001%2C%20-3.6423244%5D%2C%20%5B40.4306936%2C%20-3.663265499999999%5D%2C%20%5B40.4199114%2C%20-3.6882209%5D%2C%20%5B40.4499815%2C%20-3.703513499999999%5D%2C%20%5B40.4069042%2C%20-3.696592299999999%5D%2C%20%5B40.348496%2C%20-3.706196%5D%2C%20%5B40.4300534%2C%20-3.6444534%5D%2C%20%5B40.4283092%2C%20-3.6961418%5D%2C%20%5B40.4552382%2C%20-3.7140328%5D%2C%20%5B40.4152865%2C%20-3.7123158%5D%2C%20%5B40.4786737%2C%20-3.7164282%5D%2C%20%5B40.4035457%2C%20-3.6934465%5D%2C%20%5B40.4262266%2C%20-3.729280499999999%5D%2C%20%5B40.4152168%2C%20-3.6950088%5D%2C%20%5B40.4711576%2C%20-3.6311706%5D%2C%20%5B40.4116034%2C%20-3.7237359%5D%2C%20%5B40.4146744%2C%20-3.706009%5D%2C%20%5B40.433155%2C%20-3.7048212%5D%2C%20%5B40.4145883%2C%20-3.715925%5D%2C%20%5B40.4586519%2C%20-3.5973075%5D%2C%20%5B40.4087684%2C%20-3.6929061%5D%2C%20%5B40.4081778%2C%20-3.711021799999999%5D%2C%20%5B40.4186387%2C%20-3.6966751%5D%2C%20%5B40.414559%2C%20-3.7001959%5D%2C%20%5B40.4006459%2C%20-3.764952199999999%5D%2C%20%5B40.4287669%2C%20-3.6999847%5D%2C%20%5B40.3836767%2C%20-3.696044%5D%2C%20%5B40.4329633%2C%20-3.672498799999999%5D%2C%20%5B40.4084541%2C%20-3.7049615%5D%2C%20%5B40.50476550000001%2C%20-3.7167329%5D%2C%20%5B40.37197620000001%2C%20-3.6153393%5D%2C%20%5B40.4048039%2C%20-3.6591855%5D%2C%20%5B40.4068195%2C%20-3.732778599999999%5D%2C%20%5B40.4167754%2C%20-3.7037902%5D%2C%20%5B40.4044189%2C%20-3.7028605%5D%2C%20%5B40.4221393%2C%20-3.6563304%5D%2C%20%5B40.40609620000001%2C%20-3.684187799999999%5D%2C%20%5B40.4197419%2C%20-3.7488366%5D%2C%20%5B40.43922620000001%2C%20-3.700828500000001%5D%2C%20%5B40.4264374%2C%20-3.6963395%5D%2C%20%5B40.4249066%2C%20-3.7022557%5D%2C%20%5B40.4339097%2C%20-3.6731384%5D%2C%20%5B40.4278562%2C%20-3.6905201%5D%2C%20%5B40.4167754%2C%20-3.7037902%5D%2C%20%5B40.393417%2C%20-3.751667%5D%2C%20%5B40.409631%2C%20-3.7071221%5D%2C%20%5B40.4065833%2C%20-3.6573699%5D%2C%20%5B40.42574370000001%2C%20-3.6910144%5D%2C%20%5B40.442586%2C%20-3.702304%5D%2C%20%5B40.4174349%2C%20-3.709263%5D%2C%20%5B40.4543492%2C%20-3.6990892%5D%2C%20%5B40.502527%2C%20-3.6839805%5D%2C%20%5B40.4419854%2C%20-3.6334215%5D%2C%20%5B40.4057789%2C%20-3.7078389%5D%2C%20%5B40.4138092%2C%20-3.711368899999999%5D%2C%20%5B40.4475018%2C%20-3.7040748%5D%2C%20%5B40.4204115%2C%20-3.6169642%5D%2C%20%5B40.4182985%2C%20-3.6920892%5D%2C%20%5B40.458676200000006%2C%20-3.700938%5D%2C%20%5B40.420168200000006%2C%20-3.7002443%5D%2C%20%5B40.4194375%2C%20-3.6911528%5D%2C%20%5B40.4194375%2C%20-3.6911528%5D%2C%20%5B40.506041%2C%20-3.6761115%5D%2C%20%5B40.4129047%2C%20-3.6909271%5D%2C%20%5B40.4556123%2C%20-3.6567193%5D%2C%20%5B40.4813028%2C%20-3.6506713%5D%2C%20%5B40.4463167%2C%20-3.6893584%5D%2C%20%5B40.4707468%2C%20-3.6874963%5D%2C%20%5B40.42518920000001%2C%20-3.679259699999999%5D%2C%20%5B40.40697730000001%2C%20-3.6759285%5D%2C%20%5B40.4084654%2C%20-3.693189%5D%2C%20%5B40.50324910000001%2C%20-3.7004962%5D%2C%20%5B40.5109705%2C%20-3.6935956%5D%2C%20%5B40.416939%2C%20-3.694642500000001%5D%2C%20%5B40.3945811%2C%20-3.6810991%5D%2C%20%5B40.4156163%2C%20-3.7103386%5D%2C%20%5B40.4210557%2C%20-3.7224778%5D%2C%20%5B40.4264676%2C%20-3.625966000000001%5D%2C%20%5B40.4008493%2C%20-3.6939624%5D%2C%20%5B40.4044291%2C%20-3.7025434%5D%2C%20%5B40.42939929999999%2C%20-3.6893467%5D%2C%20%5B40.3730422%2C%20-3.66424%5D%2C%20%5B40.4183747%2C%20-3.7082607%5D%2C%20%5B40.4245791%2C%20-3.6765915%5D%2C%20%5B40.4955678%2C%20-3.7196419%5D%2C%20%5B40.4602744%2C%20-3.7003169%5D%2C%20%5B40.415269%2C%20-3.731146399999999%5D%2C%20%5B40.36453909999999%2C%20-3.6970276%5D%2C%20%5B40.49505429999999%2C%20-3.6504833%5D%2C%20%5B40.37323350000001%2C%20-3.727703500000001%5D%2C%20%5B40.43284190000001%2C%20-3.6999683%5D%2C%20%5B40.50476550000001%2C%20-3.7167329%5D%2C%20%5B40.4737828%2C%20-3.7013845%5D%2C%20%5B40.4309249%2C%20-3.7255957%5D%2C%20%5B40.444774%2C%20-3.7123813%5D%2C%20%5B40.34585999999999%2C%20-3.712413499999999%5D%2C%20%5B40.4152606%2C%20-3.6844995%5D%2C%20%5B40.42543189999999%2C%20-3.687864%5D%2C%20%5B40.3774839%2C%20-3.737319%5D%2C%20%5B40.4558136%2C%20-3.683592399999999%5D%2C%20%5B40.4051017%2C%20-3.6807097%5D%2C%20%5B40.4402311%2C%20-3.6253213%5D%2C%20%5B40.421583700000006%2C%20-3.677515799999999%5D%2C%20%5B40.4461361%2C%20-3.6991767%5D%2C%20%5B40.37313%2C%20-3.65999%5D%2C%20%5B40.37313%2C%20-3.65999%5D%2C%20%5B40.4277643%2C%20-3.695651%5D%2C%20%5B40.4383179%2C%20-3.7385101%5D%2C%20%5B40.4338664%2C%20-3.7094414%5D%2C%20%5B40.4051651%2C%20-3.6920439%5D%2C%20%5B40.4649602%2C%20-3.714765%5D%2C%20%5B40.4670064%2C%20-3.6662001%5D%2C%20%5B40.3959979%2C%20-3.6192112%5D%2C%20%5B40.4046533%2C%20-3.7211603%5D%2C%20%5B40.4173368%2C%20-3.7345699%5D%2C%20%5B40.4527808%2C%20-3.581211%5D%2C%20%5B40.4006459%2C%20-3.764952199999999%5D%2C%20%5B40.45377910000001%2C%20-3.697068100000001%5D%2C%20%5B40.46164419999999%2C%20-3.6977518%5D%2C%20%5B40.41220560000001%2C%20-3.7145289%5D%2C%20%5B40.4189085%2C%20-3.6982046%5D%2C%20%5B40.434364%2C%20-3.6738515%5D%2C%20%5B40.4243084%2C%20-3.7073927%5D%2C%20%5B40.40658670000001%2C%20-3.6945045%5D%2C%20%5B40.4136184%2C%20-3.7185609%5D%2C%20%5B40.416272600000006%2C%20-3.680099299999999%5D%2C%20%5B40.4020412%2C%20-3.6764043%5D%2C%20%5B40.455486%2C%20-3.6186405%5D%2C%20%5B40.3671131%2C%20-3.6632704%5D%2C%20%5B40.4279023%2C%20-3.6864227%5D%2C%20%5B40.3834021%2C%20-3.704723%5D%2C%20%5B40.3834021%2C%20-3.704723%5D%2C%20%5B40.3481703%2C%20-3.715135%5D%2C%20%5B40.46216010000001%2C%20-3.697816099999999%5D%2C%20%5B40.41079010000001%2C%20-3.6803226%5D%2C%20%5B40.36335820000001%2C%20-3.7459099%5D%2C%20%5B40.4586344%2C%20-3.6553135%5D%2C%20%5B40.4015048%2C%20-3.6926143%5D%2C%20%5B40.4015048%2C%20-3.6926143%5D%2C%20%5B40.42873370000001%2C%20-3.6669748%5D%2C%20%5B40.3754306%2C%20-3.6216022%5D%2C%20%5B40.4136696%2C%20-3.709268100000001%5D%2C%20%5B40.4297378%2C%20-3.6469299%5D%2C%20%5B40.4215151%2C%20-3.7078966%5D%2C%20%5B40.3956848%2C%20-3.7193166%5D%2C%20%5B40.4163156%2C%20-3.7030524%5D%2C%20%5B40.4178684%2C%20-3.692729%5D%2C%20%5B40.4583905%2C%20-3.7047709%5D%2C%20%5B40.4167754%2C%20-3.7037902%5D%2C%20%5B40.4152606%2C%20-3.6844995%5D%2C%20%5B40.4152606%2C%20-3.6844995%5D%2C%20%5B40.4167754%2C%20-3.7037902%5D%2C%20%5B40.411559%2C%20-3.6994721%5D%2C%20%5B40.442505%2C%20-3.5852239000000004%5D%2C%20%5B40.4259419%2C%20-3.6971762%5D%2C%20%5B40.4323271%2C%20-3.6976173%5D%2C%20%5B40.4230791%2C%20-3.6919271%5D%2C%20%5B40.50622420000001%2C%20-3.6465145%5D%2C%20%5B40.4308308%2C%20-3.6922442%5D%2C%20%5B40.4627496%2C%20-3.5882562999999994%5D%2C%20%5B40.4283092%2C%20-3.6961418%5D%2C%20%5B40.4140308%2C%20-3.7231884%5D%2C%20%5B40.37465%2C%20-3.71934%5D%2C%20%5B40.4115378%2C%20-3.6386608%5D%2C%20%5B40.4553953%2C%20-3.6772517%5D%2C%20%5B40.391353%2C%20-3.634538699999999%5D%2C%20%5B40.4844342%2C%20-3.7360301%5D%2C%20%5B40.4844342%2C%20-3.7360301%5D%2C%20%5B40.4253428%2C%20-3.686583999999999%5D%2C%20%5B40.41836929999999%2C%20-3.73076%5D%2C%20%5B40.4203936%2C%20-3.6618486%5D%2C%20%5B40.3946896%2C%20-3.721420900000001%5D%2C%20%5B40.4151488%2C%20-3.6705314%5D%2C%20%5B40.50348320000001%2C%20-3.709691%5D%2C%20%5B40.50348320000001%2C%20-3.709691%5D%2C%20%5B40.4154065%2C%20-3.6924756%5D%2C%20%5B40.41869620000001%2C%20-3.696432799999999%5D%2C%20%5B40.4446579%2C%20-3.6457982%5D%2C%20%5B40.3920206%2C%20-3.7582747%5D%2C%20%5B40.48402960000001%2C%20-3.6523723%5D%2C%20%5B40.453549%2C%20-3.6477346%5D%2C%20%5B40.4152865%2C%20-3.7123158%5D%2C%20%5B40.4162409%2C%20-3.6986966%5D%2C%20%5B40.4206051%2C%20-3.6992817%5D%2C%20%5B40.4070907%2C%20-3.6954341%5D%2C%20%5B40.3995373%2C%20-3.6715486%5D%2C%20%5B40.4476195%2C%20-3.669414499999999%5D%2C%20%5B40.44269110000001%2C%20-3.6202919%5D%2C%20%5B40.4215552%2C%20-3.722109999999999%5D%2C%20%5B40.418493100000006%2C%20-3.6891166%5D%2C%20%5B40.43569069999999%2C%20-3.6427568%5D%2C%20%5B40.4478955%2C%20-3.7275877%5D%2C%20%5B40.3869195%2C%20-3.6397568%5D%2C%20%5B40.4067172%2C%20-3.7636849%5D%2C%20%5B40.3739954%2C%20-3.6513933%5D%2C%20%5B40.44774810000001%2C%20-3.6492802%5D%2C%20%5B40.42934109999999%2C%20-3.6261991%5D%2C%20%5B40.4197419%2C%20-3.7488366%5D%2C%20%5B40.4112971%2C%20-3.6714837%5D%2C%20%5B40.4170383%2C%20-3.7017704%5D%2C%20%5B40.4252391%2C%20-3.6999072%5D%2C%20%5B40.4270278%2C%20-3.7015843%5D%2C%20%5B40.5048973%2C%20-3.6560233%5D%2C%20%5B40.4094013%2C%20-3.7019146%5D%2C%20%5B40.421346%2C%20-3.675677499999999%5D%2C%20%5B40.4406364%2C%20-3.6975976%5D%2C%20%5B40.38645%2C%20-3.63778%5D%2C%20%5B40.4755019%2C%20-3.6887103%5D%2C%20%5B40.4325961%2C%20-3.6826111%5D%2C%20%5B40.4230344%2C%20-3.6552851%5D%2C%20%5B40.4081979%2C%20-3.703037600000001%5D%2C%20%5B40.4708665%2C%20-3.6864873%5D%2C%20%5B40.39049650000001%2C%20-3.6415102%5D%2C%20%5B40.4124396%2C%20-3.7461241%5D%2C%20%5B40.39517410000001%2C%20-3.7202065%5D%2C%20%5B40.42476970000001%2C%20-3.6205823%5D%2C%20%5B40.4081979%2C%20-3.703037600000001%5D%2C%20%5B40.42954659999999%2C%20-3.7022065%5D%2C%20%5B40.3760075%2C%20-3.6188369%5D%2C%20%5B40.4051017%2C%20-3.6807097%5D%2C%20%5B40.49773709999999%2C%20-3.624167399999999%5D%2C%20%5B40.4152606%2C%20-3.6844995%5D%2C%20%5B40.47889139999999%2C%20-3.6528582%5D%2C%20%5B40.4272208%2C%20-3.706564%5D%2C%20%5B40.4259119%2C%20-3.6871651%5D%2C%20%5B40.45368920000001%2C%20-3.6042857%5D%2C%20%5B40.4581664%2C%20-3.6940663%5D%2C%20%5B40.3722048%2C%20-3.6405221%5D%2C%20%5B40.3464506%2C%20-3.702988%5D%2C%20%5B40.45368920000001%2C%20-3.6042857%5D%2C%20%5B40.3958136%2C%20-3.5902496%5D%2C%20%5B40.4317658%2C%20-3.656941%5D%2C%20%5B40.4172093%2C%20-3.7024276%5D%2C%20%5B40.42551599999999%2C%20-3.6908101%5D%2C%20%5B40.43249550000001%2C%20-3.6750806%5D%2C%20%5B40.4062048%2C%20-3.6757924%5D%2C%20%5B40.4750751%2C%20-3.6403455%5D%2C%20%5B40.3940044%2C%20-3.7359774%5D%2C%20%5B40.36205%2C%20-3.689835%5D%2C%20%5B40.423216%2C%20-3.6357839%5D%2C%20%5B40.38564210000001%2C%20-3.6369406%5D%2C%20%5B40.4091069%2C%20-3.670210399999999%5D%2C%20%5B40.3989883%2C%20-3.685439%5D%2C%20%5B40.4840629%2C%20-3.652571999999999%5D%2C%20%5B40.4985374%2C%20-3.7084772%5D%2C%20%5B40.39179160000001%2C%20-3.7263352%5D%2C%20%5B40.4583935%2C%20-3.6158008%5D%2C%20%5B40.4422785%2C%20-3.689641099999999%5D%2C%20%5B40.43484%2C%20-3.65632%5D%2C%20%5B40.4499815%2C%20-3.703513499999999%5D%2C%20%5B40.45228779999999%2C%20-3.708950100000001%5D%2C%20%5B40.38016070000001%2C%20-3.7305885%5D%2C%20%5B40.38016070000001%2C%20-3.7305885%5D%2C%20%5B40.4469595%2C%20-3.7019808%5D%2C%20%5B40.429957%2C%20-3.6004787000000005%5D%2C%20%5B40.3952736%2C%20-3.7153151%5D%2C%20%5B40.421263%2C%20-3.6735727%5D%2C%20%5B40.3958136%2C%20-3.5902496%5D%2C%20%5B40.426258%2C%20-3.6933151%5D%2C%20%5B40.41958820000001%2C%20-3.6085604%5D%2C%20%5B40.4319277%2C%20-3.7208752%5D%2C%20%5B40.3738383%2C%20-3.7387161%5D%2C%20%5B40.4186387%2C%20-3.6966751%5D%2C%20%5B40.4416775%2C%20-3.669872299999999%5D%2C%20%5B40.4664101%2C%20-3.5867946%5D%2C%20%5B40.3738383%2C%20-3.7387161%5D%2C%20%5B40.418844%2C%20-3.695847600000001%5D%2C%20%5B40.4209802%2C%20-3.685362000000001%5D%2C%20%5B40.42692%2C%20-3.69695%5D%2C%20%5B40.4307284%2C%20-3.6875812%5D%2C%20%5B40.41831129999999%2C%20-3.6948933%5D%2C%20%5B40.38630939999999%2C%20-3.7124427%5D%2C%20%5B40.39718320000001%2C%20-3.7165855%5D%2C%20%5B40.4246925%2C%20-3.6942378%5D%2C%20%5B40.4198527%2C%20-3.6993808%5D%2C%20%5B40.4149508%2C%20-3.6893051%5D%2C%20%5B40.44997670000001%2C%20-3.6916087%5D%2C%20%5B40.38327620000001%2C%20-3.6997299%5D%2C%20%5B40.40723%2C%20-3.71099%5D%2C%20%5B40.4448139%2C%20-3.7097175%5D%2C%20%5B40.4428389%2C%20-3.7047633%5D%2C%20%5B40.4326855%2C%20-3.7271515%5D%2C%20%5B40.4328997%2C%20-3.6914927%5D%2C%20%5B40.4325862%2C%20-3.6897885%5D%2C%20%5B40.41351179999999%2C%20-3.7108092%5D%2C%20%5B40.37524929999999%2C%20-3.702237899999999%5D%2C%20%5B40.3734376%2C%20-3.627955899999999%5D%2C%20%5B40.393293%2C%20-3.6783078%5D%2C%20%5B40.4081271%2C%20-3.6455594%5D%2C%20%5B40.41838920000001%2C%20-3.6968156%5D%2C%20%5B40.4343928%2C%20-3.7234957%5D%2C%20%5B40.40731419999999%2C%20-3.7433491%5D%2C%20%5B40.4025589%2C%20-3.7008845%5D%2C%20%5B40.4025589%2C%20-3.7008845%5D%2C%20%5B40.4609216%2C%20-3.6050151%5D%2C%20%5B40.420995%2C%20-3.6845087%5D%2C%20%5B40.40050720000001%2C%20-3.6853298%5D%2C%20%5B40.4041831%2C%20-3.6963935%5D%2C%20%5B40.4609216%2C%20-3.6050151%5D%2C%20%5B40.3713969%2C%20-3.6905127%5D%2C%20%5B40.4562929%2C%20-3.6813796%5D%2C%20%5B40.4013714%2C%20-3.6038548%5D%2C%20%5B40.4224047%2C%20-3.7024731%5D%2C%20%5B40.40485820000001%2C%20-3.742601%5D%2C%20%5B40.42868%2C%20-3.70587%5D%2C%20%5B40.4009743%2C%20-3.7140712%5D%2C%20%5B40.4636363%2C%20-3.688921199999999%5D%2C%20%5B40.41397449999999%2C%20-3.720948%5D%2C%20%5B40.3781829%2C%20-3.6068016%5D%2C%20%5B40.5278709%2C%20-3.6917822%5D%2C%20%5B40.4036984%2C%20-3.69584%5D%2C%20%5B40.4475018%2C%20-3.7040748%5D%2C%20%5B40.4571339%2C%20-3.6909308%5D%2C%20%5B40.3760954%2C%20-3.6040636%5D%2C%20%5B40.4293535%2C%20-3.706304899999999%5D%2C%20%5B40.4582468%2C%20-3.7693299%5D%2C%20%5B40.4582468%2C%20-3.7693299%5D%2C%20%5B40.4032861%2C%20-3.7131205%5D%2C%20%5B40.46667730000001%2C%20-3.7030542%5D%2C%20%5B40.4718048%2C%20-3.6791751000000006%5D%2C%20%5B40.37753%2C%20-3.66868%5D%2C%20%5B40.4053643%2C%20-3.7125905%5D%2C%20%5B40.4893173%2C%20-3.6456081%5D%2C%20%5B40.3917214%2C%20-3.7520592000000006%5D%2C%20%5B40.4242084%2C%20-3.7087872%5D%2C%20%5B40.4205075%2C%20-3.7051796%5D%2C%20%5B40.407458%2C%20-3.707466%5D%2C%20%5B40.4432851%2C%20-3.677818100000001%5D%2C%20%5B40.4068699%2C%20-3.6700977%5D%2C%20%5B40.4595378%2C%20-3.7190628%5D%2C%20%5B40.4138002%2C%20-3.7131411%5D%2C%20%5B40.4285814%2C%20-3.7062896%5D%2C%20%5B40.4367555%2C%20-3.6368595%5D%2C%20%5B40.4367555%2C%20-3.6368595%5D%2C%20%5B40.45480999999999%2C%20-3.65512%5D%2C%20%5B40.4523929%2C%20-3.710095999999999%5D%2C%20%5B40.4093402%2C%20-3.693189%5D%2C%20%5B40.4234318%2C%20-3.7144172%5D%2C%20%5B40.44488670000001%2C%20-3.6780089%5D%2C%20%5B40.4057279%2C%20-3.6755623%5D%2C%20%5B40.4063205%2C%20-3.7095131%5D%2C%20%5B40.4993519%2C%20-3.6565912%5D%2C%20%5B40.4383347%2C%20-3.626685999999999%5D%2C%20%5B40.466739%2C%20-3.7097365%5D%2C%20%5B40.4305853%2C%20-3.689041000000001%5D%2C%20%5B40.37465%2C%20-3.71934%5D%2C%20%5B40.4305025%2C%20-3.6633714%5D%2C%20%5B40.4032864%2C%20-3.679029899999999%5D%2C%20%5B40.4302701%2C%20-3.6860725%5D%2C%20%5B40.37371%2C%20-3.732699999999999%5D%2C%20%5B40.381186%2C%20-3.7113701%5D%2C%20%5B40.496777%2C%20-3.6531956%5D%2C%20%5B40.4355227%2C%20-3.7182634%5D%2C%20%5B40.4391509%2C%20-3.7140943%5D%2C%20%5B40.406115%2C%20-3.7101352%5D%2C%20%5B40.432627200000006%2C%20-3.6527196%5D%2C%20%5B40.4556302%2C%20-3.6817024%5D%2C%20%5B40.3649226%2C%20-3.618416399999999%5D%2C%20%5B40.4058587%2C%20-3.6871171%5D%2C%20%5B40.4365621%2C%20-3.7165515%5D%2C%20%5B40.4568732%2C%20-3.6541276%5D%2C%20%5B40.4259748%2C%20-3.726996%5D%2C%20%5B40.3676133%2C%20-3.7622176%5D%2C%20%5B40.43074470000001%2C%20-3.6019198%5D%2C%20%5B40.406302200000006%2C%20-3.7016333%5D%2C%20%5B40.430071100000006%2C%20-3.6099678%5D%2C%20%5B40.413696%2C%20-3.7179995%5D%2C%20%5B40.4006459%2C%20-3.764952199999999%5D%2C%20%5B40.4137895%2C%20-3.7128811%5D%2C%20%5B40.4121412%2C%20-3.693407%5D%2C%20%5B40.441204600000006%2C%20-3.6917359%5D%2C%20%5B40.416668%2C%20-3.705893199999999%5D%2C%20%5B40.4220368%2C%20-3.6119615%5D%2C%20%5B40.3892107%2C%20-3.6443982%5D%2C%20%5B40.3996275%2C%20-3.7332813%5D%2C%20%5B40.3757563%2C%20-3.7027811%5D%2C%20%5B40.4101394%2C%20-3.670151%5D%2C%20%5B40.4522234%2C%20-3.703975100000001%5D%2C%20%5B40.37793900000001%2C%20-3.608275599999999%5D%2C%20%5B40.3970591%2C%20-3.6647575%5D%2C%20%5B40.3738382%2C%20-3.6890978%5D%2C%20%5B40.383720200000006%2C%20-3.764270299999999%5D%2C%20%5B40.383720200000006%2C%20-3.764270299999999%5D%2C%20%5B40.42734420000001%2C%20-3.6946158%5D%2C%20%5B40.3804731%2C%20-3.7031074%5D%2C%20%5B40.4463341%2C%20-3.6667426%5D%2C%20%5B40.3708169%2C%20-3.712332%5D%2C%20%5B40.4084%2C%20-3.67061%5D%2C%20%5B40.4236502%2C%20-3.692654%5D%2C%20%5B40.4052646%2C%20-3.7162936%5D%2C%20%5B40.4368949%2C%20-3.6998677%5D%2C%20%5B40.4222487%2C%20-3.7124533%5D%2C%20%5B40.3738383%2C%20-3.7387161%5D%2C%20%5B40.4346816%2C%20-3.667172%5D%2C%20%5B40.431931%2C%20-3.697866%5D%2C%20%5B40.3958877%2C%20-3.7093922999999993%5D%2C%20%5B40.4379943%2C%20-3.6935064%5D%2C%20%5B40.4088547%2C%20-3.6301027%5D%2C%20%5B40.4355227%2C%20-3.7182634%5D%2C%20%5B40.3927248%2C%20-3.6915635%5D%2C%20%5B40.4006459%2C%20-3.764952199999999%5D%2C%20%5B40.4619246%2C%20-3.7006834%5D%2C%20%5B40.438889%2C%20-3.719444%5D%2C%20%5B40.4264676%2C%20-3.625966000000001%5D%2C%20%5B40.4241396%2C%20-3.7076358%5D%2C%20%5B40.4461361%2C%20-3.6991767%5D%2C%20%5B40.4139115%2C%20-3.716856899999999%5D%2C%20%5B40.3928407%2C%20-3.6887971%5D%2C%20%5B40.42551599999999%2C%20-3.6908101%5D%2C%20%5B40.4214327%2C%20-3.6829013%5D%2C%20%5B40.369187%2C%20-3.7558087%5D%2C%20%5B40.4224128%2C%20-3.7089378%5D%2C%20%5B40.4346519%2C%20-3.6449207%5D%2C%20%5B40.422937%2C%20-3.634938%5D%2C%20%5B40.4307284%2C%20-3.6875812%5D%2C%20%5B40.4442304%2C%20-3.644081%5D%2C%20%5B40.46196810000001%2C%20-3.5898104%5D%2C%20%5B40.4386777%2C%20-3.7042082%5D%2C%20%5B40.419184%2C%20-3.6962013%5D%2C%20%5B40.39866230000001%2C%20-3.6964201%5D%2C%20%5B40.41505460000001%2C%20-3.7135106%5D%2C%20%5B40.4003693%2C%20-3.6364979%5D%2C%20%5B40.4280795%2C%20-3.675111100000001%5D%2C%20%5B40.43237620000001%2C%20-3.7192005%5D%2C%20%5B40.4199618%2C%20-3.6994846%5D%2C%20%5B40.4007206%2C%20-3.6993147%5D%2C%20%5B40.4259357%2C%20-3.603244499999999%5D%2C%20%5B40.45748469999999%2C%20-3.7014739%5D%2C%20%5B40.416463%2C%20-3.7046732%5D%2C%20%5B40.4431321%2C%20-3.6108441%5D%2C%20%5B40.40676970000001%2C%20-3.7119222%5D%2C%20%5B40.40676970000001%2C%20-3.7119222%5D%2C%20%5B40.4076323%2C%20-3.6884431%5D%2C%20%5B40.4223818%2C%20-3.6921742%5D%2C%20%5B40.4023195%2C%20-3.7297086%5D%2C%20%5B40.4086372%2C%20-3.6906168%5D%2C%20%5B40.392387%2C%20-3.7233988%5D%2C%20%5B40.4230021%2C%20-3.6974233%5D%2C%20%5B40.3897863%2C%20-3.701213%5D%2C%20%5B40.4070907%2C%20-3.6954341%5D%2C%20%5B40.4361469%2C%20-3.6005712%5D%2C%20%5B40.4287031%2C%20-3.715183699999999%5D%2C%20%5B40.4057279%2C%20-3.6755623%5D%2C%20%5B40.45647700000001%2C%20-3.7121493%5D%2C%20%5B40.43288270000001%2C%20-3.6933358%5D%2C%20%5B40.488892%2C%20-3.6085718%5D%2C%20%5B40.4137675%2C%20-3.7087716%5D%2C%20%5B40.3958834%2C%20-3.7475756%5D%2C%20%5B40.38643829999999%2C%20-3.7348506%5D%2C%20%5B40.4225901%2C%20-3.7100065%5D%2C%20%5B40.415537%2C%20-3.6778476%5D%5D%2C%0A%20%20%20%20%20%20%20%20%20%20%20%20%20%20%20%20%7B%22blur%22%3A%2015%2C%20%22maxZoom%22%3A%2018%2C%20%22minOpacity%22%3A%200.5%2C%20%22radius%22%3A%2015%7D%0A%20%20%20%20%20%20%20%20%20%20%20%20%29.addTo%28feature_group_316b88a86463422486ae31d236f2b888%29%3B%0A%20%20%20%20%20%20%20%20%0A%20%20%20%20%0A%20%20%20%20%20%20%20%20%20%20%20%20var%20layer_control_aea3a40cad5a4da88dee5e44841272d9%20%3D%20%7B%0A%20%20%20%20%20%20%20%20%20%20%20%20%20%20%20%20base_layers%20%3A%20%7B%0A%20%20%20%20%20%20%20%20%20%20%20%20%20%20%20%20%20%20%20%20%22openstreetmap%22%20%3A%20tile_layer_41f604ba419a4fc99c642b1e36f44569%2C%0A%20%20%20%20%20%20%20%20%20%20%20%20%20%20%20%20%7D%2C%0A%20%20%20%20%20%20%20%20%20%20%20%20%20%20%20%20overlays%20%3A%20%20%7B%0A%20%20%20%20%20%20%20%20%20%20%20%20%20%20%20%20%20%20%20%20%22Ma%5Cu00f1ana%22%20%3A%20feature_group_82b8d002fff7446eba4c7927872defb0%2C%0A%20%20%20%20%20%20%20%20%20%20%20%20%20%20%20%20%20%20%20%20%22Tarde%22%20%3A%20feature_group_316b88a86463422486ae31d236f2b888%2C%0A%20%20%20%20%20%20%20%20%20%20%20%20%20%20%20%20%7D%2C%0A%20%20%20%20%20%20%20%20%20%20%20%20%7D%3B%0A%20%20%20%20%20%20%20%20%20%20%20%20L.control.layers%28%0A%20%20%20%20%20%20%20%20%20%20%20%20%20%20%20%20layer_control_aea3a40cad5a4da88dee5e44841272d9.base_layers%2C%0A%20%20%20%20%20%20%20%20%20%20%20%20%20%20%20%20layer_control_aea3a40cad5a4da88dee5e44841272d9.overlays%2C%0A%20%20%20%20%20%20%20%20%20%20%20%20%20%20%20%20%7B%22autoZIndex%22%3A%20true%2C%20%22collapsed%22%3A%20false%2C%20%22position%22%3A%20%22topright%22%7D%0A%20%20%20%20%20%20%20%20%20%20%20%20%29.addTo%28map_fd7fd332e50d407fb138922cbd925912%29%3B%0A%20%20%20%20%20%20%20%20%0A%3C/script%3E onload=\"this.contentDocument.open();this.contentDocument.write(    decodeURIComponent(this.getAttribute('data-html')));this.contentDocument.close();\" allowfullscreen webkitallowfullscreen mozallowfullscreen></iframe></div></div>"
      ],
      "text/plain": [
       "<folium.folium.Map at 0x2b0ae3b32e0>"
      ]
     },
     "execution_count": 12,
     "metadata": {},
     "output_type": "execute_result"
    }
   ],
   "source": [
    "folium.LayerControl(collapsed=False).add_to(map_3)\n",
    "map_3"
   ]
  },
  {
   "cell_type": "code",
   "execution_count": 13,
   "metadata": {},
   "outputs": [],
   "source": [
    "map_3.save('data/primerito_mapa')"
   ]
  },
  {
   "cell_type": "code",
   "execution_count": null,
   "metadata": {},
   "outputs": [],
   "source": []
  }
 ],
 "metadata": {
  "kernelspec": {
   "display_name": "Python 3",
   "language": "python",
   "name": "python3"
  },
  "language_info": {
   "codemirror_mode": {
    "name": "ipython",
    "version": 3
   },
   "file_extension": ".py",
   "mimetype": "text/x-python",
   "name": "python",
   "nbconvert_exporter": "python",
   "pygments_lexer": "ipython3",
   "version": "3.8.5"
  },
  "toc": {
   "base_numbering": 1,
   "nav_menu": {},
   "number_sections": true,
   "sideBar": true,
   "skip_h1_title": false,
   "title_cell": "Table of Contents",
   "title_sidebar": "Contents",
   "toc_cell": false,
   "toc_position": {},
   "toc_section_display": true,
   "toc_window_display": false
  },
  "varInspector": {
   "cols": {
    "lenName": 16,
    "lenType": 16,
    "lenVar": 40
   },
   "kernels_config": {
    "python": {
     "delete_cmd_postfix": "",
     "delete_cmd_prefix": "del ",
     "library": "var_list.py",
     "varRefreshCmd": "print(var_dic_list())"
    },
    "r": {
     "delete_cmd_postfix": ") ",
     "delete_cmd_prefix": "rm(",
     "library": "var_list.r",
     "varRefreshCmd": "cat(var_dic_list()) "
    }
   },
   "types_to_exclude": [
    "module",
    "function",
    "builtin_function_or_method",
    "instance",
    "_Feature"
   ],
   "window_display": false
  }
 },
 "nbformat": 4,
 "nbformat_minor": 4
}
